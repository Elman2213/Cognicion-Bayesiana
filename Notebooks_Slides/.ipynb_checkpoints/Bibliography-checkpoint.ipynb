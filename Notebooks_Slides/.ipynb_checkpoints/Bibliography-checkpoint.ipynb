{
 "cells": [
  {
   "cell_type": "code",
   "execution_count": null,
   "metadata": {},
   "outputs": [],
   "source": [
    " <!--bibtex\n",
    "@article{Strandburg-Peshkin2015,\n",
    "author = {Strandburg-Peshkin, A and Farine, D R and Couzin, I D and Crofoot, M C},\n",
    "journal = {Science},\n",
    "number = {6241},\n",
    "pages = {1358--1361},\n",
    "title = {{Shared decision-making drives collective movement in wild baboons}},\n",
    "volume = {348},\n",
    "year = {2015}\n",
    "}\n",
    "\n",
    "    -->"
   ]
  }
 ],
 "metadata": {
  "kernelspec": {
   "display_name": "Python 3",
   "language": "python",
   "name": "python3"
  },
  "language_info": {
   "codemirror_mode": {
    "name": "ipython",
    "version": 3
   },
   "file_extension": ".py",
   "mimetype": "text/x-python",
   "name": "python",
   "nbconvert_exporter": "python",
   "pygments_lexer": "ipython3",
   "version": "3.7.6"
  }
 },
 "nbformat": 4,
 "nbformat_minor": 4
}
