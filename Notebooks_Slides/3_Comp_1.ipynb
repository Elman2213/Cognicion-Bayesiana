{
 "cells": [
  {
   "cell_type": "code",
   "execution_count": 1,
   "metadata": {
    "slideshow": {
     "slide_type": "skip"
    }
   },
   "outputs": [],
   "source": [
    "#Manejo de matrices y tablas\n",
    "import numpy as np\n",
    "import pandas as pd\n",
    "\n",
    "#Estadistica y funciones matemáticas\n",
    "import scipy.stats as st\n",
    "from scipy.optimize import fmin\n",
    "from scipy import integrate\n",
    "\n",
    "#Graficas\n",
    "import seaborn as sns\n",
    "import plotly.graph_objects as go\n",
    "import altair as alt\n",
    "from altair_saver import save #ademas instalar en terminal: brew cask install chromedriver\n",
    "import matplotlib.pyplot as plt\n",
    "from matplotlib import cm\n",
    "from matplotlib.gridspec import GridSpec\n",
    "from matplotlib import animation, rc\n",
    "from IPython.display import display, HTML, Markdown\n",
    "import ipywidgets as widgets\n",
    "from ipywidgets import interact, interactive, fixed, HBox, VBox, Layout\n",
    "from graphviz import Source, Digraph\n",
    "import dot2tex as d2t\n",
    "from latex import build_pdf\n",
    "from mpl_toolkits.mplot3d import axes3d\n"
   ]
  },
  {
   "cell_type": "markdown",
   "metadata": {
    "slideshow": {
     "slide_type": "slide"
    }
   },
   "source": [
    "# Métodos computacionales para obtener la posterior\n",
    "Santiago Alonso-Díaz, PhD <br>\n",
    "Universidad Javeriana"
   ]
  },
  {
   "cell_type": "markdown",
   "metadata": {
    "slideshow": {
     "slide_type": "slide"
    }
   },
   "source": [
    "Ideal: soluciones analíticas (formulas)<br>\n",
    "Realidad: muy difícil de conseguir <br>\n",
    "Solución: métodos computacionales (algoritmos)\n",
    "\n",
    "<center><img src=\"img/3_CB/MCMC_robot.svg\" width = \"1000\" height = '1000'></center>"
   ]
  },
  {
   "cell_type": "markdown",
   "metadata": {
    "slideshow": {
     "slide_type": "subslide"
    }
   },
   "source": [
    "Es una métafora. Muchas preguntas:<br>\n",
    "¿Qué es la montaña? <br>\n",
    "¿Qué entiende el algoritmo por \"abismo\"?<br>\n",
    "¿Dónde se inicia? <br>\n",
    "¿Tiene que ir a las otras montañas?\n",
    "\n",
    "<center><img src=\"img/3_CB/MCMC_robot.svg\" width = \"1000\" height = '1000'></center>"
   ]
  },
  {
   "cell_type": "markdown",
   "metadata": {
    "slideshow": {
     "slide_type": "slide"
    }
   },
   "source": [
    "# Intro. Markov"
   ]
  },
  {
   "cell_type": "markdown",
   "metadata": {
    "slideshow": {
     "slide_type": "subslide"
    }
   },
   "source": [
    "La data puede no ser normal. Por ejemplo, con varias modas:\n",
    "\n",
    "<center><img src=\"img/3_CB/3modes.svg\" width = \"600\" height = '600'></center>\n",
    "\n",
    "Es data hipótetica, pero ¿qué piensan que puede ser cada moda?"
   ]
  },
  {
   "cell_type": "markdown",
   "metadata": {
    "slideshow": {
     "slide_type": "subslide"
    }
   },
   "source": [
    "¿Qué pasa si imponemos un modelo normal no jerárquico?<br>\n",
    " \n",
    "<center><img src=\"img/3_CB/3modes_posterior.svg\" width = \"600\" height = '600'></center>\n",
    "\n",
    "No sirve. Y obtener una expresión matemática puede no ser fácil.\n"
   ]
  },
  {
   "cell_type": "markdown",
   "metadata": {
    "slideshow": {
     "slide_type": "subslide"
    }
   },
   "source": [
    "Métodos computacionales nos pueden ayudar a pensar modelos más elaborados.\n",
    "\n",
    "Vamos a centrarnos en algoritmos `MCMC`."
   ]
  },
  {
   "cell_type": "markdown",
   "metadata": {
    "slideshow": {
     "slide_type": "subslide"
    }
   },
   "source": [
    "Primero recordemos que significa que un proceso sea de tipo `Markov`"
   ]
  },
  {
   "cell_type": "markdown",
   "metadata": {
    "slideshow": {
     "slide_type": "subslide"
    }
   },
   "source": [
    "Proceso Markov (s: state):\n",
    "$$p(s_1,s_2, s_3, ..., s_n) = p(s_1)p(s_2|s_1)p(s_3|s_2) ... p(s_n|s_{n-1}) $$\n"
   ]
  },
  {
   "cell_type": "markdown",
   "metadata": {
    "slideshow": {
     "slide_type": "fragment"
    }
   },
   "source": [
    "En lenguaje natural:\n",
    "\n",
    "No hay memoria de toda la secuencia. Solo hay acceso al estado actual para determinar la probabilidad del siguiente estado."
   ]
  },
  {
   "cell_type": "markdown",
   "metadata": {
    "slideshow": {
     "slide_type": "subslide"
    }
   },
   "source": [
    "Todo proceso Markoviano tiene transiciones de probabilidad de un estado al otro\n",
    "\n",
    "<center><img src=\"img/3_CB/markov1.gv.svg\" width = \"650\" height = '650'></center>\n"
   ]
  },
  {
   "cell_type": "markdown",
   "metadata": {
    "slideshow": {
     "slide_type": "subslide"
    }
   },
   "source": [
    "Otro ejemplo\n",
    "\n",
    "<center><img src=\"img/3_CB/Monopolio.png\" width = \"400\" height = '400'></center>"
   ]
  },
  {
   "cell_type": "markdown",
   "metadata": {
    "slideshow": {
     "slide_type": "subslide"
    }
   },
   "source": [
    "Otro ejemplo ... debate: ¿es el lenguaje Markoviano?\n",
    "\n",
    "<center><img src=\"img/3_CB/markov2.gv.svg\" width = \"650\" height = '650'></center>"
   ]
  },
  {
   "cell_type": "markdown",
   "metadata": {
    "slideshow": {
     "slide_type": "slide"
    }
   },
   "source": [
    "# Bayes y Markov (MCMC)\n",
    "\n",
    "| <img src=\"img/2_CB/Thomas_Bayes.gif\" width = \"200\" height = '200'>  | <img src=\"img/3_CB/AAMarkov.jpg\" width = \"200\" height = '200'> |\n",
    "|:---:|:---:|\n",
    "|     |     |\n"
   ]
  },
  {
   "cell_type": "markdown",
   "metadata": {
    "slideshow": {
     "slide_type": "subslide"
    }
   },
   "source": [
    "¿Qué tiene que ver esto con una posterior Bayesiana?\n",
    "\n",
    "Un modelo de desigualdad en educación en puntajes debería incluir variables latentes escasas (Quarles, 2020): recursos sociales, académicos, emocionales, y económicos. <br>\n",
    "¿Como tomar una muestra? Muestra: un puntaje, dada las variables. \n",
    "\n",
    "<center><img src=\"img/3_CB/3modes.svg\" width = \"400\" height = '400'></center>"
   ]
  },
  {
   "cell_type": "markdown",
   "metadata": {
    "slideshow": {
     "slide_type": "subslide"
    }
   },
   "source": [
    "Problema: tomar muestras (valores) de modelos <br>\n",
    "Solución: algoritmo MCMC (las probabilidades de transición y aceptar son el algoritmo)\n",
    "<center><img src=\"img/3_CB/markov3.gv.svg\" width = \"650\" height = '650'></center>"
   ]
  },
  {
   "cell_type": "markdown",
   "metadata": {
    "slideshow": {
     "slide_type": "subslide"
    }
   },
   "source": [
    "Acá una animación de un algoritmo MCMC en acción. <br>\n",
    "Idea básica: se propone una muestra (markoviana) y algoritmo acepta o rechaza.\n",
    "\n",
    "<center><img src=\"img/3_CB/MCMC_animation.gif\" width = \"651\" height = '650'></center>\n",
    "\n",
    "<p style = 'font-size: 15px'>Fuente: https://blog.stata.com/2016/11/15/introduction-to-bayesian-statistics-part-2-mcmc-and-the-metropolis-hastings-algorithm/ </p>"
   ]
  },
  {
   "cell_type": "markdown",
   "metadata": {
    "slideshow": {
     "slide_type": "subslide"
    }
   },
   "source": [
    "Aclaraciones iniciales:\n",
    "* Podemos samplear posteriors no estandarizados (sin el denominador de Bayes).\n",
    "* Usamos logaritmos para evitar over y underflows (productos son sumas en logaritmos).\n",
    "* Pensemos MCMC como una estrategia para visitar \"terreno\", proporcional a su importancia (siguiente diapositiva)\n"
   ]
  },
  {
   "cell_type": "markdown",
   "metadata": {
    "slideshow": {
     "slide_type": "subslide"
    }
   },
   "source": [
    "Metafora del político (Kruschke, 2014). \n",
    "\n",
    "Problema: Dar un discurso en el Estadio Campin. La candidata quiere que el estadio se llene proporcional a la población de las localidades.\n",
    "\n",
    "<center><img src=\"img/3_CB/localidades_bogota.jpg\" width = \"550\" height = '550'></center>"
   ]
  },
  {
   "cell_type": "markdown",
   "metadata": {
    "slideshow": {
     "slide_type": "subslide"
    }
   },
   "source": [
    "Estrategia:\n",
    "\n",
    "1. Empezar a reclutar en alguna localidad aleatoria.\n",
    "\n",
    "2. Para ir a otra, lanzar una moneda norte-sur u oriente-occidente. Otro lanzamiento para subdirección (e.g. norte)\n",
    "\n",
    "3. Si la localidad propuesta tiene más población, ir con certeza. Si tiene menos, ir probabilísticamente. Por ejemplo, si tiene 50% de la población ir con 50% de probabilidad a la nueva localidad, de lo contrario seguir en la actual.\n",
    "\n",
    "4. De forma general, $Prob_{moverse} = min(\\frac{poblacion_{propuesta}}{poblacion_{actual}},1)$\n",
    "\n",
    "<center><img src=\"img/3_CB/localidades_bogota.jpg\" width = \"250\" height = '250'></center>\n",
    "\n",
    "Esta heurística es eficiente en el largo plazo: visitamos las localidades proporcional a su población."
   ]
  },
  {
   "cell_type": "markdown",
   "metadata": {
    "slideshow": {
     "slide_type": "subslide"
    }
   },
   "source": [
    "Traducción metáfora:<br>\n",
    "Localidades -> Regiones de la función <br>\n",
    "Población localidad -> Nivel de la función en una región <br>\n",
    "Individuo confirmado -> Muestra\n",
    "\n",
    "<center><img src=\"img/3_CB/3Density.svg\" width = \"650\" height = '650'></center>\n"
   ]
  },
  {
   "cell_type": "markdown",
   "metadata": {
    "slideshow": {
     "slide_type": "subslide"
    }
   },
   "source": [
    "Hay muchas versiones de MCMC (Gibbs, Metropolis, Hamiltonian). A nivel general, muchas comparten la siguiente estructura:\n",
    "\n",
    "1. Posición inicial (muestra actual)\n",
    "2. Propuesta a donde moverse (muestra propuesta)\n",
    "3. Aceptar/rechazar propuesta basado en que tanto respeta la data y priors.\n",
    "4. Si se acepta, moverse a la propuesta. Si se rechaza, seguir en posición actual.\n",
    "5. Repetir desde paso 1.\n",
    "6. Repetir 1-5 por iteraciones o muestras requeridas."
   ]
  },
  {
   "cell_type": "markdown",
   "metadata": {
    "slideshow": {
     "slide_type": "slide"
    }
   },
   "source": [
    "# Preambulo ejemplos\n",
    "\n",
    "Los lenguajes como Python, R, Julia ya tienen funciones que nos permiten tomar muestras. \n",
    "\n",
    "Pienselas como ladrillos que nos van a permitir tomar muestras de posteriors complicados.\n",
    "\n",
    "Actividad: busque en Internet cómo funcionan las funciones .pdf,.cdf,.rvs de scipy.stats:\n",
    "* scipy.stats.norm.pdf; scipy.stats.norm.cdf; scipy.stats.norm.rvs\n",
    "* scipy.stats.multivariate_normal.pdf; scipy.stats.multivariate_normal.cdf; scipy.stats.multivariate_normal.rvs\n",
    "* scipy.stats.beta.pdf; scipy.stats.beta.cdf; scipy.stats.beta.rvs\n",
    "* scipy.stats.dirichlet.pdf; scipy.stats.dirichlet.cdf; scipy.stats.dirichlet.rvs"
   ]
  },
  {
   "cell_type": "markdown",
   "metadata": {
    "slideshow": {
     "slide_type": "slide"
    }
   },
   "source": [
    "# Ejemplo 1 MCMC: Gibbs Sampler\n",
    "\n",
    "Vamos a ver dos ejemplos: Gibbs y Metropolis.\n",
    "\n",
    "En la práctica, usaremos rutinas MCMC en paquetes python (PyMC, Edward). Pero vale la pena ver estos dos ejemplos por: \n",
    "* Clásicos\n",
    "* Generar intuición de métodos MCMC"
   ]
  },
  {
   "cell_type": "markdown",
   "metadata": {
    "slideshow": {
     "slide_type": "subslide"
    }
   },
   "source": [
    "La imagen muestra la distribución real de unas variables <br>\n",
    "El primer método MCMC a ver, para tomar muestras de espacios multidimensionales similares, es Gibbs. <br>\n",
    "Veamos el caso multivariado normal.\n",
    "\n",
    "<center><img src=\"img/3_CB/bivariate_normal.svg\" width = \"400\" height = '400'></center>\n"
   ]
  },
  {
   "cell_type": "markdown",
   "metadata": {
    "slideshow": {
     "slide_type": "subslide"
    }
   },
   "source": [
    "Enfoquemonos en dos dimensiones: p(var1, var1). \n",
    "\n",
    "Pongamosle nombres a las variables: p(confianza, impaciencia). La imagen muestra que hay correlación negativa (e.g. Kidd, 2013).\n",
    "\n",
    "<center><img src=\"img/3_CB/bivariate_normal.svg\" width = \"401\" height = '400'></center>"
   ]
  },
  {
   "cell_type": "markdown",
   "metadata": {
    "slideshow": {
     "slide_type": "subslide"
    }
   },
   "source": [
    "La idea básica detrás de Gibbs:\n",
    "* Suponga que conocemos pero es difícil tomar muestras de la distribución conjunta $p(confianza, impaciencia)$\n",
    "\n",
    "* Suponga que es fácil tomarlas de las condicionadas: $p(confianza|impaciencia)$ y de $p(impaciencia|confianza)$. Por ejemplo, ambas son normales.\n",
    "\n",
    "* El algoritmo hace lo siguiente:\n",
    "    1. Pone valores iniciales a confianza y paciencia.\n",
    "    2. Toma una muestra aleatoria de $p(confianza|impaciencia)$,\n",
    "    3. Luego una de $p(impaciencia|confianza)$, \n",
    "    4. Repite 2 y 3 hasta tener suficientes muestras.\n"
   ]
  },
  {
   "cell_type": "markdown",
   "metadata": {
    "slideshow": {
     "slide_type": "subslide"
    }
   },
   "source": [
    "Para Gibbs necesitamos:\n",
    "* Conjunta:\n",
    "\n",
    "\\begin{equation}\n",
    "p(conf, impa) \\sim N\\left( \n",
    "\\begin{bmatrix}\n",
    "\\mu_{conf} \\\\\n",
    "\\mu_{impa} \n",
    "\\end{bmatrix}\n",
    "\\begin{bmatrix}\n",
    "1 & \\rho_{conf,impa} \\\\\n",
    "\\rho_{conf,impa} & 1 \n",
    "\\end{bmatrix}\n",
    "\\right)\n",
    "\\end{equation}\n",
    "\n",
    "* Condicionales <span style = 'font-size: 10px'> (no lo demostramos acá, pero esta es la formula de las condicionadas para una multivariada normal)</span> \n",
    "<br><br>\n",
    "\n",
    "\\begin{equation}\n",
    "p(conf|impa) \\sim N(\\mu_{conf} + \\rho_{conf,impa}(impa-\\mu_{impa}),1-\\rho_{conf,impa}^2))\n",
    "\\end{equation}\n",
    "\n",
    "\\begin{equation}\n",
    "p(impa|conf) \\sim N(\\mu_{impa} + \\rho_{conf,impa}(conf-\\mu_{conf}),1-\\rho_{conf,impa}^2))\n",
    "\\end{equation}\n",
    "\n",
    "Ahora solo resta aplicar el algoritmo.\n"
   ]
  },
  {
   "cell_type": "code",
   "execution_count": 2,
   "metadata": {
    "slideshow": {
     "slide_type": "subslide"
    }
   },
   "outputs": [],
   "source": [
    "#Ejemplo Gibbs sampler para multivariada normal bidimensional\n",
    "#Parametros joint distribution\n",
    "mean_joint = [6, 25] #[impaciencia, confianza]\n",
    "corr = -0.6\n",
    "cov = [[1, corr], [corr, 1]]\n",
    "\n",
    "#Paso 1: valores iniciales\n",
    "conf_samp = st.uniform.rvs(20,30,1)\n",
    "impa_samp = st.uniform.rvs(0,10,1)\n",
    "niter = 200 #número de iteraciones\n",
    "joint = pd.DataFrame({'impaciencia': np.repeat(float('nan'),niter),\n",
    "                     'confianza': np.repeat(float('nan'),niter)})\n",
    "for i in range(niter):\n",
    "    #Paso 2: samplear un valor aleatorio de confianza\n",
    "    conf_samp = st.norm.rvs(mean_joint[1]+corr*(impa_samp-mean_joint[0]),1-corr**2,1)\n",
    "\n",
    "    #Paso 3: samplear un valor aleatorio de impaciencia\n",
    "    impa_samp = st.norm.rvs(mean_joint[0]+corr*(conf_samp-mean_joint[1]),1-corr**2,1)\n",
    "\n",
    "    joint.loc[i,'impaciencia'] = impa_samp\n",
    "    joint.loc[i,'confianza'] = conf_samp\n"
   ]
  },
  {
   "cell_type": "markdown",
   "metadata": {
    "slideshow": {
     "slide_type": "subslide"
    }
   },
   "source": [
    "El algoritmo hace un buen recorrido de todo el espacio\n",
    "\n",
    "<center><img src=\"img/3_CB/Gibbs_animation-min.gif\" width = \"401\" height = '400'></center>\n"
   ]
  },
  {
   "cell_type": "markdown",
   "metadata": {
    "slideshow": {
     "slide_type": "subslide"
    }
   },
   "source": [
    "En términos generales, con Gibbs:\n",
    "\n",
    "* Se puede tomar muestras de cualquier distribución conjunta $p(\\theta_1, \\theta_2, ... \\theta_n, data)$. No solo normal, lo anterior fue un ejemplo.\n",
    "\n",
    "* Se necesita conocer las probabilidades condicionales de todas las variables, dado las demás.\n",
    "\n",
    "* Es markoviano: el siguiente \"paso\" depende del estado actual (muestra actual). \n",
    "\n",
    "* Ventaja: siempre se aceptan las propuestas. Desventaja: hay que saber los condicionales\n",
    "\n"
   ]
  },
  {
   "cell_type": "markdown",
   "metadata": {
    "slideshow": {
     "slide_type": "slide"
    }
   },
   "source": [
    "# Ejemplo 2 MCMC: Metropolis & Metropolis-Hastings"
   ]
  },
  {
   "cell_type": "markdown",
   "metadata": {
    "slideshow": {
     "slide_type": "subslide"
    }
   },
   "source": [
    "Gibbs es un caso particular de Metropolis-Hastings. La diferencia general con Gibbs:\n",
    "\n",
    "* Necesita una distribución conocida para proponer valores (muestras) que el algoritmo acepta o rechaza.\n",
    "\n",
    "* En Gibbs esa distribución eran los condicionales. \n",
    "\n",
    "* En Metropolis-Hastings pueden ser otras. De hecho, muchas versiones ni siquiera usan los condicionales.\n"
   ]
  },
  {
   "cell_type": "markdown",
   "metadata": {
    "slideshow": {
     "slide_type": "subslide"
    }
   },
   "source": [
    "Volvamos a nuestro problema favorito: Queremos saber la probabilidad de ocurrencia de un evento binario a partir de la data (e.g. ganar/perder, categoria 1/categoria 2, culpable / inocente, etc.). \n",
    "\n",
    "Solución: Bayes.\n",
    "\n",
    "\\begin{align}\n",
    "p(\\theta|data) &\\propto p(data|\\theta)p(\\theta)\\\\\n",
    "               &\\propto Binomial(n, z, \\theta)beta(\\alpha,\\beta)\\\\\n",
    "\\end{align}\n",
    "\n",
    "Donde n es lanzamientos, z éxitos, $\\theta$ probabilidad de éxito, $\\alpha$, y $\\beta$ parámetros de la prior\n"
   ]
  },
  {
   "cell_type": "markdown",
   "metadata": {
    "slideshow": {
     "slide_type": "subslide"
    }
   },
   "source": [
    "En una anterior imagen ya vimos el algoritmo Metropolis (el Metropolis-Hastings en siguientes diapositivas). \n",
    "\n",
    "Se proponen valores de una distribución normal que \"salta\". Se calcula un ratio r de la posterior de la propuesta y la actual (sin estandarizar). Se acepta o rechaza con unos criterios.\n",
    "\n",
    "<center><img src=\"img/3_CB/MCMC_animation.gif\" width = \"651\" height = '650'></center>\n",
    "\n",
    "<p style = 'font-size: 15px'>Fuente: https://blog.stata.com/2016/11/15/introduction-to-bayesian-statistics-part-2-mcmc-and-the-metropolis-hastings-algorithm/ </p>"
   ]
  },
  {
   "cell_type": "markdown",
   "metadata": {
    "slideshow": {
     "slide_type": "subslide"
    }
   },
   "source": [
    "Sobre la distribución de propuesta q para Metropolis:\n",
    "* Salta cuando se acepte un valor. En esta visualización, el centro de la normal se mueve a la propuesta $\\theta^{*}$ (que fue aceptada).  \n",
    "* Debe ser simétrica: $q(\\theta^{*}|\\theta) = q(\\theta|\\theta^{*})$. Evita sesgos (e.g. saltos mayores desde algunos puntos).\n",
    "\n",
    "<center><img src=\"img/3_CB/MCMC_animation2.gif\" width = \"550\" height = '550'></center>\n",
    "\n",
    "<p style = 'font-size: 15px'>Fuente: https://blog.stata.com/2016/11/15/introduction-to-bayesian-statistics-part-2-mcmc-and-the-metropolis-hastings-algorithm/ </p>\n",
    "\n",
    " "
   ]
  },
  {
   "cell_type": "markdown",
   "metadata": {
    "slideshow": {
     "slide_type": "subslide"
    }
   },
   "source": [
    "Metropolis-Hastings (MH) es la version general. No requiere un distribución de propuesta q simétrica. Para compensar, el ratio r de posteriors p se cambia a un ratio de ratios. \n",
    "\n",
    "| Metropolis | Metropolis-Hastings |\n",
    "|:--:|:--:|\n",
    "| \\begin{equation} \\frac{p(\\theta^{*}\\|y)}{p(\\theta\\|y)} \\end{equation} |  \\begin{equation} \\frac{p(\\theta^{*}\\|y) / q(\\theta^{*}\\|\\theta)}{p(\\theta\\|y)/ q(\\theta\\|\\theta^{*})} \\end{equation}  |\n"
   ]
  },
  {
   "cell_type": "markdown",
   "metadata": {
    "slideshow": {
     "slide_type": "subslide"
    }
   },
   "source": [
    "Para ejemplificar MH, estimemos el promedio y varianza de un proceso gaussiano (e.g. puntajes en una prueba). \n",
    "\n",
    "El estimativo frecuentista es directo: el promedio y varianza de la data. Queremos el bayesiano: la creencia en forma de distribución de posibles parámetros dado los datos.\n",
    "\n",
    "Podemos conseguir la formula dado que es gaussiano, pero tratemos con MH.\n",
    "\n",
    "Primero generemos unos datos ..."
   ]
  },
  {
   "cell_type": "code",
   "execution_count": 3,
   "metadata": {
    "slideshow": {
     "slide_type": "subslide"
    }
   },
   "outputs": [],
   "source": [
    "# Metropolis-Hastings\n",
    "# Datos \n",
    "tamano = 50000\n",
    "mu_real = 50 #parámetro a inferir, imagine que no los conocemos.\n",
    "sigma_real = 10 #parámetro a inferir, imagine que no los conocemos.\n",
    "poblacion = np.random.normal(mu_real,sigma_real,tamano)\n",
    "n = 150 #solo observamos n datos de la población\n",
    "data = pd.DataFrame({'muestra': poblacion[np.random.randint(0, tamano, n)]})\n"
   ]
  },
  {
   "cell_type": "code",
   "execution_count": 4,
   "metadata": {
    "slideshow": {
     "slide_type": "skip"
    }
   },
   "outputs": [],
   "source": [
    "#Graficas usando altair (permite grabarlas a html) (correr celda anterior)\n",
    "#Tutorial en https://altair-viz.github.io/getting_started/overview.html\n",
    "bins = 20\n",
    "bar = alt.Chart(data).mark_bar().encode(\n",
    "    alt.X(\"muestra\", axis=alt.Axis(title=\"Variable\"), bin=alt.Bin(maxbins=bins)),\n",
    "    alt.Y('count()', axis=alt.Axis(title=\"Conteo\"))\n",
    ")\n",
    "\n",
    "den_data = alt.Chart(data).transform_density(#transformaciones a la data\n",
    "    density = 'muestra',\n",
    "    counts = True,\n",
    "    steps=bins\n",
    ").mark_line( #tipo de gráfica\n",
    "    color='red',\n",
    "    opacity=.35,\n",
    "    strokeWidth = 5\n",
    ").encode(#detalles de los ejes\n",
    "    alt.X('value:Q', axis=alt.Axis(title=\"Variable\")),\n",
    "    alt.Y('density:Q', axis=alt.Axis(title=\"Densidad (kde)\")),\n",
    ").properties(width=400, height=300)\n",
    "\n",
    "#both = (den_data).configure_axis(titleFontSize=20, labelFontSize = 15, grid=False) \n",
    "both = (bar).configure_axis(titleFontSize=20, labelFontSize = 15, grid=False)\n",
    "#save(both, \"img/3_CB/Metropolis_data.svg\", method='selenium', webdriver='chrome') # si no sirve, salvar con los 3 punticos\n",
    "#save(both, \"img/3_CB/Metropolis_data.html\") #salva la gráfica en html"
   ]
  },
  {
   "cell_type": "code",
   "execution_count": 5,
   "metadata": {
    "slideshow": {
     "slide_type": "fragment"
    }
   },
   "outputs": [
    {
     "data": {
      "text/html": [
       "\n",
       "<div id=\"altair-viz-0aba21b6d5484118b1c73bb078b37f2c\"></div>\n",
       "<script type=\"text/javascript\">\n",
       "  (function(spec, embedOpt){\n",
       "    let outputDiv = document.currentScript.previousElementSibling;\n",
       "    if (outputDiv.id !== \"altair-viz-0aba21b6d5484118b1c73bb078b37f2c\") {\n",
       "      outputDiv = document.getElementById(\"altair-viz-0aba21b6d5484118b1c73bb078b37f2c\");\n",
       "    }\n",
       "    const paths = {\n",
       "      \"vega\": \"https://cdn.jsdelivr.net/npm//vega@5?noext\",\n",
       "      \"vega-lib\": \"https://cdn.jsdelivr.net/npm//vega-lib?noext\",\n",
       "      \"vega-lite\": \"https://cdn.jsdelivr.net/npm//vega-lite@4.8.1?noext\",\n",
       "      \"vega-embed\": \"https://cdn.jsdelivr.net/npm//vega-embed@6?noext\",\n",
       "    };\n",
       "\n",
       "    function loadScript(lib) {\n",
       "      return new Promise(function(resolve, reject) {\n",
       "        var s = document.createElement('script');\n",
       "        s.src = paths[lib];\n",
       "        s.async = true;\n",
       "        s.onload = () => resolve(paths[lib]);\n",
       "        s.onerror = () => reject(`Error loading script: ${paths[lib]}`);\n",
       "        document.getElementsByTagName(\"head\")[0].appendChild(s);\n",
       "      });\n",
       "    }\n",
       "\n",
       "    function showError(err) {\n",
       "      outputDiv.innerHTML = `<div class=\"error\" style=\"color:red;\">${err}</div>`;\n",
       "      throw err;\n",
       "    }\n",
       "\n",
       "    function displayChart(vegaEmbed) {\n",
       "      vegaEmbed(outputDiv, spec, embedOpt)\n",
       "        .catch(err => showError(`Javascript Error: ${err.message}<br>This usually means there's a typo in your chart specification. See the javascript console for the full traceback.`));\n",
       "    }\n",
       "\n",
       "    if(typeof define === \"function\" && define.amd) {\n",
       "      requirejs.config({paths});\n",
       "      require([\"vega-embed\"], displayChart, err => showError(`Error loading script: ${err.message}`));\n",
       "    } else if (typeof vegaEmbed === \"function\") {\n",
       "      displayChart(vegaEmbed);\n",
       "    } else {\n",
       "      loadScript(\"vega\")\n",
       "        .then(() => loadScript(\"vega-lite\"))\n",
       "        .then(() => loadScript(\"vega-embed\"))\n",
       "        .catch(showError)\n",
       "        .then(() => displayChart(vegaEmbed));\n",
       "    }\n",
       "  })({\"config\": {\"view\": {\"continuousWidth\": 400, \"continuousHeight\": 300}, \"axis\": {\"grid\": false, \"labelFontSize\": 15, \"titleFontSize\": 20}}, \"data\": {\"name\": \"data-54333941b8175b3efb77ea907d4ee455\"}, \"mark\": \"bar\", \"encoding\": {\"x\": {\"type\": \"quantitative\", \"axis\": {\"title\": \"Variable\"}, \"bin\": {\"maxbins\": 20}, \"field\": \"muestra\"}, \"y\": {\"type\": \"quantitative\", \"aggregate\": \"count\", \"axis\": {\"title\": \"Conteo\"}}}, \"$schema\": \"https://vega.github.io/schema/vega-lite/v4.8.1.json\", \"datasets\": {\"data-54333941b8175b3efb77ea907d4ee455\": [{\"muestra\": 47.586596099429215}, {\"muestra\": 41.935814329309096}, {\"muestra\": 54.72364299279228}, {\"muestra\": 49.68349666931159}, {\"muestra\": 59.447837904734556}, {\"muestra\": 51.51355575647756}, {\"muestra\": 42.66629685389873}, {\"muestra\": 44.03432885091328}, {\"muestra\": 56.635580636970644}, {\"muestra\": 23.76488557309187}, {\"muestra\": 48.41807763607247}, {\"muestra\": 49.38639604826662}, {\"muestra\": 54.93978696859394}, {\"muestra\": 58.0464929239073}, {\"muestra\": 47.95860329999435}, {\"muestra\": 44.034536731337525}, {\"muestra\": 54.44763860204147}, {\"muestra\": 56.84904968947463}, {\"muestra\": 58.798461285279245}, {\"muestra\": 55.35091367049784}, {\"muestra\": 68.93209100947185}, {\"muestra\": 42.11983654180844}, {\"muestra\": 54.703585389950426}, {\"muestra\": 36.15877108949461}, {\"muestra\": 60.56640486347263}, {\"muestra\": 49.12874392572846}, {\"muestra\": 51.47262056868898}, {\"muestra\": 38.399808023129765}, {\"muestra\": 40.370776882915735}, {\"muestra\": 44.89117127283623}, {\"muestra\": 39.831404355038075}, {\"muestra\": 45.17032986512886}, {\"muestra\": 52.05439481027097}, {\"muestra\": 47.892389105813514}, {\"muestra\": 47.32518772376723}, {\"muestra\": 39.28562942685704}, {\"muestra\": 32.32003346051363}, {\"muestra\": 78.23034581549096}, {\"muestra\": 40.40534007075042}, {\"muestra\": 41.03513978270699}, {\"muestra\": 49.58453377963871}, {\"muestra\": 53.54365438530544}, {\"muestra\": 64.90067477439032}, {\"muestra\": 39.02429851730183}, {\"muestra\": 61.29760125931921}, {\"muestra\": 34.817067142802685}, {\"muestra\": 50.223495848014984}, {\"muestra\": 42.52241058003516}, {\"muestra\": 43.21373364919643}, {\"muestra\": 50.86557329134583}, {\"muestra\": 31.34727482211238}, {\"muestra\": 55.60719454775179}, {\"muestra\": 59.20075059363428}, {\"muestra\": 52.735348635072285}, {\"muestra\": 48.01820294540945}, {\"muestra\": 37.98134316188208}, {\"muestra\": 55.29139409936742}, {\"muestra\": 49.639254909848916}, {\"muestra\": 46.86202591592521}, {\"muestra\": 69.02069797266068}, {\"muestra\": 49.13216722698353}, {\"muestra\": 59.62819440661218}, {\"muestra\": 48.9022604302391}, {\"muestra\": 48.22209390027863}, {\"muestra\": 47.16188107349478}, {\"muestra\": 40.01043701380782}, {\"muestra\": 60.870792456181945}, {\"muestra\": 67.87401017671685}, {\"muestra\": 50.701969097196944}, {\"muestra\": 39.82319962368228}, {\"muestra\": 52.50029285675601}, {\"muestra\": 48.58423912051935}, {\"muestra\": 67.82623392338431}, {\"muestra\": 51.72671150104462}, {\"muestra\": 37.43572957922563}, {\"muestra\": 40.53203936575045}, {\"muestra\": 53.80552249843505}, {\"muestra\": 63.01092207153328}, {\"muestra\": 41.96981901575684}, {\"muestra\": 37.25905737726731}, {\"muestra\": 39.73944267545105}, {\"muestra\": 45.18785515282673}, {\"muestra\": 34.32518446181524}, {\"muestra\": 38.27225659973898}, {\"muestra\": 53.19696306193629}, {\"muestra\": 44.7407828974294}, {\"muestra\": 55.94904457890011}, {\"muestra\": 45.19186845052923}, {\"muestra\": 63.59102890895228}, {\"muestra\": 50.90256334076663}, {\"muestra\": 48.94331343605259}, {\"muestra\": 49.39411043121598}, {\"muestra\": 46.29329692430485}, {\"muestra\": 49.63532025819551}, {\"muestra\": 53.79557703447158}, {\"muestra\": 34.65413966169933}, {\"muestra\": 51.34761071936036}, {\"muestra\": 68.60647236784301}, {\"muestra\": 55.57143972374565}, {\"muestra\": 36.085495152371365}, {\"muestra\": 46.10604100470747}, {\"muestra\": 59.149011769425144}, {\"muestra\": 42.8756047232424}, {\"muestra\": 44.15016480975904}, {\"muestra\": 60.68936850988041}, {\"muestra\": 52.42781540288482}, {\"muestra\": 62.62152662424849}, {\"muestra\": 61.45834889397815}, {\"muestra\": 48.55070107019101}, {\"muestra\": 47.33793503469898}, {\"muestra\": 58.46791817431199}, {\"muestra\": 51.29903358074342}, {\"muestra\": 45.34831225452517}, {\"muestra\": 56.24862039065462}, {\"muestra\": 63.95616269438891}, {\"muestra\": 68.39547137788858}, {\"muestra\": 51.02619775702408}, {\"muestra\": 51.801099173890805}, {\"muestra\": 46.644942133489224}, {\"muestra\": 58.15819396272102}, {\"muestra\": 35.38783792982616}, {\"muestra\": 32.073887118231525}, {\"muestra\": 39.31907274246723}, {\"muestra\": 69.34044171949269}, {\"muestra\": 75.10431963849086}, {\"muestra\": 46.77762313582111}, {\"muestra\": 55.52796541620938}, {\"muestra\": 39.168974003852796}, {\"muestra\": 47.97118271307087}, {\"muestra\": 59.08474163123951}, {\"muestra\": 30.08202840866279}, {\"muestra\": 42.47027134190606}, {\"muestra\": 31.76245060036369}, {\"muestra\": 40.460143637448056}, {\"muestra\": 61.968498848619525}, {\"muestra\": 34.381882491660086}, {\"muestra\": 49.06366687882372}, {\"muestra\": 53.417381020255505}, {\"muestra\": 61.39618123739663}, {\"muestra\": 56.099757669040436}, {\"muestra\": 37.6237978751159}, {\"muestra\": 62.08479862536494}, {\"muestra\": 39.40654041743137}, {\"muestra\": 51.236743616386}, {\"muestra\": 38.34330229673338}, {\"muestra\": 57.23878596575949}, {\"muestra\": 42.74098478486435}, {\"muestra\": 62.96779590404795}, {\"muestra\": 49.12307752410569}, {\"muestra\": 42.642208183231155}]}}, {\"mode\": \"vega-lite\"});\n",
       "</script>"
      ],
      "text/plain": [
       "alt.Chart(...)"
      ]
     },
     "execution_count": 5,
     "metadata": {},
     "output_type": "execute_result"
    }
   ],
   "source": [
    "#Conteos y densidad de la data (kernel estimate)\n",
    "both"
   ]
  },
  {
   "cell_type": "markdown",
   "metadata": {
    "slideshow": {
     "slide_type": "subslide"
    }
   },
   "source": [
    "Ahora recordemos paso a paso el algoritmo:\n",
    "1. Defina distribuciones likelihood y prior\n",
    "2. Defina una distribución de propuesta $q(\\theta)$\n",
    "3. Tome una muestra de $q(\\theta)$. Esa muestra es la propuesta $\\theta^{*}$\n",
    "4. Calcule el ratio de ratios $\\frac{p(\\theta^{*}|y) / q(\\theta^{*}|\\theta)}{p(\\theta|y)/ q(\\theta|\\theta^{*})}$\n",
    "5. Acepte o rechaze $\\theta^{*}$. Si acepta, mueva $q(\\theta)$. Si rechaza no se mueva.\n",
    "6. Repita 1 a 4 por la iteraciones o muestras deseadas."
   ]
  },
  {
   "cell_type": "code",
   "execution_count": 6,
   "metadata": {
    "slideshow": {
     "slide_type": "subslide"
    }
   },
   "outputs": [],
   "source": [
    "##### Paso 1\n",
    "#Prior & likelihood\n",
    "def log_prior(pars):\n",
    "    #Priors \n",
    "    #    mean: uniforme\n",
    "    #    std. dev: uniform (positiva)\n",
    "    #Supuesto: parámetros son independientes (multiplicar; en log sumar)\n",
    "    #Input: pars[0] = mean, pars[1] = std. dev\n",
    "    #Output: log. density  \n",
    "    log_prob_mu = st.uniform.logpdf(pars[0], -100, 200)\n",
    "    log_prob_sd = st.uniform.logpdf(pars[1], 0, 100)   \n",
    "    return log_prob_sd + log_prob_mu\n",
    "def log_lik_normal(pars,data):\n",
    "    #Input: pars[0] = mean, pars[1] = std. dev, data = muestra\n",
    "    #Output: log. density\n",
    "    return np.sum(st.norm.logpdf(data, pars[0], pars[1]))"
   ]
  },
  {
   "cell_type": "code",
   "execution_count": 7,
   "metadata": {
    "slideshow": {
     "slide_type": "subslide"
    }
   },
   "outputs": [],
   "source": [
    "##### Paso 2 & 3 \n",
    "# Distribución de propuesta\n",
    "class propuesta:\n",
    "    #Con MH, no es necesario que sea simétrica.\n",
    "    #Acá usamos diferentes std y densidades (truncada normal y normal)\n",
    "    def __init__(self):\n",
    "        self.scales = [7, 2] #desviaciones estandar   \n",
    "    def rvs(self, pars):\n",
    "        left_lim = 0 #limite para truncar la normal\n",
    "        right_lim = 50\n",
    "        a = (left_lim - pars[1]) / self.scales[1] \n",
    "        b = (right_lim - pars[1]) / self.scales[1]        \n",
    "        rand_var = [st.norm.rvs(pars[0], self.scales[0], size=1), \n",
    "                    st.truncnorm.rvs(a=a, b=b, loc=pars[1], \n",
    "                                     scale=self.scales[1], size=1)]        \n",
    "        return rand_var    \n",
    "    def log_pdf(self, x, pars):\n",
    "        mu_logpdf = st.norm.logpdf(x[0], pars[0], self.scales[0]) \n",
    "        left_lim = 0 #limite para truncar la normal\n",
    "        right_lim = 50\n",
    "        a = (left_lim - pars[1]) / self.scales[1]\n",
    "        b = (right_lim - pars[1]) / self.scales[1]\n",
    "        sd_logpdf = st.truncnorm.logpdf(x[1], a=a, b=b, loc=pars[1], \n",
    "                                        scale=self.scales[1]) \n",
    "        return sd_logpdf + mu_logpdf"
   ]
  },
  {
   "cell_type": "code",
   "execution_count": 8,
   "metadata": {
    "slideshow": {
     "slide_type": "subslide"
    }
   },
   "outputs": [],
   "source": [
    "##### Paso 4 & 5\n",
    "# Ratio de ratios y aceptar\n",
    "def aceptar(x, x_nuevo, data):\n",
    "    # Posteriors (sin estandarizar)\n",
    "    posterior_nuevo = log_prior(x_nuevo)+log_lik_normal(x_nuevo, data) \n",
    "    posterior_actual = log_prior(x)+log_lik_normal(x, data)\n",
    "    # Propuesta\n",
    "    propuesta_nuevo = propuesta().log_pdf(x_nuevo, x)\n",
    "    propuesta_actual = propuesta().log_pdf(x, x_nuevo)\n",
    "    # Ratios\n",
    "    ratio1 = posterior_nuevo - propuesta_nuevo #Resta por que estamos con logaritmos\n",
    "    ratio2 = posterior_actual - propuesta_actual\n",
    "    ratio_de_ratios = ratio1-ratio2 #Resta por que estamos con logaritmos\n",
    "    # Aceptar\n",
    "    u = st.uniform.rvs(0, 1, size = 1)\n",
    "    acceptance_prob = np.min([1, np.exp(ratio_de_ratios)]) #exp para transformar logaritmos\n",
    "    if u<acceptance_prob:\n",
    "        return True\n",
    "    else:\n",
    "        return False\n",
    "Metropolis"
   ]
  },
  {
   "cell_type": "code",
   "execution_count": 9,
   "metadata": {
    "slideshow": {
     "slide_type": "subslide"
    }
   },
   "outputs": [],
   "source": [
    "##### Paso 6\n",
    "# Repita\n",
    "def metropolis_hastings(par_inicial, iteraciones, data):\n",
    "    x = par_inicial\n",
    "    aceptado = []\n",
    "    rechazado = []   \n",
    "    for i in range(iteraciones):\n",
    "        x_nuevo =  propuesta().rvs(x)  \n",
    "        if aceptar(x, x_nuevo, data):\n",
    "            x = x_nuevo\n",
    "            aceptado.append(x_nuevo)\n",
    "        else:\n",
    "            rechazado.append(x_nuevo)                               \n",
    "    return np.array(aceptado), np.array(rechazado) "
   ]
  },
  {
   "cell_type": "code",
   "execution_count": 10,
   "metadata": {
    "slideshow": {
     "slide_type": "subslide"
    }
   },
   "outputs": [
    {
     "name": "stderr",
     "output_type": "stream",
     "text": [
      "/opt/anaconda3/lib/python3.7/site-packages/ipykernel_launcher.py:16: RuntimeWarning: overflow encountered in exp\n",
      "  app.launch_new_instance()\n"
     ]
    }
   ],
   "source": [
    "##### Resultados\n",
    "#Cadena 1\n",
    "par_inicial, iteraciones = [data.mean(), data.std()], 5000\n",
    "A1, R1 = metropolis_hastings(par_inicial, iteraciones, data)\n",
    "#Cadena 2\n",
    "par_inicial, iteraciones = [4, 1], 5000\n",
    "A2, R2 = metropolis_hastings(par_inicial, iteraciones, data)"
   ]
  },
  {
   "cell_type": "code",
   "execution_count": 11,
   "metadata": {
    "slideshow": {
     "slide_type": "skip"
    }
   },
   "outputs": [],
   "source": [
    "def my_MH_plot(A1, A2):\n",
    "    print(\"Info. cadena 1.\", \n",
    "      '\\n95% HDI promedio: [', round(np.percentile(A1[:,0],[2.5])[0],2), ',', \n",
    "          round(np.percentile(A1[:,0],[97.5])[0],2),']',\n",
    "      '\\n95% HDI desv. est: [', round(np.percentile(A1[:,1],[2.5])[0],2), ',', \n",
    "          round(np.percentile(A1[:,1],[97.5])[0],2),']',\n",
    "      '\\naccept:', A1.shape[0]/iteraciones)\n",
    "    print(\"\\nInfo. cadena 2. \", \n",
    "      '\\n95% HDI promedio: [', round(np.percentile(A2[:,0],[2.5])[0],2), ',', \n",
    "          round(np.percentile(A2[:,0],[97.5])[0],2),']',\n",
    "      '\\n95% HDI desv. est: [', round(np.percentile(A2[:,1],[2.5])[0],2), ',', \n",
    "          round(np.percentile(A2[:,1],[97.5])[0],2),']',\n",
    "      '\\naccept:', A2.shape[0]/iteraciones)\n",
    "    fig, ax = plt.subplots(2,2, figsize=[7,5])\n",
    "    ax[0,0].plot(np.arange(A1.shape[0]), A1[:,0])\n",
    "    ax[0,0].set_title('Promedio \\n (cadena 1)')\n",
    "    ax[0,1].plot(np.arange(A1.shape[0]), A1[:,1])\n",
    "    ax[0,1].set_title('Desv. Estandar \\n (cadena 1)');\n",
    "    ax[1,0].plot(np.arange(A2.shape[0]), A2[:,0])\n",
    "    ax[1,0].set_title('Promedio \\n (cadena 2)')\n",
    "    ax[1,1].plot(np.arange(A2.shape[0]), A2[:,1])\n",
    "    ax[1,1].set_title('Desv. Estandar \\n (cadena 2)');\n",
    "    plt.tight_layout();"
   ]
  },
  {
   "cell_type": "code",
   "execution_count": 12,
   "metadata": {
    "slideshow": {
     "slide_type": "subslide"
    }
   },
   "outputs": [
    {
     "name": "stdout",
     "output_type": "stream",
     "text": [
      "Info. cadena 1. \n",
      "95% HDI promedio: [ 47.69 , 51.41 ] \n",
      "95% HDI desv. est: [ 8.85 , 11.52 ] \n",
      "accept: 0.0532\n",
      "\n",
      "Info. cadena 2.  \n",
      "95% HDI promedio: [ 46.04 , 51.36 ] \n",
      "95% HDI desv. est: [ 8.67 , 11.46 ] \n",
      "accept: 0.0662\n"
     ]
    },
    {
     "data": {
      "image/png": "[encoded data removed]",
      "text/plain": [
       "<Figure size 504x360 with 4 Axes>"
      ]
     },
     "metadata": {
      "needs_background": "light"
     },
     "output_type": "display_data"
    }
   ],
   "source": [
    "# Convergen ambas cadenas. Hay tests pero se puede ver.  \n",
    "# Las trazas gravitan alredor de los mismos valores (pero baja aceptación)\n",
    "my_MH_plot(A1, A2) #Note el \"burn-in\" al comienzo"
   ]
  },
  {
   "cell_type": "code",
   "execution_count": 13,
   "metadata": {
    "slideshow": {
     "slide_type": "skip"
    }
   },
   "outputs": [],
   "source": [
    "data_mcmc = pd.DataFrame({'promedio': np.concatenate((A1[:,0],A2[:,0]))[:,0],\n",
    "                         'desv_est':  np.concatenate((A1[:,1],A2[:,1]))[:,0]})\n",
    "def my_alt_plot(var, ext, title = ''):    \n",
    "    den = alt.Chart(data_mcmc).transform_density(#transformaciones a la data\n",
    "        density = var, extent = ext, counts = True, steps=bins\n",
    "    ).mark_line( #tipo de gráfica\n",
    "        color='green', opacity=.75, strokeWidth = 5\n",
    "    ).encode(#detalles de los ejes\n",
    "        alt.X('value:Q', axis=alt.Axis(title=var)),\n",
    "        alt.Y('density:Q', axis=alt.Axis(title=\"Densidad\")),\n",
    "    ).properties(\n",
    "        width=250, height=250, title = title\n",
    "    )\n",
    "\n",
    "    return den\n",
    "mcmc_den_p = my_alt_plot('promedio', [46,53], title = 'Posterior promedio')\n",
    "mcmc_den_e = my_alt_plot('desv_est', [6.5,12], title = 'Posterior desv. est.')\n",
    "plot = (mcmc_den_p|mcmc_den_e).configure_axis(\n",
    "    titleFontSize=20, labelFontSize = 15, grid=False\n",
    ").configure_title(\n",
    "    fontSize=24\n",
    ")"
   ]
  },
  {
   "cell_type": "code",
   "execution_count": 14,
   "metadata": {
    "slideshow": {
     "slide_type": "subslide"
    }
   },
   "outputs": [
    {
     "data": {
      "text/html": [
       "\n",
       "<div id=\"altair-viz-f813e54cada4487fbc7abc19ad036b33\"></div>\n",
       "<script type=\"text/javascript\">\n",
       "  (function(spec, embedOpt){\n",
       "    let outputDiv = document.currentScript.previousElementSibling;\n",
       "    if (outputDiv.id !== \"altair-viz-f813e54cada4487fbc7abc19ad036b33\") {\n",
       "      outputDiv = document.getElementById(\"altair-viz-f813e54cada4487fbc7abc19ad036b33\");\n",
       "    }\n",
       "    const paths = {\n",
       "      \"vega\": \"https://cdn.jsdelivr.net/npm//vega@5?noext\",\n",
       "      \"vega-lib\": \"https://cdn.jsdelivr.net/npm//vega-lib?noext\",\n",
       "      \"vega-lite\": \"https://cdn.jsdelivr.net/npm//vega-lite@4.8.1?noext\",\n",
       "      \"vega-embed\": \"https://cdn.jsdelivr.net/npm//vega-embed@6?noext\",\n",
       "    };\n",
       "\n",
       "    function loadScript(lib) {\n",
       "      return new Promise(function(resolve, reject) {\n",
       "        var s = document.createElement('script');\n",
       "        s.src = paths[lib];\n",
       "        s.async = true;\n",
       "        s.onload = () => resolve(paths[lib]);\n",
       "        s.onerror = () => reject(`Error loading script: ${paths[lib]}`);\n",
       "        document.getElementsByTagName(\"head\")[0].appendChild(s);\n",
       "      });\n",
       "    }\n",
       "\n",
       "    function showError(err) {\n",
       "      outputDiv.innerHTML = `<div class=\"error\" style=\"color:red;\">${err}</div>`;\n",
       "      throw err;\n",
       "    }\n",
       "\n",
       "    function displayChart(vegaEmbed) {\n",
       "      vegaEmbed(outputDiv, spec, embedOpt)\n",
       "        .catch(err => showError(`Javascript Error: ${err.message}<br>This usually means there's a typo in your chart specification. See the javascript console for the full traceback.`));\n",
       "    }\n",
       "\n",
       "    if(typeof define === \"function\" && define.amd) {\n",
       "      requirejs.config({paths});\n",
       "      require([\"vega-embed\"], displayChart, err => showError(`Error loading script: ${err.message}`));\n",
       "    } else if (typeof vegaEmbed === \"function\") {\n",
       "      displayChart(vegaEmbed);\n",
       "    } else {\n",
       "      loadScript(\"vega\")\n",
       "        .then(() => loadScript(\"vega-lite\"))\n",
       "        .then(() => loadScript(\"vega-embed\"))\n",
       "        .catch(showError)\n",
       "        .then(() => displayChart(vegaEmbed));\n",
       "    }\n",
       "  })({\"config\": {\"view\": {\"continuousWidth\": 400, \"continuousHeight\": 300}, \"axis\": {\"grid\": false, \"labelFontSize\": 15, \"titleFontSize\": 20}, \"title\": {\"fontSize\": 24}}, \"hconcat\": [{\"mark\": {\"type\": \"line\", \"color\": \"green\", \"opacity\": 0.75, \"strokeWidth\": 5}, \"encoding\": {\"x\": {\"type\": \"quantitative\", \"axis\": {\"title\": \"promedio\"}, \"field\": \"value\"}, \"y\": {\"type\": \"quantitative\", \"axis\": {\"title\": \"Densidad\"}, \"field\": \"density\"}}, \"height\": 250, \"title\": \"Posterior promedio\", \"transform\": [{\"density\": \"promedio\", \"counts\": true, \"extent\": [46, 53], \"steps\": 20}], \"width\": 250}, {\"mark\": {\"type\": \"line\", \"color\": \"green\", \"opacity\": 0.75, \"strokeWidth\": 5}, \"encoding\": {\"x\": {\"type\": \"quantitative\", \"axis\": {\"title\": \"desv_est\"}, \"field\": \"value\"}, \"y\": {\"type\": \"quantitative\", \"axis\": {\"title\": \"Densidad\"}, \"field\": \"density\"}}, \"height\": 250, \"title\": \"Posterior desv. est.\", \"transform\": [{\"density\": \"desv_est\", \"counts\": true, \"extent\": [6.5, 12], \"steps\": 20}], \"width\": 250}], \"data\": {\"name\": \"data-f937362794833b872a5bb25d20619afd\"}, \"$schema\": \"https://vega.github.io/schema/vega-lite/v4.8.1.json\", \"datasets\": {\"data-f937362794833b872a5bb25d20619afd\": [{\"promedio\": 47.88166773717052, \"desv_est\": 10.043642816717087}, {\"promedio\": 49.65029064930079, \"desv_est\": 8.490964402462689}, {\"promedio\": 49.736803256747635, \"desv_est\": 10.826512638457647}, {\"promedio\": 49.212216021166284, \"desv_est\": 11.372280532074766}, {\"promedio\": 50.59275124451336, \"desv_est\": 10.784736066737787}, {\"promedio\": 51.45597502297971, \"desv_est\": 10.08852997977685}, {\"promedio\": 48.60521392996049, \"desv_est\": 10.556209486226836}, {\"promedio\": 49.50853595501715, \"desv_est\": 8.385412319265306}, {\"promedio\": 50.80600399183743, \"desv_est\": 8.916953452402309}, {\"promedio\": 49.93890899265258, \"desv_est\": 8.905992178732792}, {\"promedio\": 48.39318282132388, \"desv_est\": 10.671006667276396}, {\"promedio\": 49.397652061204184, \"desv_est\": 8.957218026218097}, {\"promedio\": 49.11473040363279, \"desv_est\": 11.085338026632341}, {\"promedio\": 50.58720304047669, \"desv_est\": 9.886594838011971}, {\"promedio\": 50.293692878508494, \"desv_est\": 10.219469658608318}, {\"promedio\": 48.08952071792417, \"desv_est\": 10.857619612787573}, {\"promedio\": 48.197275890861256, \"desv_est\": 10.349546508926343}, {\"promedio\": 49.25996197627339, \"desv_est\": 9.722403772004476}, {\"promedio\": 51.46242966802502, \"desv_est\": 9.116239665337268}, {\"promedio\": 49.43316638296498, \"desv_est\": 9.06807997802421}, {\"promedio\": 49.27737447556384, \"desv_est\": 9.767609557329354}, {\"promedio\": 49.606754865182104, \"desv_est\": 9.380774139730567}, {\"promedio\": 49.60171971701234, \"desv_est\": 9.16212872614}, {\"promedio\": 49.70936780671344, \"desv_est\": 10.869327218990016}, {\"promedio\": 47.9706068579257, \"desv_est\": 9.083509021955482}, {\"promedio\": 48.659638260802865, \"desv_est\": 9.508726336519862}, {\"promedio\": 49.75841343516066, \"desv_est\": 10.279039445963484}, {\"promedio\": 49.30418968934042, \"desv_est\": 9.571662019179612}, {\"promedio\": 49.90671293484667, \"desv_est\": 10.655941716925732}, {\"promedio\": 50.26640027814879, \"desv_est\": 10.801649511887314}, {\"promedio\": 50.17639457134782, \"desv_est\": 10.818902394433001}, {\"promedio\": 50.77258833669361, \"desv_est\": 9.145235247154202}, {\"promedio\": 48.75339617362543, \"desv_est\": 10.774381081034832}, {\"promedio\": 51.18050708361774, \"desv_est\": 10.46504529152062}, {\"promedio\": 48.7841470616213, \"desv_est\": 10.550088695776802}, {\"promedio\": 49.55773196294414, \"desv_est\": 10.360430136709773}, {\"promedio\": 49.11025290655628, \"desv_est\": 9.259620857066752}, {\"promedio\": 47.821246696435296, \"desv_est\": 9.736709995814254}, {\"promedio\": 51.09462064725669, \"desv_est\": 10.552816220549737}, {\"promedio\": 48.72637517190747, \"desv_est\": 10.59904533547463}, {\"promedio\": 49.8394214552022, \"desv_est\": 11.742571066273182}, {\"promedio\": 47.866117964370844, \"desv_est\": 10.189107384890434}, {\"promedio\": 49.55881790050114, \"desv_est\": 11.04364449896575}, {\"promedio\": 48.44714129727573, \"desv_est\": 9.37719189281978}, {\"promedio\": 50.51321708666067, \"desv_est\": 10.001616686930806}, {\"promedio\": 48.34787961812588, \"desv_est\": 11.019620207886947}, {\"promedio\": 50.03407806779777, \"desv_est\": 10.406349287827876}, {\"promedio\": 50.72176591273838, \"desv_est\": 10.707070369707479}, {\"promedio\": 49.949237211646064, \"desv_est\": 9.045154888372188}, {\"promedio\": 49.415080649104354, \"desv_est\": 10.142337431451955}, {\"promedio\": 48.22688034912948, \"desv_est\": 9.775708502500583}, {\"promedio\": 48.85210198482775, \"desv_est\": 8.858501992390433}, {\"promedio\": 51.14823276938963, \"desv_est\": 11.036613999901641}, {\"promedio\": 50.42005462868493, \"desv_est\": 10.895722625921984}, {\"promedio\": 48.12485949867063, \"desv_est\": 11.67698239112293}, {\"promedio\": 50.34919455227068, \"desv_est\": 11.728128509188828}, {\"promedio\": 49.32225428424771, \"desv_est\": 11.966232514250407}, {\"promedio\": 50.47677322364287, \"desv_est\": 11.590318737205141}, {\"promedio\": 47.34360702482834, \"desv_est\": 8.902336158855755}, {\"promedio\": 47.06564646504896, \"desv_est\": 9.076440597893551}, {\"promedio\": 47.29628159968314, \"desv_est\": 11.609107568571952}, {\"promedio\": 48.98752209802734, \"desv_est\": 9.95897436821824}, {\"promedio\": 49.861722517532435, \"desv_est\": 10.178575771740455}, {\"promedio\": 49.03268913917201, \"desv_est\": 10.955823542916495}, {\"promedio\": 51.38880084145573, \"desv_est\": 10.10216611968078}, {\"promedio\": 50.218942776219855, \"desv_est\": 9.289039143669811}, {\"promedio\": 48.90351528167483, \"desv_est\": 9.298702699398332}, {\"promedio\": 48.97164274065959, \"desv_est\": 10.5768137314016}, {\"promedio\": 47.9936042341662, \"desv_est\": 11.156331230874228}, {\"promedio\": 49.811448556487356, \"desv_est\": 9.82303085246482}, {\"promedio\": 48.77376992572661, \"desv_est\": 10.16046208739814}, {\"promedio\": 48.122344110245066, \"desv_est\": 10.539882034520675}, {\"promedio\": 48.73108562584886, \"desv_est\": 11.010441359270093}, {\"promedio\": 49.8526775014406, \"desv_est\": 10.084938603904376}, {\"promedio\": 49.15688349071327, \"desv_est\": 10.509491036721803}, {\"promedio\": 50.03721155803568, \"desv_est\": 10.57173676736574}, {\"promedio\": 51.0602997156651, \"desv_est\": 9.96046820169783}, {\"promedio\": 49.25557123691616, \"desv_est\": 9.591374313936917}, {\"promedio\": 49.23495367445547, \"desv_est\": 10.055844849884759}, {\"promedio\": 48.753106791410985, \"desv_est\": 9.213295190779508}, {\"promedio\": 49.662685831333434, \"desv_est\": 10.44944844100836}, {\"promedio\": 49.914661968760115, \"desv_est\": 9.898760951816334}, {\"promedio\": 49.839983124232106, \"desv_est\": 9.566771913761958}, {\"promedio\": 50.45102919448499, \"desv_est\": 10.20913158885469}, {\"promedio\": 48.87817336956645, \"desv_est\": 9.797379253997859}, {\"promedio\": 49.248662356731025, \"desv_est\": 9.464194179727553}, {\"promedio\": 50.21984412812506, \"desv_est\": 9.773636154948349}, {\"promedio\": 48.84624333645348, \"desv_est\": 9.670892259096956}, {\"promedio\": 50.20704073470261, \"desv_est\": 9.949229570072477}, {\"promedio\": 49.53211672615713, \"desv_est\": 10.263085410552794}, {\"promedio\": 50.10181926364751, \"desv_est\": 9.621056319311364}, {\"promedio\": 50.11925155880059, \"desv_est\": 10.913695435629009}, {\"promedio\": 48.609625393715916, \"desv_est\": 9.746236131553273}, {\"promedio\": 48.51096986365312, \"desv_est\": 11.060096405154644}, {\"promedio\": 49.49896795213446, \"desv_est\": 9.423871966690593}, {\"promedio\": 50.02202895054736, \"desv_est\": 10.437889316329889}, {\"promedio\": 49.779816727298275, \"desv_est\": 8.746686572575584}, {\"promedio\": 48.92191809436677, \"desv_est\": 8.838918640580848}, {\"promedio\": 49.27639115117719, \"desv_est\": 10.20824168445225}, {\"promedio\": 50.19046300546867, \"desv_est\": 10.429988886107168}, {\"promedio\": 48.42569301292804, \"desv_est\": 10.388420405653243}, {\"promedio\": 49.578627951158836, \"desv_est\": 9.307582821614282}, {\"promedio\": 49.40297350470004, \"desv_est\": 10.041759457830572}, {\"promedio\": 49.650140874173346, \"desv_est\": 9.363904356230945}, {\"promedio\": 49.220073723458, \"desv_est\": 9.33477144598674}, {\"promedio\": 49.176785283341964, \"desv_est\": 10.266905964515162}, {\"promedio\": 49.24105176737076, \"desv_est\": 9.725605226314952}, {\"promedio\": 49.74446156973604, \"desv_est\": 10.402613525962169}, {\"promedio\": 49.339301192304475, \"desv_est\": 10.120515343763715}, {\"promedio\": 48.80519979939, \"desv_est\": 10.292126149045309}, {\"promedio\": 47.23147377779526, \"desv_est\": 10.641668403043544}, {\"promedio\": 51.27430310196355, \"desv_est\": 11.473568471102494}, {\"promedio\": 47.998405933232746, \"desv_est\": 10.397000401514267}, {\"promedio\": 49.84346676791151, \"desv_est\": 11.241905658984173}, {\"promedio\": 48.77793163624633, \"desv_est\": 8.80661348826118}, {\"promedio\": 47.6122482943775, \"desv_est\": 9.017698703540363}, {\"promedio\": 49.0885659765487, \"desv_est\": 9.211040476026795}, {\"promedio\": 48.82995752411188, \"desv_est\": 8.821648662643891}, {\"promedio\": 48.57227238041092, \"desv_est\": 8.89395547206536}, {\"promedio\": 50.56112483774369, \"desv_est\": 10.554951808102686}, {\"promedio\": 49.45622309516786, \"desv_est\": 8.88191544484591}, {\"promedio\": 50.00927520115823, \"desv_est\": 9.466340536243596}, {\"promedio\": 49.20711639039658, \"desv_est\": 8.940918342315802}, {\"promedio\": 48.18418583507588, \"desv_est\": 9.934347865291134}, {\"promedio\": 50.86979771228687, \"desv_est\": 9.893461287347936}, {\"promedio\": 49.19492490578185, \"desv_est\": 10.304767199047445}, {\"promedio\": 50.235594358085535, \"desv_est\": 9.731603271968813}, {\"promedio\": 48.96736027079336, \"desv_est\": 10.658949490292638}, {\"promedio\": 48.740412785551364, \"desv_est\": 10.143902493650094}, {\"promedio\": 50.32370603638532, \"desv_est\": 11.24611530012706}, {\"promedio\": 47.839029409039206, \"desv_est\": 9.542479329645397}, {\"promedio\": 50.738420832102534, \"desv_est\": 10.706705098877721}, {\"promedio\": 50.164609690851464, \"desv_est\": 9.818275523103047}, {\"promedio\": 48.556226487938, \"desv_est\": 9.84929376208802}, {\"promedio\": 48.46065325096134, \"desv_est\": 10.13210026800271}, {\"promedio\": 49.34572876900241, \"desv_est\": 10.06462554145493}, {\"promedio\": 49.28545836809463, \"desv_est\": 10.822897272502749}, {\"promedio\": 48.34672567654406, \"desv_est\": 9.838113269188286}, {\"promedio\": 50.58917790450862, \"desv_est\": 9.82511269472223}, {\"promedio\": 48.71374534830645, \"desv_est\": 10.107568220532364}, {\"promedio\": 50.386610499045815, \"desv_est\": 10.274550298578637}, {\"promedio\": 47.38734042320697, \"desv_est\": 10.27448211848611}, {\"promedio\": 50.9570897424567, \"desv_est\": 10.277058130774794}, {\"promedio\": 49.372539220083425, \"desv_est\": 11.32063658860523}, {\"promedio\": 50.12127290091968, \"desv_est\": 9.023209330725008}, {\"promedio\": 49.803938677533644, \"desv_est\": 10.205717643867633}, {\"promedio\": 49.737023947432796, \"desv_est\": 9.789989946652415}, {\"promedio\": 48.990896430751974, \"desv_est\": 10.734824394700363}, {\"promedio\": 51.126401889204764, \"desv_est\": 10.507785774589385}, {\"promedio\": 50.80011672387504, \"desv_est\": 11.22515968988767}, {\"promedio\": 49.742197408552016, \"desv_est\": 9.115316037210128}, {\"promedio\": 50.46161381511265, \"desv_est\": 9.897437944296453}, {\"promedio\": 50.60066874746726, \"desv_est\": 10.647665007441802}, {\"promedio\": 48.971653931465006, \"desv_est\": 10.735181606078388}, {\"promedio\": 49.11875795697956, \"desv_est\": 10.183615102594059}, {\"promedio\": 49.729849775779044, \"desv_est\": 10.349888424107455}, {\"promedio\": 49.42606045394346, \"desv_est\": 10.661046560427538}, {\"promedio\": 48.66956564442104, \"desv_est\": 9.320600289619726}, {\"promedio\": 51.05900288784954, \"desv_est\": 11.148027129986325}, {\"promedio\": 50.33521818474638, \"desv_est\": 10.26237844563836}, {\"promedio\": 49.430383837513205, \"desv_est\": 9.982255055485483}, {\"promedio\": 49.53114232765963, \"desv_est\": 11.624089099209051}, {\"promedio\": 50.838168573233396, \"desv_est\": 11.006644745836226}, {\"promedio\": 50.1672811774499, \"desv_est\": 10.773059996093927}, {\"promedio\": 49.646913897403486, \"desv_est\": 10.792325463050517}, {\"promedio\": 50.643289776530764, \"desv_est\": 10.54307688874041}, {\"promedio\": 50.509241810741514, \"desv_est\": 9.696293723427004}, {\"promedio\": 49.17892896965988, \"desv_est\": 9.738597196868518}, {\"promedio\": 48.725288455388295, \"desv_est\": 9.718719346757487}, {\"promedio\": 51.440172947407966, \"desv_est\": 9.850103110608465}, {\"promedio\": 48.43618678888126, \"desv_est\": 10.84660098240051}, {\"promedio\": 50.59429304001181, \"desv_est\": 10.222618376689242}, {\"promedio\": 48.21217591086425, \"desv_est\": 9.745575783989008}, {\"promedio\": 48.50089495608508, \"desv_est\": 10.480028619742662}, {\"promedio\": 50.43708498146791, \"desv_est\": 10.363738722000818}, {\"promedio\": 50.195952528663064, \"desv_est\": 10.08652185187728}, {\"promedio\": 50.99260877273048, \"desv_est\": 10.986520290003257}, {\"promedio\": 50.51624694949844, \"desv_est\": 11.03553549984712}, {\"promedio\": 49.79690192895955, \"desv_est\": 10.634414032704642}, {\"promedio\": 50.65774750775296, \"desv_est\": 9.632186163182}, {\"promedio\": 48.600586511958326, \"desv_est\": 10.175227541352289}, {\"promedio\": 48.645228965312604, \"desv_est\": 9.859488036417002}, {\"promedio\": 49.59529349832593, \"desv_est\": 8.11572324795499}, {\"promedio\": 50.22591583334099, \"desv_est\": 9.151364951112127}, {\"promedio\": 48.8093459215557, \"desv_est\": 10.526901074502836}, {\"promedio\": 48.99284522260096, \"desv_est\": 9.374684506600303}, {\"promedio\": 49.42805674307765, \"desv_est\": 9.486096456320405}, {\"promedio\": 49.45462116193977, \"desv_est\": 9.45230525182564}, {\"promedio\": 49.285030103882995, \"desv_est\": 9.870339111489653}, {\"promedio\": 51.66161879349291, \"desv_est\": 9.44509565489915}, {\"promedio\": 51.60374794295086, \"desv_est\": 10.228987017603458}, {\"promedio\": 48.108934550912146, \"desv_est\": 9.329921191718746}, {\"promedio\": 47.73007601778669, \"desv_est\": 9.93091791401507}, {\"promedio\": 49.71361002167353, \"desv_est\": 10.187243086259935}, {\"promedio\": 50.29220492135704, \"desv_est\": 9.958082249751884}, {\"promedio\": 50.80556563939024, \"desv_est\": 10.06473452090598}, {\"promedio\": 49.78008923618587, \"desv_est\": 10.420723385048833}, {\"promedio\": 49.96051988742815, \"desv_est\": 9.255707146765404}, {\"promedio\": 49.037915014228524, \"desv_est\": 9.115062385714808}, {\"promedio\": 49.19303779713945, \"desv_est\": 10.136386061350311}, {\"promedio\": 50.12039339820607, \"desv_est\": 10.684274182327217}, {\"promedio\": 49.3441760157617, \"desv_est\": 10.666020609016082}, {\"promedio\": 49.755340773474536, \"desv_est\": 9.552912266530253}, {\"promedio\": 51.91225671814622, \"desv_est\": 10.585470146223495}, {\"promedio\": 48.64756631617353, \"desv_est\": 10.940443321523965}, {\"promedio\": 50.6727821143099, \"desv_est\": 9.123269258469293}, {\"promedio\": 50.10907058218777, \"desv_est\": 10.294749168301605}, {\"promedio\": 49.28825285406175, \"desv_est\": 10.350369871222545}, {\"promedio\": 49.80641942835072, \"desv_est\": 10.53482361918266}, {\"promedio\": 50.97039393206207, \"desv_est\": 9.809369839342182}, {\"promedio\": 48.16103908759771, \"desv_est\": 9.972070304081798}, {\"promedio\": 51.441806875918964, \"desv_est\": 10.053088611713838}, {\"promedio\": 47.57866554788311, \"desv_est\": 10.02990149768528}, {\"promedio\": 48.75852564757947, \"desv_est\": 11.16950075753376}, {\"promedio\": 49.31469397475893, \"desv_est\": 10.769364787588884}, {\"promedio\": 48.71074376088861, \"desv_est\": 9.280209437681204}, {\"promedio\": 49.65377078108225, \"desv_est\": 9.09118123876634}, {\"promedio\": 48.193015498911734, \"desv_est\": 9.866637575404818}, {\"promedio\": 49.17215768903812, \"desv_est\": 10.431100341730128}, {\"promedio\": 48.80205175561505, \"desv_est\": 10.008630562263729}, {\"promedio\": 48.50641206680505, \"desv_est\": 9.30366925729097}, {\"promedio\": 50.29074966268169, \"desv_est\": 10.440737753784482}, {\"promedio\": 48.84777710528171, \"desv_est\": 10.707239038999614}, {\"promedio\": 50.23925053258219, \"desv_est\": 9.84841313422576}, {\"promedio\": 50.188359416348696, \"desv_est\": 9.683107183890241}, {\"promedio\": 48.510620820630336, \"desv_est\": 11.037282597719203}, {\"promedio\": 49.481888331276906, \"desv_est\": 9.47816216377244}, {\"promedio\": 50.122590382568575, \"desv_est\": 9.39154258463816}, {\"promedio\": 49.56018106609563, \"desv_est\": 11.169101893975967}, {\"promedio\": 49.132910138412655, \"desv_est\": 11.017410354100843}, {\"promedio\": 49.66733566283221, \"desv_est\": 10.964050999779879}, {\"promedio\": 48.80963439211377, \"desv_est\": 10.405718011232928}, {\"promedio\": 49.578437244731155, \"desv_est\": 10.790619058043816}, {\"promedio\": 50.546366778401314, \"desv_est\": 9.805426930674678}, {\"promedio\": 50.3768531518771, \"desv_est\": 9.52753582391236}, {\"promedio\": 49.28970489347536, \"desv_est\": 8.99999204526926}, {\"promedio\": 50.11251820612725, \"desv_est\": 9.54024299810351}, {\"promedio\": 49.31174492273698, \"desv_est\": 10.28917133304981}, {\"promedio\": 50.07454729336962, \"desv_est\": 9.190630020603367}, {\"promedio\": 49.86804429752884, \"desv_est\": 9.995953778152808}, {\"promedio\": 50.20342713383401, \"desv_est\": 10.7592184361555}, {\"promedio\": 49.710234480224045, \"desv_est\": 10.238077994608005}, {\"promedio\": 48.97449254694047, \"desv_est\": 9.65123160180205}, {\"promedio\": 50.547251711673375, \"desv_est\": 9.10531320158497}, {\"promedio\": 50.885073567664364, \"desv_est\": 10.019662364505113}, {\"promedio\": 49.44582749134433, \"desv_est\": 10.512906245108681}, {\"promedio\": 50.9599734828745, \"desv_est\": 10.049494556053613}, {\"promedio\": 49.06167879792221, \"desv_est\": 8.92619654637475}, {\"promedio\": 50.936373905545345, \"desv_est\": 9.781906534490641}, {\"promedio\": 50.24343523614206, \"desv_est\": 10.206990676030554}, {\"promedio\": 49.54075456565034, \"desv_est\": 10.133442299599789}, {\"promedio\": 49.91215558368167, \"desv_est\": 9.797453049019534}, {\"promedio\": 50.94436380850366, \"desv_est\": 10.142326652522696}, {\"promedio\": 50.29068597209835, \"desv_est\": 10.340117607365599}, {\"promedio\": 48.37087641638892, \"desv_est\": 9.754018778920067}, {\"promedio\": 48.682234386747126, \"desv_est\": 10.357561971840033}, {\"promedio\": 49.33331145515971, \"desv_est\": 9.319643689651587}, {\"promedio\": 48.80495670946231, \"desv_est\": 10.081177706182357}, {\"promedio\": 50.01624650067524, \"desv_est\": 9.441339223993182}, {\"promedio\": 49.71773787241876, \"desv_est\": 10.259523289420098}, {\"promedio\": 49.570807654891155, \"desv_est\": 10.312555687130255}, {\"promedio\": 50.03644173593349, \"desv_est\": 10.444871704327335}, {\"promedio\": 50.41195587065305, \"desv_est\": 10.05033264031371}, {\"promedio\": 50.855114367395004, \"desv_est\": 10.42201711995138}, {\"promedio\": 49.842920225012406, \"desv_est\": 10.539944090612414}, {\"promedio\": 49.80715718254977, \"desv_est\": 9.620736416068837}, {\"promedio\": -2.7427867915105493, \"desv_est\": 2.4983091128740584}, {\"promedio\": -1.2221601995550158, \"desv_est\": 4.787681788138322}, {\"promedio\": 2.466310450641608, \"desv_est\": 7.240303636696462}, {\"promedio\": 12.691726854194743, \"desv_est\": 5.938363124879293}, {\"promedio\": 20.30413106035958, \"desv_est\": 8.562793701334709}, {\"promedio\": 18.05441372995003, \"desv_est\": 9.210274154172806}, {\"promedio\": 24.156596303732506, \"desv_est\": 10.15840283260423}, {\"promedio\": 30.667183450510386, \"desv_est\": 9.824194339219025}, {\"promedio\": 45.74591236095282, \"desv_est\": 7.784554486879882}, {\"promedio\": 50.04010935427553, \"desv_est\": 9.576001101875788}, {\"promedio\": 48.79062700842758, \"desv_est\": 10.734659027752858}, {\"promedio\": 47.89599860921389, \"desv_est\": 9.770397748111062}, {\"promedio\": 49.90971413155366, \"desv_est\": 9.089496279845635}, {\"promedio\": 49.67733592014839, \"desv_est\": 10.960934625539743}, {\"promedio\": 49.31443306342903, \"desv_est\": 10.465720371630841}, {\"promedio\": 49.737660947956726, \"desv_est\": 10.550439790504871}, {\"promedio\": 49.37229956763113, \"desv_est\": 10.14121742531488}, {\"promedio\": 48.99825365105269, \"desv_est\": 10.103040583578847}, {\"promedio\": 50.071375035088614, \"desv_est\": 9.67711503626325}, {\"promedio\": 51.10298952656701, \"desv_est\": 11.490623316022852}, {\"promedio\": 48.40849804056931, \"desv_est\": 8.959440141023574}, {\"promedio\": 49.53306700235726, \"desv_est\": 9.993221484907117}, {\"promedio\": 49.09623383610703, \"desv_est\": 10.255447328042042}, {\"promedio\": 50.10046987652396, \"desv_est\": 9.491598007819654}, {\"promedio\": 50.38191996230866, \"desv_est\": 10.193054381913056}, {\"promedio\": 49.84113336587305, \"desv_est\": 10.321494493763728}, {\"promedio\": 50.11825145674969, \"desv_est\": 9.92459371587526}, {\"promedio\": 50.942103638803886, \"desv_est\": 9.968151712020493}, {\"promedio\": 48.57395753541865, \"desv_est\": 9.964511035189823}, {\"promedio\": 50.14859435448116, \"desv_est\": 10.136652619420992}, {\"promedio\": 48.25576401564996, \"desv_est\": 9.917154433301732}, {\"promedio\": 50.435616896583895, \"desv_est\": 9.36862428404881}, {\"promedio\": 48.905290576449886, \"desv_est\": 9.38491491918155}, {\"promedio\": 49.04152592578485, \"desv_est\": 9.04055102622654}, {\"promedio\": 50.72784517423392, \"desv_est\": 10.080877445021823}, {\"promedio\": 49.01544427741051, \"desv_est\": 9.3644503591451}, {\"promedio\": 50.419462702419075, \"desv_est\": 9.354399714847352}, {\"promedio\": 50.02886144369822, \"desv_est\": 10.487484077441241}, {\"promedio\": 50.205142511012575, \"desv_est\": 9.846724483360525}, {\"promedio\": 49.18651978261145, \"desv_est\": 10.11411285378672}, {\"promedio\": 50.6068093146092, \"desv_est\": 9.114762724883267}, {\"promedio\": 49.0496150577294, \"desv_est\": 11.203272338686183}, {\"promedio\": 49.58481544354098, \"desv_est\": 11.183800094849971}, {\"promedio\": 50.03550940570255, \"desv_est\": 9.19847040026744}, {\"promedio\": 47.66817242472034, \"desv_est\": 9.829728673930095}, {\"promedio\": 48.59010172877286, \"desv_est\": 10.001546914888412}, {\"promedio\": 48.97844239370763, \"desv_est\": 9.692557996303263}, {\"promedio\": 49.752447679727716, \"desv_est\": 9.614223818472002}, {\"promedio\": 51.15818363874911, \"desv_est\": 10.216715764030418}, {\"promedio\": 49.7162385122328, \"desv_est\": 10.930965710906097}, {\"promedio\": 49.68956827657563, \"desv_est\": 8.798821165048222}, {\"promedio\": 48.91777673680574, \"desv_est\": 10.96071148812848}, {\"promedio\": 50.187857870051104, \"desv_est\": 10.960161104564687}, {\"promedio\": 49.60535142887849, \"desv_est\": 10.854819455919825}, {\"promedio\": 51.348694145546254, \"desv_est\": 10.756851497964952}, {\"promedio\": 49.65056886524435, \"desv_est\": 11.393419413715757}, {\"promedio\": 50.13026518039554, \"desv_est\": 11.410710195405137}, {\"promedio\": 48.470198729949104, \"desv_est\": 9.28438273397227}, {\"promedio\": 48.57352901761866, \"desv_est\": 10.383733392066963}, {\"promedio\": 49.64238748938395, \"desv_est\": 10.546780039478474}, {\"promedio\": 49.09125159453569, \"desv_est\": 10.275547213838404}, {\"promedio\": 49.531154914898394, \"desv_est\": 10.665164066992036}, {\"promedio\": 50.20231300016327, \"desv_est\": 9.604006700999598}, {\"promedio\": 48.98610122265174, \"desv_est\": 10.289080039437914}, {\"promedio\": 48.831618831770214, \"desv_est\": 10.683488378181984}, {\"promedio\": 49.2367995088446, \"desv_est\": 9.721979777000211}, {\"promedio\": 49.3352683059686, \"desv_est\": 9.946171663266243}, {\"promedio\": 48.91052284083343, \"desv_est\": 10.165156707713335}, {\"promedio\": 49.6074980025256, \"desv_est\": 9.555736910032653}, {\"promedio\": 48.81967164823111, \"desv_est\": 11.077138252067764}, {\"promedio\": 50.36089732454726, \"desv_est\": 10.681667919068158}, {\"promedio\": 47.69629512201858, \"desv_est\": 10.821577096696918}, {\"promedio\": 48.4005225194933, \"desv_est\": 10.996434240171101}, {\"promedio\": 50.92591730819698, \"desv_est\": 11.405678799686108}, {\"promedio\": 51.70066926155161, \"desv_est\": 9.829387801122794}, {\"promedio\": 47.39841547224715, \"desv_est\": 10.365804501369269}, {\"promedio\": 49.29846228389207, \"desv_est\": 9.544144658692275}, {\"promedio\": 50.716269802525616, \"desv_est\": 9.910057061689052}, {\"promedio\": 49.36656810176704, \"desv_est\": 10.355422622163598}, {\"promedio\": 47.80322730239034, \"desv_est\": 10.582898569427345}, {\"promedio\": 50.81666954295195, \"desv_est\": 10.21536518008514}, {\"promedio\": 49.73097484008157, \"desv_est\": 10.843800261810005}, {\"promedio\": 50.76224977189039, \"desv_est\": 11.206968366250553}, {\"promedio\": 48.4253834754099, \"desv_est\": 10.836427676139403}, {\"promedio\": 49.54806660891931, \"desv_est\": 10.973220456818085}, {\"promedio\": 47.98601962382285, \"desv_est\": 9.75254791433378}, {\"promedio\": 50.42944688627171, \"desv_est\": 10.292835463143891}, {\"promedio\": 48.677176032408056, \"desv_est\": 11.200019752139845}, {\"promedio\": 49.84241778243219, \"desv_est\": 9.523238939989124}, {\"promedio\": 49.32960494550197, \"desv_est\": 9.294299974016754}, {\"promedio\": 49.47894797555388, \"desv_est\": 10.250430125815251}, {\"promedio\": 49.59461370769149, \"desv_est\": 9.254884014092056}, {\"promedio\": 49.02339333262537, \"desv_est\": 9.537101461979308}, {\"promedio\": 49.546530786103375, \"desv_est\": 10.819437268465748}, {\"promedio\": 50.88191769397156, \"desv_est\": 9.985826849434126}, {\"promedio\": 49.92341702888234, \"desv_est\": 10.066517942504452}, {\"promedio\": 50.84236721782667, \"desv_est\": 10.573123932078555}, {\"promedio\": 49.11938569848283, \"desv_est\": 8.646537319511156}, {\"promedio\": 48.96035211278685, \"desv_est\": 8.736934015774429}, {\"promedio\": 49.53996071777884, \"desv_est\": 9.596935730674762}, {\"promedio\": 49.10852479180756, \"desv_est\": 10.361505964766417}, {\"promedio\": 49.01375819029358, \"desv_est\": 10.752970551187863}, {\"promedio\": 49.55486347295745, \"desv_est\": 9.495123764137414}, {\"promedio\": 49.73472666107912, \"desv_est\": 9.151655472317318}, {\"promedio\": 50.62379836645776, \"desv_est\": 9.600847243960235}, {\"promedio\": 51.288136962747714, \"desv_est\": 11.243891136089395}, {\"promedio\": 50.43315551975357, \"desv_est\": 11.429311374147062}, {\"promedio\": 50.679239811791774, \"desv_est\": 10.72850773962891}, {\"promedio\": 50.59794001580608, \"desv_est\": 10.774627646460543}, {\"promedio\": 48.609955477274426, \"desv_est\": 9.505073419860501}, {\"promedio\": 50.49655889122981, \"desv_est\": 9.481845590015167}, {\"promedio\": 48.49964187090894, \"desv_est\": 9.230626092644496}, {\"promedio\": 48.409504253784775, \"desv_est\": 10.736052533287832}, {\"promedio\": 50.75519890190394, \"desv_est\": 10.070384847634125}, {\"promedio\": 50.37030707881086, \"desv_est\": 9.891650552008755}, {\"promedio\": 49.04712829460943, \"desv_est\": 9.953586037175631}, {\"promedio\": 49.045686033184865, \"desv_est\": 9.811264957275725}, {\"promedio\": 50.122974536052936, \"desv_est\": 9.178917037422403}, {\"promedio\": 49.37986841731634, \"desv_est\": 9.15095141681558}, {\"promedio\": 47.710465104129966, \"desv_est\": 11.588137629048038}, {\"promedio\": 51.3943522500506, \"desv_est\": 11.748528309616704}, {\"promedio\": 47.67402562471025, \"desv_est\": 11.560973893687706}, {\"promedio\": 47.591321122642626, \"desv_est\": 11.46879077635432}, {\"promedio\": 48.36096639942345, \"desv_est\": 11.146071792439564}, {\"promedio\": 48.718116762266234, \"desv_est\": 9.583758470114423}, {\"promedio\": 48.295516832769174, \"desv_est\": 9.418678893405152}, {\"promedio\": 49.26306903117005, \"desv_est\": 10.29293628017783}, {\"promedio\": 47.83057043373837, \"desv_est\": 9.875088817004528}, {\"promedio\": 47.93331957758745, \"desv_est\": 10.94803807893276}, {\"promedio\": 49.61465654992486, \"desv_est\": 11.408287908031639}, {\"promedio\": 49.18304724779617, \"desv_est\": 11.36511159987226}, {\"promedio\": 51.66387541663384, \"desv_est\": 10.486528033462417}, {\"promedio\": 48.24370752390353, \"desv_est\": 9.890441138680165}, {\"promedio\": 49.35848819960941, \"desv_est\": 9.7826582821816}, {\"promedio\": 51.40157981040282, \"desv_est\": 9.974047454765548}, {\"promedio\": 50.13245987419058, \"desv_est\": 9.562907863783684}, {\"promedio\": 49.88930574213877, \"desv_est\": 10.45232712362589}, {\"promedio\": 50.08243253577274, \"desv_est\": 9.473825514911043}, {\"promedio\": 49.68270289571401, \"desv_est\": 9.31945892704509}, {\"promedio\": 49.31663855140481, \"desv_est\": 10.283476555737211}, {\"promedio\": 51.69929284705386, \"desv_est\": 9.901328483572742}, {\"promedio\": 47.87504196893096, \"desv_est\": 9.96609870706257}, {\"promedio\": 49.508907481856724, \"desv_est\": 10.783221017192156}, {\"promedio\": 50.41683934246826, \"desv_est\": 10.850310276812102}, {\"promedio\": 48.918687558219744, \"desv_est\": 9.71994380082067}, {\"promedio\": 49.915267934188414, \"desv_est\": 10.469804632231597}, {\"promedio\": 51.02134881269287, \"desv_est\": 10.266870760431114}, {\"promedio\": 47.76391490905596, \"desv_est\": 9.603971497259064}, {\"promedio\": 48.29946020964213, \"desv_est\": 8.829652306932978}, {\"promedio\": 49.4662609897321, \"desv_est\": 10.59024343999325}, {\"promedio\": 48.73970011416226, \"desv_est\": 9.70946718177204}, {\"promedio\": 48.74125104393624, \"desv_est\": 10.098270342271144}, {\"promedio\": 51.06941642869818, \"desv_est\": 10.328333817647065}, {\"promedio\": 49.96553522208357, \"desv_est\": 10.64537972370012}, {\"promedio\": 49.744418432085354, \"desv_est\": 11.311427832389864}, {\"promedio\": 49.437492725346885, \"desv_est\": 11.267239251975164}, {\"promedio\": 50.4290119515872, \"desv_est\": 11.364074927100807}, {\"promedio\": 49.29307348265248, \"desv_est\": 9.345847931554605}, {\"promedio\": 50.33173929511359, \"desv_est\": 9.682121847585314}, {\"promedio\": 51.33814837176068, \"desv_est\": 10.336592030927319}, {\"promedio\": 49.88091737854452, \"desv_est\": 10.942032454331759}, {\"promedio\": 48.582742996436835, \"desv_est\": 10.840331011834415}, {\"promedio\": 49.59557849977699, \"desv_est\": 9.922904390445334}, {\"promedio\": 49.36224235273156, \"desv_est\": 10.23442790218055}, {\"promedio\": 49.204693730256565, \"desv_est\": 10.46301583147972}, {\"promedio\": 49.90191376686142, \"desv_est\": 9.640730280620623}, {\"promedio\": 49.68519768460808, \"desv_est\": 9.191380540722065}, {\"promedio\": 48.78608508100839, \"desv_est\": 10.437927904396695}, {\"promedio\": 48.66377088797618, \"desv_est\": 9.50931435378914}, {\"promedio\": 50.9848471491369, \"desv_est\": 10.639936263176907}, {\"promedio\": 49.94367479936651, \"desv_est\": 8.841142829473215}, {\"promedio\": 49.71399344050961, \"desv_est\": 10.864787870789197}, {\"promedio\": 48.59466341317535, \"desv_est\": 10.75404271526578}, {\"promedio\": 49.59446580337623, \"desv_est\": 9.132505810644348}, {\"promedio\": 49.16187125388159, \"desv_est\": 9.163148278828556}, {\"promedio\": 49.36434487584003, \"desv_est\": 11.438416855807521}, {\"promedio\": 50.51041189379339, \"desv_est\": 10.565169801242108}, {\"promedio\": 49.97521784139329, \"desv_est\": 9.10993684451093}, {\"promedio\": 49.64404706906604, \"desv_est\": 9.605697980922248}, {\"promedio\": 48.479493839308915, \"desv_est\": 8.798790444104853}, {\"promedio\": 48.17834496374897, \"desv_est\": 8.300936112417238}, {\"promedio\": 48.24788636869906, \"desv_est\": 8.92795118308284}, {\"promedio\": 48.325389801020684, \"desv_est\": 10.216031193119756}, {\"promedio\": 49.13671056808582, \"desv_est\": 9.60856066817168}, {\"promedio\": 49.60221061145389, \"desv_est\": 9.094396472909516}, {\"promedio\": 47.96148951664356, \"desv_est\": 9.84700299078483}, {\"promedio\": 49.63301749053883, \"desv_est\": 9.230430155547678}, {\"promedio\": 48.51833163002499, \"desv_est\": 10.050539622359299}, {\"promedio\": 50.377145922465765, \"desv_est\": 9.831288602333847}, {\"promedio\": 49.27870642653914, \"desv_est\": 9.92462004649153}, {\"promedio\": 50.52731630152356, \"desv_est\": 10.145246886535713}, {\"promedio\": 50.19541491312795, \"desv_est\": 9.648267168856604}, {\"promedio\": 49.01727424287609, \"desv_est\": 9.734496647664418}, {\"promedio\": 49.39261423667519, \"desv_est\": 9.489582870388292}, {\"promedio\": 48.90557611371067, \"desv_est\": 9.631896143373408}, {\"promedio\": 49.97650477436525, \"desv_est\": 9.751980775030392}, {\"promedio\": 49.098412751109365, \"desv_est\": 10.407174420961791}, {\"promedio\": 50.81152520676867, \"desv_est\": 9.915791852527123}, {\"promedio\": 49.86836431100839, \"desv_est\": 9.028056436430663}, {\"promedio\": 49.00247085571731, \"desv_est\": 9.995134112253021}, {\"promedio\": 50.2077629557041, \"desv_est\": 10.084279081938401}, {\"promedio\": 50.499472972732626, \"desv_est\": 9.739928876486944}, {\"promedio\": 49.334518360748085, \"desv_est\": 10.867160678123629}, {\"promedio\": 49.57017484724443, \"desv_est\": 10.456802488345328}, {\"promedio\": 49.7366672665979, \"desv_est\": 10.662058354140463}, {\"promedio\": 50.37283057100221, \"desv_est\": 10.128507284409698}, {\"promedio\": 48.98258683115265, \"desv_est\": 9.478062104670148}, {\"promedio\": 50.719208646224075, \"desv_est\": 9.715775572748027}, {\"promedio\": 49.90655284671348, \"desv_est\": 10.326944461644533}, {\"promedio\": 48.93321816212139, \"desv_est\": 9.000695609873024}, {\"promedio\": 49.95760792006061, \"desv_est\": 10.122103397950598}, {\"promedio\": 48.41414923985747, \"desv_est\": 10.029364910724023}, {\"promedio\": 49.19174095639886, \"desv_est\": 10.013938629521691}, {\"promedio\": 50.138838833631645, \"desv_est\": 9.536471830796062}, {\"promedio\": 49.02230354531565, \"desv_est\": 8.457525064218036}, {\"promedio\": 48.43511998977782, \"desv_est\": 9.561420451027152}, {\"promedio\": 49.369808176815425, \"desv_est\": 10.893975345865146}, {\"promedio\": 48.80686859832623, \"desv_est\": 10.507530337332776}, {\"promedio\": 49.651108076596614, \"desv_est\": 10.406095366652734}, {\"promedio\": 49.396555687117186, \"desv_est\": 9.720726770875764}, {\"promedio\": 49.90191569273401, \"desv_est\": 9.643618246539985}, {\"promedio\": 49.12565832568159, \"desv_est\": 8.934808413963252}, {\"promedio\": 50.142207034367274, \"desv_est\": 9.255483316601909}, {\"promedio\": 49.11117841215988, \"desv_est\": 8.972629316460724}, {\"promedio\": 48.548127819118015, \"desv_est\": 10.375060945891693}, {\"promedio\": 50.785483959425434, \"desv_est\": 11.047190454914414}, {\"promedio\": 48.07984892538863, \"desv_est\": 11.245231232893381}, {\"promedio\": 48.95569344459473, \"desv_est\": 11.01548380978238}, {\"promedio\": 49.905920151404835, \"desv_est\": 11.202127560791972}, {\"promedio\": 48.530268192999465, \"desv_est\": 12.726872591106048}, {\"promedio\": 49.14954933849462, \"desv_est\": 12.475111358240666}, {\"promedio\": 51.185848322839846, \"desv_est\": 10.745945353678936}, {\"promedio\": 48.80596708813552, \"desv_est\": 9.813724324188884}, {\"promedio\": 48.86734697599288, \"desv_est\": 10.096524260097175}, {\"promedio\": 50.20450099927056, \"desv_est\": 11.372284821684618}, {\"promedio\": 49.35891365803713, \"desv_est\": 11.591232504672481}, {\"promedio\": 47.45469775337578, \"desv_est\": 10.014828660943277}, {\"promedio\": 49.01151625141549, \"desv_est\": 10.009124402394571}, {\"promedio\": 50.73147103087448, \"desv_est\": 10.140835689890828}, {\"promedio\": 49.198997793030316, \"desv_est\": 10.560604195176555}, {\"promedio\": 48.283775656763204, \"desv_est\": 9.741809655594977}, {\"promedio\": 49.308395056437206, \"desv_est\": 10.437452450586346}, {\"promedio\": 49.412282942474775, \"desv_est\": 9.638315593892857}, {\"promedio\": 48.64121866652048, \"desv_est\": 10.702128074478344}, {\"promedio\": 51.06164037206456, \"desv_est\": 10.156665581676904}, {\"promedio\": 49.177406745629376, \"desv_est\": 9.895232475646539}, {\"promedio\": 49.11768957741019, \"desv_est\": 9.198662589302694}, {\"promedio\": 48.50209291883669, \"desv_est\": 10.363953528851006}, {\"promedio\": 51.750518286410376, \"desv_est\": 10.499616071499727}, {\"promedio\": 50.17226988752678, \"desv_est\": 11.672113519733411}, {\"promedio\": 48.416252452162134, \"desv_est\": 10.801024665816435}, {\"promedio\": 51.376476408625734, \"desv_est\": 10.259104641499595}, {\"promedio\": 51.547508489514, \"desv_est\": 10.68035460092845}, {\"promedio\": 48.72332934006077, \"desv_est\": 9.02867387717664}, {\"promedio\": 50.02535478971894, \"desv_est\": 9.46646880605917}, {\"promedio\": 49.26962001494651, \"desv_est\": 10.348448576397889}, {\"promedio\": 48.821181622708075, \"desv_est\": 10.354201778052495}, {\"promedio\": 49.35074075304991, \"desv_est\": 10.203469748057124}, {\"promedio\": 49.21259659365009, \"desv_est\": 9.846624665736867}, {\"promedio\": 48.3997463157011, \"desv_est\": 9.488108593809477}, {\"promedio\": 49.7923405808011, \"desv_est\": 9.950031900351123}, {\"promedio\": 50.08233239630503, \"desv_est\": 10.26678576304491}, {\"promedio\": 50.16277834721861, \"desv_est\": 9.907446069975855}, {\"promedio\": 49.63509542241637, \"desv_est\": 9.135507834206393}, {\"promedio\": 50.08117113283491, \"desv_est\": 10.119365637913575}, {\"promedio\": 48.70544469332131, \"desv_est\": 10.35765781639113}, {\"promedio\": 50.69679222578786, \"desv_est\": 9.736935983975648}, {\"promedio\": 50.041890780514905, \"desv_est\": 9.440177962386988}, {\"promedio\": 49.54853392886523, \"desv_est\": 9.332939763297267}, {\"promedio\": 49.3418299622122, \"desv_est\": 10.391133420129169}, {\"promedio\": 49.96383536806287, \"desv_est\": 9.442158993451763}, {\"promedio\": 50.15763779463101, \"desv_est\": 9.203117461823155}, {\"promedio\": 51.03786875021813, \"desv_est\": 9.562647764102381}, {\"promedio\": 48.77338188470305, \"desv_est\": 9.793702177619984}, {\"promedio\": 48.94463795306112, \"desv_est\": 10.54024339300039}, {\"promedio\": 50.01279471683762, \"desv_est\": 10.317999497605154}, {\"promedio\": 50.10015556748068, \"desv_est\": 9.919995825166588}, {\"promedio\": 50.55270795380713, \"desv_est\": 9.17378347813464}, {\"promedio\": 50.83596010545837, \"desv_est\": 10.11495592460104}, {\"promedio\": 50.353336779243776, \"desv_est\": 10.26597777018878}, {\"promedio\": 51.17399296941929, \"desv_est\": 9.764576840304043}, {\"promedio\": 49.34498788534492, \"desv_est\": 9.224310821833674}, {\"promedio\": 48.471548442145235, \"desv_est\": 9.707386956262356}, {\"promedio\": 49.23660826471579, \"desv_est\": 10.318697378158582}, {\"promedio\": 51.02935545639425, \"desv_est\": 9.716554008111066}, {\"promedio\": 49.423923554527285, \"desv_est\": 8.955324987587975}, {\"promedio\": 50.82787242147403, \"desv_est\": 10.008607407514456}, {\"promedio\": 49.287767998674596, \"desv_est\": 9.843443589767544}, {\"promedio\": 49.87162572544523, \"desv_est\": 9.864459842894247}, {\"promedio\": 50.054482838075366, \"desv_est\": 9.056865508154122}, {\"promedio\": 49.28402160753335, \"desv_est\": 9.910765565016977}, {\"promedio\": 49.242046275008015, \"desv_est\": 10.117536161214176}, {\"promedio\": 50.03942195918225, \"desv_est\": 9.983210383668752}, {\"promedio\": 50.41031715955521, \"desv_est\": 9.707483936586845}, {\"promedio\": 49.41886454770584, \"desv_est\": 10.544980449887415}, {\"promedio\": 47.984756180579616, \"desv_est\": 10.34947860244419}, {\"promedio\": 48.63516516759323, \"desv_est\": 9.973992770794432}, {\"promedio\": 50.89655316677966, \"desv_est\": 9.55657396777167}, {\"promedio\": 50.22856035098314, \"desv_est\": 9.899254745059734}, {\"promedio\": 49.57297598391535, \"desv_est\": 9.971250705287389}, {\"promedio\": 50.75972563592216, \"desv_est\": 9.751129520277331}, {\"promedio\": 50.24480476099836, \"desv_est\": 9.151642662579127}, {\"promedio\": 50.97650471413717, \"desv_est\": 9.601958468044531}, {\"promedio\": 50.381951370752866, \"desv_est\": 9.684239473337623}, {\"promedio\": 50.0641456448276, \"desv_est\": 10.574816844938516}, {\"promedio\": 48.512243568454295, \"desv_est\": 9.61785677446293}, {\"promedio\": 50.73045111099574, \"desv_est\": 9.921505136074849}, {\"promedio\": 50.704103858819295, \"desv_est\": 9.804602523314285}, {\"promedio\": 49.53494269760838, \"desv_est\": 10.361751587753364}, {\"promedio\": 50.5823509965144, \"desv_est\": 10.040658709230431}, {\"promedio\": 48.267264917952204, \"desv_est\": 10.806699301470216}, {\"promedio\": 48.354196820899986, \"desv_est\": 10.743052634345158}, {\"promedio\": 49.87225211569173, \"desv_est\": 8.938869219731677}, {\"promedio\": 51.36762427332275, \"desv_est\": 9.976586310037213}, {\"promedio\": 49.411790918765824, \"desv_est\": 11.103148825083156}, {\"promedio\": 50.06151903457877, \"desv_est\": 10.557729573413418}, {\"promedio\": 50.34163465086996, \"desv_est\": 10.983379457281837}, {\"promedio\": 49.08692973737157, \"desv_est\": 9.06977825715884}, {\"promedio\": 49.494588913890226, \"desv_est\": 9.236329135915518}, {\"promedio\": 50.60617871701682, \"desv_est\": 9.590194862205259}, {\"promedio\": 48.810210077108195, \"desv_est\": 10.407784507347724}, {\"promedio\": 50.38220842661858, \"desv_est\": 9.879815748966113}, {\"promedio\": 50.12065083221735, \"desv_est\": 9.649180274888561}, {\"promedio\": 49.71565761275675, \"desv_est\": 9.37916004808748}, {\"promedio\": 48.119757407137854, \"desv_est\": 8.842591126383878}, {\"promedio\": 51.25458857597046, \"desv_est\": 10.152443305773657}, {\"promedio\": 48.32339801255546, \"desv_est\": 11.402571727319637}, {\"promedio\": 46.933275752551175, \"desv_est\": 11.114520709687534}, {\"promedio\": 50.343498736693974, \"desv_est\": 9.671113417078194}, {\"promedio\": 50.1369971515898, \"desv_est\": 10.747378702857041}, {\"promedio\": 48.88205639136318, \"desv_est\": 9.635593191512495}]}}, {\"mode\": \"vega-lite\"});\n",
       "</script>"
      ],
      "text/plain": [
       "alt.HConcatChart(...)"
      ]
     },
     "execution_count": 14,
     "metadata": {},
     "output_type": "execute_result"
    }
   ],
   "source": [
    "# Resultados (en forma de distribución, ambas cadenas)\n",
    "plot"
   ]
  },
  {
   "cell_type": "markdown",
   "metadata": {
    "slideshow": {
     "slide_type": "subslide"
    }
   },
   "source": [
    "\"Todos los modelos están mal, algunos son útiles\" (Box,1976)\n",
    "\n",
    "¿Predice nuestro modelo la data? <br>\n",
    "*Posterior predictive check* ($y^{rep}$: valor simulado; $y$: data; $\\theta$: parámetros)\n",
    "\n",
    "$$p(y^{rep}|y) = \\int p(y^{rep}|\\theta) p(\\theta|y) d\\theta $$"
   ]
  },
  {
   "cell_type": "markdown",
   "metadata": {
    "slideshow": {
     "slide_type": "fragment"
    }
   },
   "source": [
    "En lenguaje natural (casi): <br> \n",
    "En la integral, está el likelihood (1er termino) y posterior (2do). La implementamos con valores aleatorios de los parámetros $\\theta$."
   ]
  },
  {
   "cell_type": "code",
   "execution_count": 15,
   "metadata": {
    "slideshow": {
     "slide_type": "subslide"
    }
   },
   "outputs": [],
   "source": [
    "# Posterior predictive check\n",
    "n_rep = 5000 \n",
    "y_rep = []\n",
    "for n in range(n_rep):\n",
    "    #posterior (2do termino integral)\n",
    "    idx = np.random.randint(data_mcmc.shape[0])\n",
    "    prom_rep = data_mcmc.loc[idx,'promedio']\n",
    "    idx = np.random.randint(data_mcmc.shape[0])\n",
    "    desv_est_rep = data_mcmc.loc[idx,'desv_est']\n",
    "    \n",
    "    #likelihood (1er termino integral)\n",
    "    y_rep.append(st.norm.rvs(prom_rep, desv_est_rep, size=1))\n"
   ]
  },
  {
   "cell_type": "code",
   "execution_count": 16,
   "metadata": {
    "slideshow": {
     "slide_type": "skip"
    }
   },
   "outputs": [],
   "source": [
    "data_ppc = pd.DataFrame({'y_rep':np.array(y_rep)[:,0]}) \n",
    "den_ppc = alt.Chart(data_ppc).transform_density(#transformaciones a la data\n",
    "        density = 'y_rep', extent = [20,80], counts = True, steps=bins\n",
    "    ).mark_line( #tipo de gráfica\n",
    "        color='green', opacity=.75, strokeWidth = 5\n",
    "    ).encode(#detalles de los ejes\n",
    "        alt.X('value:Q', axis=alt.Axis(title='y_rep')),\n",
    "        alt.Y('density:Q', axis=alt.Axis(title=\"Densidad (kde)\")),\n",
    "    ).properties(\n",
    "        width=250, height=250, title = 'PPC'\n",
    "    )\n",
    "plot_ppc_data = (den_ppc | den_data.properties(\n",
    "    width=250, height=250, title = 'Data')\n",
    ").configure_axis(\n",
    "    titleFontSize=20, labelFontSize = 15, grid=False\n",
    ").configure_title(\n",
    "    fontSize=24\n",
    ")"
   ]
  },
  {
   "cell_type": "code",
   "execution_count": 17,
   "metadata": {
    "slideshow": {
     "slide_type": "fragment"
    }
   },
   "outputs": [
    {
     "data": {
      "text/html": [
       "\n",
       "<div id=\"altair-viz-4dc702c48549455fb6595776130bdfdf\"></div>\n",
       "<script type=\"text/javascript\">\n",
       "  (function(spec, embedOpt){\n",
       "    let outputDiv = document.currentScript.previousElementSibling;\n",
       "    if (outputDiv.id !== \"altair-viz-4dc702c48549455fb6595776130bdfdf\") {\n",
       "      outputDiv = document.getElementById(\"altair-viz-4dc702c48549455fb6595776130bdfdf\");\n",
       "    }\n",
       "    const paths = {\n",
       "      \"vega\": \"https://cdn.jsdelivr.net/npm//vega@5?noext\",\n",
       "      \"vega-lib\": \"https://cdn.jsdelivr.net/npm//vega-lib?noext\",\n",
       "      \"vega-lite\": \"https://cdn.jsdelivr.net/npm//vega-lite@4.8.1?noext\",\n",
       "      \"vega-embed\": \"https://cdn.jsdelivr.net/npm//vega-embed@6?noext\",\n",
       "    };\n",
       "\n",
       "    function loadScript(lib) {\n",
       "      return new Promise(function(resolve, reject) {\n",
       "        var s = document.createElement('script');\n",
       "        s.src = paths[lib];\n",
       "        s.async = true;\n",
       "        s.onload = () => resolve(paths[lib]);\n",
       "        s.onerror = () => reject(`Error loading script: ${paths[lib]}`);\n",
       "        document.getElementsByTagName(\"head\")[0].appendChild(s);\n",
       "      });\n",
       "    }\n",
       "\n",
       "    function showError(err) {\n",
       "      outputDiv.innerHTML = `<div class=\"error\" style=\"color:red;\">${err}</div>`;\n",
       "      throw err;\n",
       "    }\n",
       "\n",
       "    function displayChart(vegaEmbed) {\n",
       "      vegaEmbed(outputDiv, spec, embedOpt)\n",
       "        .catch(err => showError(`Javascript Error: ${err.message}<br>This usually means there's a typo in your chart specification. See the javascript console for the full traceback.`));\n",
       "    }\n",
       "\n",
       "    if(typeof define === \"function\" && define.amd) {\n",
       "      requirejs.config({paths});\n",
       "      require([\"vega-embed\"], displayChart, err => showError(`Error loading script: ${err.message}`));\n",
       "    } else if (typeof vegaEmbed === \"function\") {\n",
       "      displayChart(vegaEmbed);\n",
       "    } else {\n",
       "      loadScript(\"vega\")\n",
       "        .then(() => loadScript(\"vega-lite\"))\n",
       "        .then(() => loadScript(\"vega-embed\"))\n",
       "        .catch(showError)\n",
       "        .then(() => displayChart(vegaEmbed));\n",
       "    }\n",
       "  })({\"config\": {\"view\": {\"continuousWidth\": 400, \"continuousHeight\": 300}, \"axis\": {\"grid\": false, \"labelFontSize\": 15, \"titleFontSize\": 20}, \"title\": {\"fontSize\": 24}}, \"hconcat\": [{\"data\": {\"name\": \"data-64abedc4a604517cb7b317babe1bf56a\"}, \"mark\": {\"type\": \"line\", \"color\": \"green\", \"opacity\": 0.75, \"strokeWidth\": 5}, \"encoding\": {\"x\": {\"type\": \"quantitative\", \"axis\": {\"title\": \"y_rep\"}, \"field\": \"value\"}, \"y\": {\"type\": \"quantitative\", \"axis\": {\"title\": \"Densidad (kde)\"}, \"field\": \"density\"}}, \"height\": 250, \"title\": \"PPC\", \"transform\": [{\"density\": \"y_rep\", \"counts\": true, \"extent\": [20, 80], \"steps\": 20}], \"width\": 250}, {\"data\": {\"name\": \"data-54333941b8175b3efb77ea907d4ee455\"}, \"mark\": {\"type\": \"line\", \"color\": \"red\", \"opacity\": 0.35, \"strokeWidth\": 5}, \"encoding\": {\"x\": {\"type\": \"quantitative\", \"axis\": {\"title\": \"Variable\"}, \"field\": \"value\"}, \"y\": {\"type\": \"quantitative\", \"axis\": {\"title\": \"Densidad (kde)\"}, \"field\": \"density\"}}, \"height\": 250, \"title\": \"Data\", \"transform\": [{\"density\": \"muestra\", \"counts\": true, \"steps\": 20}], \"width\": 250}], \"$schema\": \"https://vega.github.io/schema/vega-lite/v4.8.1.json\", \"datasets\": {\"data-64abedc4a604517cb7b317babe1bf56a\": [{\"y_rep\": 63.33536875925859}, {\"y_rep\": 50.973676002637816}, {\"y_rep\": 32.202932563234704}, {\"y_rep\": 39.96598545430503}, {\"y_rep\": 55.296515591232954}, {\"y_rep\": 36.14572700661841}, {\"y_rep\": 47.3082974326822}, {\"y_rep\": 67.37035522083022}, {\"y_rep\": 63.61239524816389}, {\"y_rep\": 70.63064100401769}, {\"y_rep\": 56.08701581755379}, {\"y_rep\": 50.15092047445611}, {\"y_rep\": 51.027969497716725}, {\"y_rep\": 43.90104544335392}, {\"y_rep\": 48.81525830242389}, {\"y_rep\": 45.07735740407406}, {\"y_rep\": 56.696658196268125}, {\"y_rep\": 42.05568759741773}, {\"y_rep\": 49.96852118047217}, {\"y_rep\": 34.50880716442323}, {\"y_rep\": 56.888367040169264}, {\"y_rep\": 42.830696740314764}, {\"y_rep\": 28.000854925192954}, {\"y_rep\": 40.58135510479096}, {\"y_rep\": 59.09858417215069}, {\"y_rep\": 45.65527852728092}, {\"y_rep\": 58.20804692862601}, {\"y_rep\": 56.03338818757824}, {\"y_rep\": 43.03069881606931}, {\"y_rep\": 54.91099796117599}, {\"y_rep\": 35.12148645935813}, {\"y_rep\": 39.06295531385558}, {\"y_rep\": 43.372938534664975}, {\"y_rep\": 39.50457322498128}, {\"y_rep\": 60.90611145109097}, {\"y_rep\": 28.57154774025054}, {\"y_rep\": 43.96982948447556}, {\"y_rep\": 37.443020259249295}, {\"y_rep\": 35.610274901587225}, {\"y_rep\": 45.82968639243628}, {\"y_rep\": 49.672494224834836}, {\"y_rep\": 65.45419462629766}, {\"y_rep\": 65.37454551265542}, {\"y_rep\": 43.05721580921021}, {\"y_rep\": 53.25757890651912}, {\"y_rep\": 39.466643457475236}, {\"y_rep\": 36.20767328437879}, {\"y_rep\": 55.920263549910985}, {\"y_rep\": 49.24516049416625}, {\"y_rep\": 45.40575415506683}, {\"y_rep\": 71.81810806058722}, {\"y_rep\": 42.88389938740295}, {\"y_rep\": 28.426485610362406}, {\"y_rep\": 45.424144419505815}, {\"y_rep\": 55.489047397350596}, {\"y_rep\": 49.30014457504106}, {\"y_rep\": 34.71692963627741}, {\"y_rep\": 40.159145648774945}, {\"y_rep\": 46.031521471099296}, {\"y_rep\": 47.65064605984743}, {\"y_rep\": 27.04539284439531}, {\"y_rep\": 46.187458930046034}, {\"y_rep\": 39.090963456606026}, {\"y_rep\": 59.22822358893888}, {\"y_rep\": 61.060785076284255}, {\"y_rep\": 42.945998605922625}, {\"y_rep\": 42.60899353613807}, {\"y_rep\": 53.6482744137017}, {\"y_rep\": 48.54645054013563}, {\"y_rep\": 58.40220245849787}, {\"y_rep\": 46.805396736009556}, {\"y_rep\": 49.87906390699726}, {\"y_rep\": 73.25024280254937}, {\"y_rep\": 53.829908053045884}, {\"y_rep\": 54.21948053353965}, {\"y_rep\": 48.72303492142694}, {\"y_rep\": 51.63083953530763}, {\"y_rep\": 46.760248231483075}, {\"y_rep\": 59.28009915068113}, {\"y_rep\": 56.40799616522719}, {\"y_rep\": 48.39250002364637}, {\"y_rep\": 44.69407211265891}, {\"y_rep\": 48.047676024554946}, {\"y_rep\": 55.22478973959186}, {\"y_rep\": 55.42317298485976}, {\"y_rep\": 54.09076397639684}, {\"y_rep\": 42.389803805427356}, {\"y_rep\": 47.35746054166395}, {\"y_rep\": 62.392534691938934}, {\"y_rep\": 38.3974607509907}, {\"y_rep\": 55.11744077770417}, {\"y_rep\": 54.79806295977649}, {\"y_rep\": 59.112865298761776}, {\"y_rep\": 33.968418975923356}, {\"y_rep\": 55.807247172336126}, {\"y_rep\": 44.04738533701848}, {\"y_rep\": 61.665919263003445}, {\"y_rep\": 51.68071668152431}, {\"y_rep\": 53.15214352286113}, {\"y_rep\": 52.67170525562448}, {\"y_rep\": 51.88605286270387}, {\"y_rep\": 44.95207588287248}, {\"y_rep\": 58.0545898023454}, {\"y_rep\": 53.25316904338961}, {\"y_rep\": 57.3750138865437}, {\"y_rep\": 52.29118500872707}, {\"y_rep\": 47.698317056691}, {\"y_rep\": 49.68430064604246}, {\"y_rep\": 40.23039274997608}, {\"y_rep\": 47.4131555751363}, {\"y_rep\": 34.63340115984214}, {\"y_rep\": 83.1861799607619}, {\"y_rep\": 54.29391137824115}, {\"y_rep\": 56.55246037972067}, {\"y_rep\": 66.42490940596109}, {\"y_rep\": 41.367011767495185}, {\"y_rep\": 57.55319287930894}, {\"y_rep\": 40.57353719329941}, {\"y_rep\": 29.514111345987942}, {\"y_rep\": 28.30987535971215}, {\"y_rep\": 47.03204499721464}, {\"y_rep\": 60.39017468944199}, {\"y_rep\": 48.85492278861799}, {\"y_rep\": 41.172350421041806}, {\"y_rep\": 35.72808738858555}, {\"y_rep\": 56.67613286373573}, {\"y_rep\": -11.329622397560755}, {\"y_rep\": 39.715174331488015}, {\"y_rep\": 59.44547917550553}, {\"y_rep\": 70.42635008301896}, {\"y_rep\": 39.982633310751886}, {\"y_rep\": 36.75785128359346}, {\"y_rep\": 59.004974394594896}, {\"y_rep\": 47.07224273667393}, {\"y_rep\": 39.00168192472146}, {\"y_rep\": 58.023333161809205}, {\"y_rep\": 54.86202312186221}, {\"y_rep\": 48.36530472207418}, {\"y_rep\": 44.20554369876545}, {\"y_rep\": 33.88397884510057}, {\"y_rep\": 56.83452402233049}, {\"y_rep\": 47.11388553076868}, {\"y_rep\": 48.195019160250204}, {\"y_rep\": 40.21257594628561}, {\"y_rep\": 58.56497849897197}, {\"y_rep\": 64.64239051648845}, {\"y_rep\": 56.56934782140427}, {\"y_rep\": 64.32231403206909}, {\"y_rep\": 35.77548206709973}, {\"y_rep\": 60.01832534128679}, {\"y_rep\": 55.34719831683525}, {\"y_rep\": 50.881278586332435}, {\"y_rep\": 47.08692224365586}, {\"y_rep\": 46.712378548275716}, {\"y_rep\": 30.244149790390665}, {\"y_rep\": 48.782241294333915}, {\"y_rep\": 74.31147585824206}, {\"y_rep\": 40.83118971833697}, {\"y_rep\": 49.05483698805422}, {\"y_rep\": 57.935920806000595}, {\"y_rep\": 56.490044724551154}, {\"y_rep\": 55.70315445310765}, {\"y_rep\": 60.3762516671768}, {\"y_rep\": 42.69842112895691}, {\"y_rep\": 61.83655609994104}, {\"y_rep\": 53.73562334804348}, {\"y_rep\": 36.86039418339832}, {\"y_rep\": 52.95504944341741}, {\"y_rep\": 48.437640647427735}, {\"y_rep\": 44.8673723263586}, {\"y_rep\": 65.3024979633602}, {\"y_rep\": 37.645570504680094}, {\"y_rep\": 51.72924241925695}, {\"y_rep\": 51.96470171664185}, {\"y_rep\": 32.605416366416975}, {\"y_rep\": 47.037592770322284}, {\"y_rep\": 44.49841658866023}, {\"y_rep\": 46.77032988969523}, {\"y_rep\": 43.66850287556342}, {\"y_rep\": 39.97660648703146}, {\"y_rep\": 42.888725222498515}, {\"y_rep\": 48.02587483775963}, {\"y_rep\": 41.69056884141992}, {\"y_rep\": 45.04535768826225}, {\"y_rep\": 43.15692451473755}, {\"y_rep\": 45.53572557503789}, {\"y_rep\": 35.56983532583393}, {\"y_rep\": 48.47740022456233}, {\"y_rep\": 55.31993241118184}, {\"y_rep\": 42.61833858821579}, {\"y_rep\": 55.75865806298011}, {\"y_rep\": 41.654697418514836}, {\"y_rep\": 48.98323529879004}, {\"y_rep\": 48.01412248667736}, {\"y_rep\": 68.62252513041386}, {\"y_rep\": 62.3736087851929}, {\"y_rep\": 47.077226133417966}, {\"y_rep\": 34.532378084110796}, {\"y_rep\": 47.424115029557456}, {\"y_rep\": 37.231657605828666}, {\"y_rep\": 45.26933564541859}, {\"y_rep\": 65.97267129608072}, {\"y_rep\": 57.71811112510946}, {\"y_rep\": 50.050742345894115}, {\"y_rep\": 76.06756759802207}, {\"y_rep\": 50.69089436311092}, {\"y_rep\": 41.57470704525481}, {\"y_rep\": 62.276472260104434}, {\"y_rep\": 44.257302135263515}, {\"y_rep\": 64.43703708217869}, {\"y_rep\": 30.00629521794985}, {\"y_rep\": 56.89418666108429}, {\"y_rep\": 29.97979034879369}, {\"y_rep\": 57.052945069083435}, {\"y_rep\": 59.10724562328642}, {\"y_rep\": 54.018218590840135}, {\"y_rep\": 38.21569330409593}, {\"y_rep\": 49.231454072264995}, {\"y_rep\": 38.00663252120805}, {\"y_rep\": 56.31121295689624}, {\"y_rep\": 61.17543725799271}, {\"y_rep\": 49.576176678028084}, {\"y_rep\": 65.01243477730755}, {\"y_rep\": 38.764579095531715}, {\"y_rep\": 43.59519167473899}, {\"y_rep\": 59.80417290832348}, {\"y_rep\": 41.973416197227614}, {\"y_rep\": 40.64142112829546}, {\"y_rep\": 55.83301478770488}, {\"y_rep\": 45.34984623459392}, {\"y_rep\": 43.73764860817421}, {\"y_rep\": 56.67889853523682}, {\"y_rep\": 51.2420040464708}, {\"y_rep\": 32.957968050124094}, {\"y_rep\": 39.96609551653126}, {\"y_rep\": 46.510124545549914}, {\"y_rep\": 45.33519658546713}, {\"y_rep\": 54.1698724904185}, {\"y_rep\": 32.270535109219544}, {\"y_rep\": 49.57118381270967}, {\"y_rep\": 43.131570303934566}, {\"y_rep\": 47.00087533142092}, {\"y_rep\": 60.15107171359755}, {\"y_rep\": 63.511163843404354}, {\"y_rep\": 44.56516706628858}, {\"y_rep\": 61.6408472323558}, {\"y_rep\": 56.27145448178283}, {\"y_rep\": 54.554213139535584}, {\"y_rep\": 44.844719515049626}, {\"y_rep\": 38.42325424453921}, {\"y_rep\": 51.11901578682553}, {\"y_rep\": 48.00204071214916}, {\"y_rep\": 42.674713176045415}, {\"y_rep\": 61.61044713767359}, {\"y_rep\": 73.59760889992377}, {\"y_rep\": 50.684283332706364}, {\"y_rep\": 61.603769690070386}, {\"y_rep\": 55.96819193957975}, {\"y_rep\": 65.01312105217897}, {\"y_rep\": 51.39950437291634}, {\"y_rep\": 42.069641824697335}, {\"y_rep\": 41.39689250904561}, {\"y_rep\": 52.34611230320925}, {\"y_rep\": 48.60318125264383}, {\"y_rep\": 66.66597386950946}, {\"y_rep\": 51.09701654691272}, {\"y_rep\": 58.9509763896894}, {\"y_rep\": 39.4865937225009}, {\"y_rep\": 39.24901596324722}, {\"y_rep\": 66.97596835481198}, {\"y_rep\": 31.05709848337774}, {\"y_rep\": 45.500792696765785}, {\"y_rep\": 37.76589965578428}, {\"y_rep\": 42.89942454580439}, {\"y_rep\": 50.85009124613569}, {\"y_rep\": 47.56281317105719}, {\"y_rep\": 55.301224366784496}, {\"y_rep\": 66.35089708352156}, {\"y_rep\": 79.29360456758161}, {\"y_rep\": 58.828336223675876}, {\"y_rep\": 50.56207991222504}, {\"y_rep\": 74.90760596488698}, {\"y_rep\": 49.372178241667946}, {\"y_rep\": 40.30752066125506}, {\"y_rep\": 54.989957404778394}, {\"y_rep\": 36.9853179161816}, {\"y_rep\": 53.81354909097149}, {\"y_rep\": 31.549540446551525}, {\"y_rep\": 18.48606057607295}, {\"y_rep\": 71.06562342562587}, {\"y_rep\": 44.929639990445}, {\"y_rep\": 50.40203996733409}, {\"y_rep\": 56.47472067303545}, {\"y_rep\": 50.23037731095099}, {\"y_rep\": 51.11588069350816}, {\"y_rep\": 63.29460207063605}, {\"y_rep\": 53.75662819067036}, {\"y_rep\": 49.935953616260804}, {\"y_rep\": 45.388548820058055}, {\"y_rep\": 21.421623596926366}, {\"y_rep\": 41.74560425747422}, {\"y_rep\": 55.322645892108056}, {\"y_rep\": 55.97261882272929}, {\"y_rep\": 34.99656885274988}, {\"y_rep\": 54.845241650608344}, {\"y_rep\": 53.50506034745652}, {\"y_rep\": 28.47703482079225}, {\"y_rep\": 40.86879924494201}, {\"y_rep\": 45.318316833606566}, {\"y_rep\": 53.49798753323533}, {\"y_rep\": 64.12183966511418}, {\"y_rep\": 37.925398495206196}, {\"y_rep\": 33.60859700834212}, {\"y_rep\": 57.444095772412275}, {\"y_rep\": 35.96997788265136}, {\"y_rep\": 59.61443691625295}, {\"y_rep\": 35.74386089319}, {\"y_rep\": 49.47235043992112}, {\"y_rep\": 48.55440912437374}, {\"y_rep\": 67.24772342003757}, {\"y_rep\": 51.34816905720252}, {\"y_rep\": 52.64264897619924}, {\"y_rep\": 53.61301418901839}, {\"y_rep\": 57.891597931814154}, {\"y_rep\": 45.397081358755614}, {\"y_rep\": 61.44207916671503}, {\"y_rep\": 63.85053707947085}, {\"y_rep\": 51.69637478370274}, {\"y_rep\": 44.64425580259702}, {\"y_rep\": 65.058728126256}, {\"y_rep\": 48.483375798837244}, {\"y_rep\": 63.89485562303379}, {\"y_rep\": 71.66850379913825}, {\"y_rep\": 36.60077472839263}, {\"y_rep\": 42.244610716277684}, {\"y_rep\": 40.95872530806087}, {\"y_rep\": 54.02221090276821}, {\"y_rep\": 53.7649604930067}, {\"y_rep\": 43.13838424001053}, {\"y_rep\": 41.0057502200164}, {\"y_rep\": 43.029674141094404}, {\"y_rep\": 48.771239909392165}, {\"y_rep\": 56.56647876063949}, {\"y_rep\": 58.04338969915973}, {\"y_rep\": 44.999346417196236}, {\"y_rep\": 37.88536177562053}, {\"y_rep\": 65.05676175222344}, {\"y_rep\": 41.900922736901165}, {\"y_rep\": 63.15747749237631}, {\"y_rep\": 47.88982141742504}, {\"y_rep\": 37.05545697456188}, {\"y_rep\": 40.5770427830562}, {\"y_rep\": 51.09045689004954}, {\"y_rep\": 62.478544532820024}, {\"y_rep\": 36.67676102792844}, {\"y_rep\": 62.47043409691091}, {\"y_rep\": 46.83949223317443}, {\"y_rep\": 44.95352030825817}, {\"y_rep\": 41.166481040475695}, {\"y_rep\": 39.18705158551175}, {\"y_rep\": 62.03488830569833}, {\"y_rep\": 47.44019634621232}, {\"y_rep\": 56.87628018586126}, {\"y_rep\": 37.96170360226366}, {\"y_rep\": 44.90434039532635}, {\"y_rep\": 59.11467770018703}, {\"y_rep\": 40.93684015086211}, {\"y_rep\": 45.08957914539462}, {\"y_rep\": 47.5801978732483}, {\"y_rep\": 40.74953449832471}, {\"y_rep\": 42.17203702184534}, {\"y_rep\": 55.50729056659373}, {\"y_rep\": 47.39018109573104}, {\"y_rep\": 44.15339419786059}, {\"y_rep\": 49.81634714770458}, {\"y_rep\": 57.0587657385544}, {\"y_rep\": 57.643645450160534}, {\"y_rep\": 68.31641371628763}, {\"y_rep\": 48.957457533047545}, {\"y_rep\": 60.65370523862651}, {\"y_rep\": 47.45848999354479}, {\"y_rep\": 36.8604493642375}, {\"y_rep\": 37.241507333886396}, {\"y_rep\": 22.033794861757304}, {\"y_rep\": 63.850446712034625}, {\"y_rep\": 60.87530110658711}, {\"y_rep\": 37.61933442597097}, {\"y_rep\": 52.364005552497666}, {\"y_rep\": 68.4757526713163}, {\"y_rep\": 45.07300833277408}, {\"y_rep\": 47.35213621005742}, {\"y_rep\": 50.13692036068428}, {\"y_rep\": 43.53615168909896}, {\"y_rep\": 67.59388695325946}, {\"y_rep\": 62.52295142554816}, {\"y_rep\": 57.49708704996414}, {\"y_rep\": 45.64333817095701}, {\"y_rep\": 50.54770967213424}, {\"y_rep\": 54.40445759341895}, {\"y_rep\": 62.7413220577722}, {\"y_rep\": 48.842096083267805}, {\"y_rep\": 44.75531414935631}, {\"y_rep\": 50.05635334423796}, {\"y_rep\": 37.33133515793564}, {\"y_rep\": 54.88655655884546}, {\"y_rep\": 39.71290058841808}, {\"y_rep\": 53.21651721582758}, {\"y_rep\": 50.01810091148051}, {\"y_rep\": 37.1315490197878}, {\"y_rep\": 58.840975224766794}, {\"y_rep\": 53.86587507340834}, {\"y_rep\": 51.06657943071403}, {\"y_rep\": 54.308599557949115}, {\"y_rep\": 2.739640302709033}, {\"y_rep\": 29.4633665309308}, {\"y_rep\": 55.388555625343}, {\"y_rep\": 50.944564362862465}, {\"y_rep\": 68.52024916778387}, {\"y_rep\": 42.86602787778364}, {\"y_rep\": 43.00673398668007}, {\"y_rep\": 44.21888599925869}, {\"y_rep\": 25.097097425575967}, {\"y_rep\": 30.838061354031627}, {\"y_rep\": 28.203223748224513}, {\"y_rep\": 25.18755160526907}, {\"y_rep\": 48.86314828946441}, {\"y_rep\": 41.10722791393713}, {\"y_rep\": 47.17177062371448}, {\"y_rep\": 59.471895768367304}, {\"y_rep\": 47.35109170118199}, {\"y_rep\": 54.808215023098164}, {\"y_rep\": 62.70591973549469}, {\"y_rep\": 51.66770011157139}, {\"y_rep\": 59.487570298847565}, {\"y_rep\": 53.017021034431686}, {\"y_rep\": 32.76375748076759}, {\"y_rep\": 61.24245792675528}, {\"y_rep\": 31.33877653626222}, {\"y_rep\": 33.94614327903271}, {\"y_rep\": 56.6117628647457}, {\"y_rep\": 47.27319431525007}, {\"y_rep\": 42.17771921968756}, {\"y_rep\": 59.80830721263721}, {\"y_rep\": 36.23097269418963}, {\"y_rep\": 42.92516349861463}, {\"y_rep\": 47.031572457365286}, {\"y_rep\": 56.048972522398984}, {\"y_rep\": 38.73579173742895}, {\"y_rep\": 46.933155301349586}, {\"y_rep\": 51.1008012524329}, {\"y_rep\": 43.07869828428315}, {\"y_rep\": 47.137461758830746}, {\"y_rep\": 54.1301494973804}, {\"y_rep\": 47.99709099552759}, {\"y_rep\": 45.277486119581575}, {\"y_rep\": 35.35298620472198}, {\"y_rep\": 65.09608119013976}, {\"y_rep\": 43.854344820351635}, {\"y_rep\": 50.996840959373884}, {\"y_rep\": 45.736211140588}, {\"y_rep\": 36.9641073456433}, {\"y_rep\": 40.35436950713645}, {\"y_rep\": 51.11756297968886}, {\"y_rep\": 54.58534879731759}, {\"y_rep\": 57.527088276373696}, {\"y_rep\": 66.7631340408093}, {\"y_rep\": 59.57502591447171}, {\"y_rep\": 53.72589291017825}, {\"y_rep\": 60.91795945940516}, {\"y_rep\": 55.55989835407637}, {\"y_rep\": 42.31307328527695}, {\"y_rep\": 52.019812671007855}, {\"y_rep\": 38.57485523026804}, {\"y_rep\": 58.26395912048249}, {\"y_rep\": 51.711470236313914}, {\"y_rep\": 57.725879293408354}, {\"y_rep\": 34.51416885561364}, {\"y_rep\": 68.69054952179837}, {\"y_rep\": 49.142637607517116}, {\"y_rep\": 62.3464654839566}, {\"y_rep\": 51.62909894364104}, {\"y_rep\": 63.00321727639085}, {\"y_rep\": 28.267090166155914}, {\"y_rep\": 73.72225132348058}, {\"y_rep\": 60.90429212495106}, {\"y_rep\": 42.77279326768492}, {\"y_rep\": 43.86260333987197}, {\"y_rep\": 60.67107204995097}, {\"y_rep\": 57.30092084841022}, {\"y_rep\": 52.146411039540034}, {\"y_rep\": 60.105566285032594}, {\"y_rep\": 48.133109953066935}, {\"y_rep\": 59.0749956157409}, {\"y_rep\": 52.45252648245045}, {\"y_rep\": 53.61896579624165}, {\"y_rep\": 45.61434208986352}, {\"y_rep\": 38.50772857722371}, {\"y_rep\": 61.418021633161516}, {\"y_rep\": 53.255747994551854}, {\"y_rep\": 56.2614440619556}, {\"y_rep\": 50.797311051449604}, {\"y_rep\": 44.54914152617005}, {\"y_rep\": 50.5151726254647}, {\"y_rep\": 42.73049852168043}, {\"y_rep\": 61.32166522164416}, {\"y_rep\": 48.89205106914461}, {\"y_rep\": 56.04080200722106}, {\"y_rep\": 55.14054122214156}, {\"y_rep\": 68.84706163558147}, {\"y_rep\": 39.458593341115304}, {\"y_rep\": 55.50561565680412}, {\"y_rep\": 43.13087204685199}, {\"y_rep\": 52.90842387127349}, {\"y_rep\": 75.04162306480296}, {\"y_rep\": 59.04658846233185}, {\"y_rep\": 46.26009835388044}, {\"y_rep\": 58.37853003052184}, {\"y_rep\": 33.95422102873903}, {\"y_rep\": 46.91767348756452}, {\"y_rep\": 27.58462437034136}, {\"y_rep\": 48.8087153870508}, {\"y_rep\": 59.441886684335756}, {\"y_rep\": 36.491780498335245}, {\"y_rep\": 59.218424896337005}, {\"y_rep\": 62.98663905822493}, {\"y_rep\": 56.92242387761038}, {\"y_rep\": 51.685674894004784}, {\"y_rep\": 37.89383212220291}, {\"y_rep\": 50.979076037851755}, {\"y_rep\": 36.546716041661156}, {\"y_rep\": 63.34431455882251}, {\"y_rep\": 52.80596151767184}, {\"y_rep\": 41.20950682951666}, {\"y_rep\": 46.23312219840246}, {\"y_rep\": 57.002753391312424}, {\"y_rep\": 47.47025435898871}, {\"y_rep\": 31.010893767680507}, {\"y_rep\": 51.10811175106079}, {\"y_rep\": 62.88914418922681}, {\"y_rep\": 50.77026705439571}, {\"y_rep\": 56.89779737501101}, {\"y_rep\": 74.03158855379226}, {\"y_rep\": 49.127726423317746}, {\"y_rep\": 53.69597047434202}, {\"y_rep\": 61.28601913334325}, {\"y_rep\": 40.83821060551077}, {\"y_rep\": 43.28286845529712}, {\"y_rep\": 48.575079662519215}, {\"y_rep\": 47.7518792027147}, {\"y_rep\": 59.36497235706698}, {\"y_rep\": 38.838978658808124}, {\"y_rep\": 54.32769453220699}, {\"y_rep\": 39.23912226310023}, {\"y_rep\": 42.274246218205114}, {\"y_rep\": 52.07890473334795}, {\"y_rep\": 51.76677320910858}, {\"y_rep\": 52.89369350304221}, {\"y_rep\": 48.8880555308347}, {\"y_rep\": 58.719084604214544}, {\"y_rep\": 58.13434963566486}, {\"y_rep\": 51.606860724158025}, {\"y_rep\": 49.29027013637887}, {\"y_rep\": 50.78772599057425}, {\"y_rep\": 50.1209288471986}, {\"y_rep\": 26.64098132229474}, {\"y_rep\": 60.0629113921864}, {\"y_rep\": 43.67449354439834}, {\"y_rep\": 42.33289810879439}, {\"y_rep\": 45.76312860410731}, {\"y_rep\": 35.66854557468524}, {\"y_rep\": 38.94255075526968}, {\"y_rep\": 35.35694222635477}, {\"y_rep\": 54.85629613090033}, {\"y_rep\": 39.33761256539847}, {\"y_rep\": 66.99932222872363}, {\"y_rep\": 54.00941028636947}, {\"y_rep\": 43.21373054519072}, {\"y_rep\": 79.4921428762369}, {\"y_rep\": 67.98288812658143}, {\"y_rep\": 49.59577383721083}, {\"y_rep\": 61.52161099877314}, {\"y_rep\": 36.11083472591749}, {\"y_rep\": 55.05815362650324}, {\"y_rep\": 37.535375976405625}, {\"y_rep\": 61.7536851458452}, {\"y_rep\": 55.26983077812718}, {\"y_rep\": 36.457534191251135}, {\"y_rep\": 53.705199136450155}, {\"y_rep\": 47.438750263394645}, {\"y_rep\": 50.21688817713387}, {\"y_rep\": 58.42515327207968}, {\"y_rep\": 38.20324835509153}, {\"y_rep\": 47.536316793889796}, {\"y_rep\": 51.04476432371546}, {\"y_rep\": 73.00216554189379}, {\"y_rep\": 62.06289885960269}, {\"y_rep\": 50.99611308285214}, {\"y_rep\": 56.095218640443015}, {\"y_rep\": 62.475648660794626}, {\"y_rep\": 54.713912356028054}, {\"y_rep\": 42.66516773906523}, {\"y_rep\": 52.25957365924352}, {\"y_rep\": 53.96015485198548}, {\"y_rep\": 65.59432063961926}, {\"y_rep\": 42.97869945165924}, {\"y_rep\": 55.853173521160976}, {\"y_rep\": 54.745161523435584}, {\"y_rep\": 28.95067638109208}, {\"y_rep\": 54.56788139151041}, {\"y_rep\": 47.49169167975816}, {\"y_rep\": 39.693162393682385}, {\"y_rep\": 41.541308477922286}, {\"y_rep\": 43.28832171945263}, {\"y_rep\": 45.48463091736659}, {\"y_rep\": 39.3198428445965}, {\"y_rep\": 48.56794198331616}, {\"y_rep\": 59.52871994906059}, {\"y_rep\": 44.56036878956507}, {\"y_rep\": 15.161018021489927}, {\"y_rep\": 58.77212667299244}, {\"y_rep\": 56.307176799886385}, {\"y_rep\": 39.06959130235473}, {\"y_rep\": 48.57089452650907}, {\"y_rep\": 52.71256618679549}, {\"y_rep\": 36.93025145086315}, {\"y_rep\": 50.47591551820195}, {\"y_rep\": 38.48604254842253}, {\"y_rep\": 51.275225467105074}, {\"y_rep\": 50.97830859384708}, {\"y_rep\": 63.78491390811195}, {\"y_rep\": 54.980891669655264}, {\"y_rep\": 55.88679577027331}, {\"y_rep\": 53.46122862518004}, {\"y_rep\": 66.46618202380202}, {\"y_rep\": 0.9802040176533313}, {\"y_rep\": 32.99817005288581}, {\"y_rep\": 52.17154393123538}, {\"y_rep\": 47.1944568938026}, {\"y_rep\": 42.67338039071801}, {\"y_rep\": 38.14860104391204}, {\"y_rep\": 59.31307198784402}, {\"y_rep\": 40.144108475981106}, {\"y_rep\": 54.000204545628016}, {\"y_rep\": 51.3532677236055}, {\"y_rep\": 52.437800371324975}, {\"y_rep\": 48.306640767044286}, {\"y_rep\": 33.29453301026614}, {\"y_rep\": 49.25594070076492}, {\"y_rep\": 45.522210967604934}, {\"y_rep\": 52.28914097121637}, {\"y_rep\": 45.65179201011196}, {\"y_rep\": 44.280040866185445}, {\"y_rep\": 34.096571578747444}, {\"y_rep\": 56.20294777024406}, {\"y_rep\": 45.08227333638352}, {\"y_rep\": 49.00884918139319}, {\"y_rep\": 48.70948887185562}, {\"y_rep\": 45.00142950701729}, {\"y_rep\": 64.09348599246202}, {\"y_rep\": 73.04757616838235}, {\"y_rep\": 23.890293007476323}, {\"y_rep\": 61.48106621700497}, {\"y_rep\": 34.27116325881519}, {\"y_rep\": 55.97261425534696}, {\"y_rep\": 45.50866424916933}, {\"y_rep\": 45.1020259275316}, {\"y_rep\": 60.78809884230943}, {\"y_rep\": 42.33514991938283}, {\"y_rep\": 39.57516452493578}, {\"y_rep\": 27.403950995427465}, {\"y_rep\": 59.32315656141393}, {\"y_rep\": 38.465901053300875}, {\"y_rep\": 40.840006637062125}, {\"y_rep\": 36.9990443634227}, {\"y_rep\": 62.034111336531694}, {\"y_rep\": 35.376064331615616}, {\"y_rep\": 55.53034706923358}, {\"y_rep\": 56.337433434713596}, {\"y_rep\": 46.23424510681028}, {\"y_rep\": 46.079281945993344}, {\"y_rep\": 56.93454102588317}, {\"y_rep\": 56.91860169771448}, {\"y_rep\": 45.09713039558796}, {\"y_rep\": 42.02204570303908}, {\"y_rep\": 59.17261303062274}, {\"y_rep\": 55.48870943042801}, {\"y_rep\": 62.15953161398736}, {\"y_rep\": 69.01135284446357}, {\"y_rep\": 39.251244857203126}, {\"y_rep\": 40.55380829397386}, {\"y_rep\": 58.576473860081975}, {\"y_rep\": 48.470661639660946}, {\"y_rep\": 33.73865561611651}, {\"y_rep\": 42.30418825586792}, {\"y_rep\": 54.5577466421679}, {\"y_rep\": 41.568214786900825}, {\"y_rep\": 48.6360752098767}, {\"y_rep\": 47.46435378167259}, {\"y_rep\": 36.937257961400135}, {\"y_rep\": 41.46501204481419}, {\"y_rep\": 33.73603649119438}, {\"y_rep\": 57.40311958384933}, {\"y_rep\": 55.298525911476496}, {\"y_rep\": 56.50584704319247}, {\"y_rep\": 51.46405156139413}, {\"y_rep\": 52.007748456622686}, {\"y_rep\": 55.57400875710524}, {\"y_rep\": 45.67112125739355}, {\"y_rep\": 35.39285926384497}, {\"y_rep\": 43.77802800408914}, {\"y_rep\": 46.81802041502791}, {\"y_rep\": 51.8786343579726}, {\"y_rep\": 65.9306432975663}, {\"y_rep\": 47.7721015787201}, {\"y_rep\": 71.8388956045699}, {\"y_rep\": 43.03777616251055}, {\"y_rep\": 55.64425139222817}, {\"y_rep\": 54.438951091502915}, {\"y_rep\": 47.00845936351442}, {\"y_rep\": 39.52720844888812}, {\"y_rep\": 44.995379789721376}, {\"y_rep\": 39.623885312260406}, {\"y_rep\": 39.380389394784785}, {\"y_rep\": 64.48447224533166}, {\"y_rep\": 72.75449820055462}, {\"y_rep\": 52.53234312086462}, {\"y_rep\": 53.73539387108358}, {\"y_rep\": 47.68815482658291}, {\"y_rep\": 56.53605348350852}, {\"y_rep\": 60.89620724522032}, {\"y_rep\": 56.75186868340612}, {\"y_rep\": 50.41768282441548}, {\"y_rep\": 56.351017820120205}, {\"y_rep\": 50.29544467155913}, {\"y_rep\": 54.84527348617603}, {\"y_rep\": 44.63723117103024}, {\"y_rep\": 44.105888720055944}, {\"y_rep\": 62.94576782376329}, {\"y_rep\": 47.555534614800266}, {\"y_rep\": 67.27945225239324}, {\"y_rep\": 39.654354040671464}, {\"y_rep\": 47.827421982026266}, {\"y_rep\": 31.824307968471857}, {\"y_rep\": 59.86420213650801}, {\"y_rep\": 51.36394923498842}, {\"y_rep\": 55.34629382203042}, {\"y_rep\": 50.36519573181729}, {\"y_rep\": 26.370022495296066}, {\"y_rep\": 57.34079825533068}, {\"y_rep\": 54.94228855104593}, {\"y_rep\": 42.97733327216593}, {\"y_rep\": 37.04675703368677}, {\"y_rep\": 46.03894563385414}, {\"y_rep\": 38.74506643241229}, {\"y_rep\": 42.49050708783697}, {\"y_rep\": 46.88065455977196}, {\"y_rep\": 40.939744788172156}, {\"y_rep\": 37.70899920411398}, {\"y_rep\": 50.1252680693341}, {\"y_rep\": 53.42450505380647}, {\"y_rep\": 30.15030599998189}, {\"y_rep\": 45.16674021897266}, {\"y_rep\": 44.68517771411608}, {\"y_rep\": 31.404141346931908}, {\"y_rep\": 53.72747198259026}, {\"y_rep\": 62.2455844513927}, {\"y_rep\": 56.00124996669926}, {\"y_rep\": 35.39949557564173}, {\"y_rep\": 26.557900958595724}, {\"y_rep\": 41.510977943459785}, {\"y_rep\": 66.26924897393796}, {\"y_rep\": 37.88065758508747}, {\"y_rep\": 32.9152299792016}, {\"y_rep\": 61.77635777722207}, {\"y_rep\": 38.570710915647915}, {\"y_rep\": 55.89655149797765}, {\"y_rep\": 48.38591917933426}, {\"y_rep\": 46.121185055462746}, {\"y_rep\": 55.68535843967949}, {\"y_rep\": 49.179944185529806}, {\"y_rep\": 36.9803562854493}, {\"y_rep\": 44.607015450929794}, {\"y_rep\": 48.10485682086889}, {\"y_rep\": 58.69886506091948}, {\"y_rep\": 62.888529259704036}, {\"y_rep\": 55.928152984049355}, {\"y_rep\": 49.02933960071655}, {\"y_rep\": 46.02561352818443}, {\"y_rep\": 44.9344899064954}, {\"y_rep\": 40.423799738729386}, {\"y_rep\": 47.41484166576489}, {\"y_rep\": 45.98718461329581}, {\"y_rep\": 48.692736561237446}, {\"y_rep\": 54.369144807059676}, {\"y_rep\": 49.5698972794213}, {\"y_rep\": 58.36155617333638}, {\"y_rep\": 62.48131712704873}, {\"y_rep\": 56.53847915492236}, {\"y_rep\": 59.07040479848284}, {\"y_rep\": 47.76244543735324}, {\"y_rep\": 52.32232679288117}, {\"y_rep\": 48.76417676575944}, {\"y_rep\": 38.11921217983266}, {\"y_rep\": 46.43403782839654}, {\"y_rep\": 44.3616907810447}, {\"y_rep\": 61.6902080193558}, {\"y_rep\": 49.67239630647427}, {\"y_rep\": 29.45081746908935}, {\"y_rep\": 50.965006959842555}, {\"y_rep\": 66.08882129266867}, {\"y_rep\": 34.0959982131945}, {\"y_rep\": 47.653307168593116}, {\"y_rep\": 59.1424439404854}, {\"y_rep\": 35.38582238530065}, {\"y_rep\": 45.10606029284931}, {\"y_rep\": 23.651236983741644}, {\"y_rep\": 37.82557893028168}, {\"y_rep\": 49.755247856640224}, {\"y_rep\": 32.766364043696086}, {\"y_rep\": 46.99420239616538}, {\"y_rep\": 40.57195007851367}, {\"y_rep\": 46.43658353185147}, {\"y_rep\": 36.93896055104198}, {\"y_rep\": 50.415800730470224}, {\"y_rep\": 57.15372013845921}, {\"y_rep\": 47.47678324823666}, {\"y_rep\": 54.92427521975527}, {\"y_rep\": 36.676984466324555}, {\"y_rep\": 57.43669778324642}, {\"y_rep\": 45.87572530407161}, {\"y_rep\": 47.379103631144005}, {\"y_rep\": 46.4253323044496}, {\"y_rep\": 49.44845986981103}, {\"y_rep\": 45.53293613148987}, {\"y_rep\": 47.26133524173797}, {\"y_rep\": 68.99016615106761}, {\"y_rep\": 56.34473147626986}, {\"y_rep\": 58.516790680615344}, {\"y_rep\": 47.84409675046002}, {\"y_rep\": 38.39143901527685}, {\"y_rep\": 19.904035742961227}, {\"y_rep\": 40.253418954645}, {\"y_rep\": 58.45844864202766}, {\"y_rep\": 40.7550378736424}, {\"y_rep\": 54.63851192689778}, {\"y_rep\": 47.859497196177706}, {\"y_rep\": 54.00461715785403}, {\"y_rep\": 49.31362340267935}, {\"y_rep\": 50.85194796259873}, {\"y_rep\": 54.289917994549874}, {\"y_rep\": 43.525517941383036}, {\"y_rep\": 50.33716441229682}, {\"y_rep\": 68.04140805919059}, {\"y_rep\": 41.16807975376151}, {\"y_rep\": 55.04435869455185}, {\"y_rep\": 59.38752784397242}, {\"y_rep\": 58.20342191919279}, {\"y_rep\": 36.229836553225276}, {\"y_rep\": 42.4264168072921}, {\"y_rep\": 52.99705919754135}, {\"y_rep\": 47.61682329531484}, {\"y_rep\": 46.27568127553859}, {\"y_rep\": 42.57790412556481}, {\"y_rep\": 43.48654089334242}, {\"y_rep\": 51.34366778419542}, {\"y_rep\": 40.14720175364407}, {\"y_rep\": 34.88164510973885}, {\"y_rep\": 51.98991084697102}, {\"y_rep\": 33.95134842951374}, {\"y_rep\": 43.32171175715766}, {\"y_rep\": 23.788708676790392}, {\"y_rep\": 62.3424289249114}, {\"y_rep\": 67.11970645257337}, {\"y_rep\": 35.4228264206068}, {\"y_rep\": 75.57004069680954}, {\"y_rep\": 61.30189048302641}, {\"y_rep\": 42.7871092763975}, {\"y_rep\": 41.836028601951284}, {\"y_rep\": 47.66861482798729}, {\"y_rep\": 52.963315637980436}, {\"y_rep\": 72.40119485680839}, {\"y_rep\": 42.6358154742025}, {\"y_rep\": 45.72679147347433}, {\"y_rep\": 48.63250975005821}, {\"y_rep\": 53.929581683255726}, {\"y_rep\": 25.780184996443783}, {\"y_rep\": 58.10442263185546}, {\"y_rep\": 40.565792473337794}, {\"y_rep\": 64.60872207869193}, {\"y_rep\": 45.52720318459945}, {\"y_rep\": 49.66847396436738}, {\"y_rep\": 45.688072938988675}, {\"y_rep\": 74.19024549347006}, {\"y_rep\": 20.248457118769792}, {\"y_rep\": 53.15961446389983}, {\"y_rep\": 54.64378455392506}, {\"y_rep\": 56.58566536396319}, {\"y_rep\": 46.453758264328485}, {\"y_rep\": 35.99783134526881}, {\"y_rep\": 41.08160642711564}, {\"y_rep\": 42.66985056675716}, {\"y_rep\": 45.10452173800535}, {\"y_rep\": 57.495908761501234}, {\"y_rep\": 45.51082489616846}, {\"y_rep\": 51.19432155835994}, {\"y_rep\": 56.37368642859305}, {\"y_rep\": 41.63780354297373}, {\"y_rep\": 79.65885236392448}, {\"y_rep\": 47.19905655956744}, {\"y_rep\": 30.31909034993361}, {\"y_rep\": 53.813161406184314}, {\"y_rep\": 49.238305538234805}, {\"y_rep\": 42.25122732582734}, {\"y_rep\": 45.138676950974165}, {\"y_rep\": 48.52001797194073}, {\"y_rep\": 42.41865703303422}, {\"y_rep\": 52.271099289422544}, {\"y_rep\": 49.50383753296469}, {\"y_rep\": 50.88564039346592}, {\"y_rep\": 55.076052477205316}, {\"y_rep\": 53.28589437780565}, {\"y_rep\": 30.165991521327328}, {\"y_rep\": 36.94453311911319}, {\"y_rep\": 49.421274619049804}, {\"y_rep\": 45.83912867103687}, {\"y_rep\": 30.552303491175646}, {\"y_rep\": 56.1077635172699}, {\"y_rep\": 17.516150064989187}, {\"y_rep\": 44.3926507176168}, {\"y_rep\": 37.37482670894279}, {\"y_rep\": 37.45637103714409}, {\"y_rep\": 24.950202415580826}, {\"y_rep\": 40.97565196851547}, {\"y_rep\": 48.13314821764882}, {\"y_rep\": 42.892499876339876}, {\"y_rep\": 52.45459758405324}, {\"y_rep\": 53.58596148026042}, {\"y_rep\": 64.07429897599692}, {\"y_rep\": 45.94180106709888}, {\"y_rep\": 59.932241033314355}, {\"y_rep\": 56.743905075823164}, {\"y_rep\": 48.056744704613514}, {\"y_rep\": 68.59928267777426}, {\"y_rep\": 30.129132262984115}, {\"y_rep\": 34.28948973411645}, {\"y_rep\": 52.030175020938}, {\"y_rep\": 37.370587396754786}, {\"y_rep\": 57.20029218380037}, {\"y_rep\": 53.82000222955805}, {\"y_rep\": 68.33203365509186}, {\"y_rep\": 58.397341465938375}, {\"y_rep\": 46.95176128256079}, {\"y_rep\": 62.37963876061088}, {\"y_rep\": 58.33193713972397}, {\"y_rep\": 43.68078860360064}, {\"y_rep\": 55.56095402636251}, {\"y_rep\": 38.3616486058838}, {\"y_rep\": 56.33373915148569}, {\"y_rep\": 58.84877345530829}, {\"y_rep\": 52.65073205055674}, {\"y_rep\": 45.50493598417569}, {\"y_rep\": 38.13789280683856}, {\"y_rep\": 43.5768483467332}, {\"y_rep\": 42.38951800235192}, {\"y_rep\": 35.67226080602848}, {\"y_rep\": 38.902170139566394}, {\"y_rep\": 60.73754643370274}, {\"y_rep\": 59.253343317664765}, {\"y_rep\": 48.069591190003315}, {\"y_rep\": 57.359640343453286}, {\"y_rep\": 35.38783431915334}, {\"y_rep\": 53.54008936545043}, {\"y_rep\": 56.798763144149305}, {\"y_rep\": 35.575643827991456}, {\"y_rep\": 52.67371162951199}, {\"y_rep\": 56.342944040512066}, {\"y_rep\": 39.36266740624886}, {\"y_rep\": 39.37170236725095}, {\"y_rep\": 65.55203869325436}, {\"y_rep\": 48.22714196881621}, {\"y_rep\": 47.30338125516657}, {\"y_rep\": 59.31498648347975}, {\"y_rep\": 32.784109747258825}, {\"y_rep\": 48.255631571300796}, {\"y_rep\": 56.867587448273916}, {\"y_rep\": 57.77444680287264}, {\"y_rep\": 23.960165724465064}, {\"y_rep\": 81.57654860148753}, {\"y_rep\": 58.816479095009235}, {\"y_rep\": 43.909123297155105}, {\"y_rep\": 43.31864367127414}, {\"y_rep\": 50.4580759026253}, {\"y_rep\": 45.62325329422599}, {\"y_rep\": 59.258574979437725}, {\"y_rep\": 42.84870248910982}, {\"y_rep\": 49.827408689663784}, {\"y_rep\": 42.35306679630786}, {\"y_rep\": 61.49462169577423}, {\"y_rep\": 40.70903393802263}, {\"y_rep\": 48.70716640115885}, {\"y_rep\": 53.38134254657275}, {\"y_rep\": 43.42701986808519}, {\"y_rep\": 53.609030313513465}, {\"y_rep\": 43.87104248772115}, {\"y_rep\": 61.54228041753389}, {\"y_rep\": 49.49137358052671}, {\"y_rep\": 54.05230223531931}, {\"y_rep\": 34.381774740380806}, {\"y_rep\": 63.896715034409816}, {\"y_rep\": 58.30860741664881}, {\"y_rep\": 55.16104536637599}, {\"y_rep\": 63.87962307160919}, {\"y_rep\": 65.72388185227993}, {\"y_rep\": 80.86399786687966}, {\"y_rep\": 2.586878663531797}, {\"y_rep\": 21.445236943850414}, {\"y_rep\": 50.190763118591335}, {\"y_rep\": 63.312164230611884}, {\"y_rep\": 44.70305533561673}, {\"y_rep\": 40.44773822402323}, {\"y_rep\": 30.71146361194372}, {\"y_rep\": 35.620709933646594}, {\"y_rep\": 51.07381938620955}, {\"y_rep\": 34.030002335084376}, {\"y_rep\": 32.54723814347093}, {\"y_rep\": 36.86561785533013}, {\"y_rep\": 52.51421239752759}, {\"y_rep\": 44.76647822609676}, {\"y_rep\": 50.370157654882185}, {\"y_rep\": 50.08881296196314}, {\"y_rep\": 63.20296862370696}, {\"y_rep\": 55.5791817813374}, {\"y_rep\": 53.29638602770025}, {\"y_rep\": 60.46204553975771}, {\"y_rep\": 45.05069761041731}, {\"y_rep\": 39.79963007746451}, {\"y_rep\": 55.34832194334531}, {\"y_rep\": 61.002354967027536}, {\"y_rep\": 43.154211255228724}, {\"y_rep\": 56.95633437873543}, {\"y_rep\": 37.85973815096875}, {\"y_rep\": 60.5577734443049}, {\"y_rep\": 55.95316513299142}, {\"y_rep\": 45.190514284657404}, {\"y_rep\": 54.58675353242066}, {\"y_rep\": 42.07671577400655}, {\"y_rep\": 54.330318648178235}, {\"y_rep\": 33.61953233087247}, {\"y_rep\": 57.474129556438704}, {\"y_rep\": 59.75457025438605}, {\"y_rep\": 44.836061301396704}, {\"y_rep\": 59.9406444427922}, {\"y_rep\": 38.00769930887074}, {\"y_rep\": 62.8356327856883}, {\"y_rep\": 39.90813226304989}, {\"y_rep\": 56.331913320206475}, {\"y_rep\": 52.70043474226149}, {\"y_rep\": 42.50169880592445}, {\"y_rep\": 72.95414645628495}, {\"y_rep\": 45.35479822633866}, {\"y_rep\": 56.31112478021955}, {\"y_rep\": 42.83626401373976}, {\"y_rep\": 35.99648362195347}, {\"y_rep\": 64.70982008038031}, {\"y_rep\": 53.862927059873876}, {\"y_rep\": 41.26352465023828}, {\"y_rep\": 59.11484006122228}, {\"y_rep\": 51.62055166290543}, {\"y_rep\": 50.01877695092608}, {\"y_rep\": 47.53982420263256}, {\"y_rep\": 54.73778474418553}, {\"y_rep\": 41.377302198656636}, {\"y_rep\": 58.18150448271234}, {\"y_rep\": 61.848068348016746}, {\"y_rep\": 31.86633865747682}, {\"y_rep\": 33.10051305971483}, {\"y_rep\": 41.30556035244217}, {\"y_rep\": 47.57361608793113}, {\"y_rep\": 68.86036019137808}, {\"y_rep\": 49.2601554691185}, {\"y_rep\": 43.11629062462902}, {\"y_rep\": 44.14815643853098}, {\"y_rep\": 59.16032293281097}, {\"y_rep\": 50.97797941996365}, {\"y_rep\": 56.063307347639146}, {\"y_rep\": 65.76641943278186}, {\"y_rep\": 58.8046490893505}, {\"y_rep\": 49.8753567234371}, {\"y_rep\": 63.767638586140535}, {\"y_rep\": 46.31877365454594}, {\"y_rep\": 32.56701873420009}, {\"y_rep\": 55.65145156940722}, {\"y_rep\": 54.562710996767315}, {\"y_rep\": 41.22966573389132}, {\"y_rep\": 53.029804765960066}, {\"y_rep\": 44.02538528091119}, {\"y_rep\": 52.61658934084785}, {\"y_rep\": 54.213593247298945}, {\"y_rep\": 52.583645068287105}, {\"y_rep\": 26.632549782471486}, {\"y_rep\": 47.91234854335042}, {\"y_rep\": 60.549524704311565}, {\"y_rep\": 61.63488204507374}, {\"y_rep\": 35.23333052176577}, {\"y_rep\": 65.80470401049614}, {\"y_rep\": 51.90684792830277}, {\"y_rep\": 42.966205576563844}, {\"y_rep\": 36.78058572296557}, {\"y_rep\": 58.570392353821504}, {\"y_rep\": 63.58827771320875}, {\"y_rep\": 35.169883257158915}, {\"y_rep\": 49.7146209222967}, {\"y_rep\": 39.28311741397978}, {\"y_rep\": 35.93529660019482}, {\"y_rep\": 47.017120954078365}, {\"y_rep\": 43.30429463349211}, {\"y_rep\": 45.463305017183764}, {\"y_rep\": 47.99438447197141}, {\"y_rep\": 55.372955168442715}, {\"y_rep\": 57.89736438670602}, {\"y_rep\": 50.29043342005813}, {\"y_rep\": 65.10649889119634}, {\"y_rep\": 45.80895563593271}, {\"y_rep\": 49.00298492570958}, {\"y_rep\": 47.92675011826803}, {\"y_rep\": 40.47000512927869}, {\"y_rep\": 37.002146540374994}, {\"y_rep\": 59.397342800209294}, {\"y_rep\": 57.9256744737806}, {\"y_rep\": 39.2176656611697}, {\"y_rep\": 42.4901020973293}, {\"y_rep\": 42.63282588335699}, {\"y_rep\": 47.63636211833968}, {\"y_rep\": 41.559761337048855}, {\"y_rep\": 37.189477468963695}, {\"y_rep\": 57.898350951969256}, {\"y_rep\": 58.646385922151055}, {\"y_rep\": 58.767516608303545}, {\"y_rep\": 42.23562318101348}, {\"y_rep\": 42.89243125158406}, {\"y_rep\": 43.10802240021728}, {\"y_rep\": 47.04319368473799}, {\"y_rep\": 61.65468649728697}, {\"y_rep\": 52.93728479121424}, {\"y_rep\": 32.68354333260437}, {\"y_rep\": 52.764399776777196}, {\"y_rep\": 39.80574468166365}, {\"y_rep\": 63.04206407567481}, {\"y_rep\": 45.445160609978124}, {\"y_rep\": 48.62694188199566}, {\"y_rep\": 41.24220735452612}, {\"y_rep\": 57.75837205848582}, {\"y_rep\": 43.6345736320751}, {\"y_rep\": 50.902157828908805}, {\"y_rep\": 72.93239519163674}, {\"y_rep\": 49.03144780711296}, {\"y_rep\": 55.773083715052465}, {\"y_rep\": 52.461991844694865}, {\"y_rep\": 52.64246549545514}, {\"y_rep\": 42.767359338098665}, {\"y_rep\": 53.82878168273606}, {\"y_rep\": 39.49648525226274}, {\"y_rep\": 53.74112469133735}, {\"y_rep\": 39.96826193875735}, {\"y_rep\": 49.57843307608529}, {\"y_rep\": 27.516167024278378}, {\"y_rep\": 54.214839573505216}, {\"y_rep\": 44.43713682957964}, {\"y_rep\": 45.572673245881305}, {\"y_rep\": 40.33372511840076}, {\"y_rep\": 38.66357887698703}, {\"y_rep\": 34.98156695249103}, {\"y_rep\": 50.32610232863083}, {\"y_rep\": 43.88038499595929}, {\"y_rep\": 32.58740549023398}, {\"y_rep\": 52.403834467414896}, {\"y_rep\": 66.08639276056458}, {\"y_rep\": 52.40295591226091}, {\"y_rep\": 38.91003032092276}, {\"y_rep\": 28.3109948780933}, {\"y_rep\": 54.21173966384805}, {\"y_rep\": 41.86748207442589}, {\"y_rep\": 54.43987725178959}, {\"y_rep\": 53.77873111051392}, {\"y_rep\": 50.48730159622623}, {\"y_rep\": 32.1584426879316}, {\"y_rep\": 33.00256113661817}, {\"y_rep\": 46.15987453265851}, {\"y_rep\": 46.18591443157641}, {\"y_rep\": 49.731966650159755}, {\"y_rep\": 46.48880782515368}, {\"y_rep\": 48.189544117394625}, {\"y_rep\": 53.922837416580386}, {\"y_rep\": 50.4702591470992}, {\"y_rep\": 36.61903948122271}, {\"y_rep\": 36.620181888568055}, {\"y_rep\": 35.984456551235844}, {\"y_rep\": 51.00720960321388}, {\"y_rep\": 47.404439771835264}, {\"y_rep\": 57.370109381029195}, {\"y_rep\": 42.52048179844473}, {\"y_rep\": 56.404164387272914}, {\"y_rep\": 49.05926459037858}, {\"y_rep\": 44.84418015833446}, {\"y_rep\": 60.03056566200905}, {\"y_rep\": 63.875526981561855}, {\"y_rep\": 56.64508618755068}, {\"y_rep\": 35.01866062088135}, {\"y_rep\": 55.84444161547263}, {\"y_rep\": 59.939512219838754}, {\"y_rep\": 31.46389022407389}, {\"y_rep\": 46.496931517919656}, {\"y_rep\": 51.40442926043124}, {\"y_rep\": 64.81737840404075}, {\"y_rep\": 66.94204526100009}, {\"y_rep\": 56.416555166999245}, {\"y_rep\": 43.722176752229196}, {\"y_rep\": 46.4917596106347}, {\"y_rep\": 43.51350159871827}, {\"y_rep\": 45.43399947162832}, {\"y_rep\": 65.90022087210689}, {\"y_rep\": 43.529710550550305}, {\"y_rep\": 38.545898437149816}, {\"y_rep\": 30.73659378361118}, {\"y_rep\": 55.61198259961175}, {\"y_rep\": 38.656455200523936}, {\"y_rep\": 51.62647266488906}, {\"y_rep\": 50.77710132524481}, {\"y_rep\": 33.70926359178836}, {\"y_rep\": 43.1034143544894}, {\"y_rep\": 50.57195918845412}, {\"y_rep\": 52.02660775091971}, {\"y_rep\": 64.89729081919864}, {\"y_rep\": 38.18919790402849}, {\"y_rep\": 50.7507322792093}, {\"y_rep\": 47.87967707457598}, {\"y_rep\": -8.50198805402556}, {\"y_rep\": 48.0148317984164}, {\"y_rep\": 51.190614183704966}, {\"y_rep\": 56.0457898651655}, {\"y_rep\": 38.683672879564384}, {\"y_rep\": 52.78427042715905}, {\"y_rep\": 66.24904871034184}, {\"y_rep\": 43.751650020109516}, {\"y_rep\": 39.66333817915739}, {\"y_rep\": 50.43604216111056}, {\"y_rep\": 68.17862807961033}, {\"y_rep\": 51.01207880275609}, {\"y_rep\": 63.583308318125994}, {\"y_rep\": 61.49096269278586}, {\"y_rep\": 58.53899000662096}, {\"y_rep\": 39.17866285822489}, {\"y_rep\": 67.89843182636793}, {\"y_rep\": 45.56555912219389}, {\"y_rep\": 56.54512786276098}, {\"y_rep\": 60.98671733348233}, {\"y_rep\": 39.005847851583354}, {\"y_rep\": 36.00416920937282}, {\"y_rep\": 43.03749809904727}, {\"y_rep\": 48.34838850635127}, {\"y_rep\": 45.59294534511807}, {\"y_rep\": 50.064700086523665}, {\"y_rep\": 39.88342341490396}, {\"y_rep\": 33.68225176077884}, {\"y_rep\": 45.94601714232713}, {\"y_rep\": 53.78161357644095}, {\"y_rep\": 57.98850199506735}, {\"y_rep\": 38.69838698524362}, {\"y_rep\": 55.50840358219034}, {\"y_rep\": 58.40526518251778}, {\"y_rep\": 40.12559315198911}, {\"y_rep\": 51.439894024409575}, {\"y_rep\": 37.14922890838255}, {\"y_rep\": 42.248850370213226}, {\"y_rep\": 42.32808636560357}, {\"y_rep\": 25.677683321295422}, {\"y_rep\": 71.28012556491957}, {\"y_rep\": 52.05668937426718}, {\"y_rep\": 41.83596311504003}, {\"y_rep\": 51.279839763626995}, {\"y_rep\": 46.17686571763376}, {\"y_rep\": 60.11021183764136}, {\"y_rep\": 36.756664847137394}, {\"y_rep\": 43.27876868684448}, {\"y_rep\": 44.26497269848187}, {\"y_rep\": 44.669685698076805}, {\"y_rep\": 61.32503619895216}, {\"y_rep\": 51.697867096277335}, {\"y_rep\": 64.27660253524486}, {\"y_rep\": 48.776695991350586}, {\"y_rep\": 31.604283072756246}, {\"y_rep\": 31.71328752778755}, {\"y_rep\": 65.16130582498482}, {\"y_rep\": 60.35680288447429}, {\"y_rep\": 40.832811023227535}, {\"y_rep\": 35.27489368531802}, {\"y_rep\": 55.89654070504601}, {\"y_rep\": 38.19363718087655}, {\"y_rep\": 47.67886601806381}, {\"y_rep\": 39.000573242352914}, {\"y_rep\": 48.25533310351445}, {\"y_rep\": 47.31441021841783}, {\"y_rep\": 47.536746457009976}, {\"y_rep\": 60.73265099699779}, {\"y_rep\": 41.51934357872216}, {\"y_rep\": 39.457078413894834}, {\"y_rep\": 31.05608296043524}, {\"y_rep\": 53.78320297507482}, {\"y_rep\": 56.411866810665224}, {\"y_rep\": 34.85775653027686}, {\"y_rep\": 43.049868881402126}, {\"y_rep\": 60.11441893820353}, {\"y_rep\": 39.81102628098786}, {\"y_rep\": 25.39704346702411}, {\"y_rep\": 39.146717214079565}, {\"y_rep\": 42.779292839956945}, {\"y_rep\": 63.30952135483148}, {\"y_rep\": 60.59325841828351}, {\"y_rep\": 33.0271243621919}, {\"y_rep\": 48.782607282857725}, {\"y_rep\": 56.620254303560785}, {\"y_rep\": 36.4183410723186}, {\"y_rep\": 29.704902033442366}, {\"y_rep\": 61.368714182856394}, {\"y_rep\": 62.32794837554558}, {\"y_rep\": 58.69139431528869}, {\"y_rep\": 50.418521130502675}, {\"y_rep\": 42.69630257420338}, {\"y_rep\": 44.46340664017538}, {\"y_rep\": 37.0779290289597}, {\"y_rep\": 55.20875392191821}, {\"y_rep\": 56.53110089728072}, {\"y_rep\": 50.7395685862541}, {\"y_rep\": 50.30001882465697}, {\"y_rep\": 52.96344507986176}, {\"y_rep\": 50.620765039824256}, {\"y_rep\": 52.22849366250579}, {\"y_rep\": 52.0508399490236}, {\"y_rep\": 47.06432225375436}, {\"y_rep\": 50.10332318400149}, {\"y_rep\": 52.487633090456285}, {\"y_rep\": 44.62750779427454}, {\"y_rep\": 34.28749855035595}, {\"y_rep\": 48.433253457089805}, {\"y_rep\": 25.571291121358282}, {\"y_rep\": 56.417608942163}, {\"y_rep\": 45.458099656508764}, {\"y_rep\": 40.91654538125084}, {\"y_rep\": 39.277882007190186}, {\"y_rep\": 49.04241990197485}, {\"y_rep\": 53.035656892349685}, {\"y_rep\": 50.94188719019509}, {\"y_rep\": 38.78863109872907}, {\"y_rep\": 32.73643502544003}, {\"y_rep\": 38.710290866763664}, {\"y_rep\": 35.61405247557626}, {\"y_rep\": 63.794291597429094}, {\"y_rep\": 50.10206470403169}, {\"y_rep\": 55.84839178173326}, {\"y_rep\": 54.42632244771642}, {\"y_rep\": 56.637798471100176}, {\"y_rep\": 41.55246978371256}, {\"y_rep\": 46.54923338140195}, {\"y_rep\": 56.38394759157768}, {\"y_rep\": 59.06071911716394}, {\"y_rep\": 44.420344277247146}, {\"y_rep\": 34.633674534287834}, {\"y_rep\": 41.780670982342514}, {\"y_rep\": 42.52431728063728}, {\"y_rep\": 36.84586197101551}, {\"y_rep\": 51.39600461963899}, {\"y_rep\": 55.964171454325495}, {\"y_rep\": 55.6899616071223}, {\"y_rep\": 62.57432151425758}, {\"y_rep\": 64.67628046400469}, {\"y_rep\": 20.992615886327766}, {\"y_rep\": 45.20902122953298}, {\"y_rep\": 56.66010109260012}, {\"y_rep\": 39.257321527693236}, {\"y_rep\": 41.419538609539345}, {\"y_rep\": 45.99011731167511}, {\"y_rep\": 54.08638133178417}, {\"y_rep\": 56.59516299549045}, {\"y_rep\": 50.67057467107968}, {\"y_rep\": 53.2939297413078}, {\"y_rep\": 40.67222143265148}, {\"y_rep\": 42.222915765527}, {\"y_rep\": 52.04321744788991}, {\"y_rep\": 71.59941059469669}, {\"y_rep\": 42.02380918296875}, {\"y_rep\": 44.21882282968938}, {\"y_rep\": 59.28670380000229}, {\"y_rep\": 43.79561480731419}, {\"y_rep\": 50.02104448177173}, {\"y_rep\": 36.17069086608338}, {\"y_rep\": 48.86105580277244}, {\"y_rep\": 50.790789702948864}, {\"y_rep\": 56.93953144693166}, {\"y_rep\": 75.2588125390663}, {\"y_rep\": 44.47033459307009}, {\"y_rep\": 52.993433377210856}, {\"y_rep\": 39.73252106077999}, {\"y_rep\": 55.579283680251436}, {\"y_rep\": 55.99213729056592}, {\"y_rep\": 63.94619879366887}, {\"y_rep\": 53.0318977838801}, {\"y_rep\": 38.4706723312921}, {\"y_rep\": 41.793522543982206}, {\"y_rep\": 39.39591017554924}, {\"y_rep\": 45.36834396156621}, {\"y_rep\": 63.815121337873485}, {\"y_rep\": 43.15669028490956}, {\"y_rep\": 69.80984900027092}, {\"y_rep\": 54.5491081742291}, {\"y_rep\": 65.3275744357658}, {\"y_rep\": 29.928534600134668}, {\"y_rep\": 56.99542855587686}, {\"y_rep\": 48.172703212236314}, {\"y_rep\": 59.92227529002334}, {\"y_rep\": 48.6102094548064}, {\"y_rep\": 26.611306488449387}, {\"y_rep\": 52.98824130674482}, {\"y_rep\": 43.9956090620293}, {\"y_rep\": 76.15158509755221}, {\"y_rep\": 45.56387535082224}, {\"y_rep\": 58.92437296330803}, {\"y_rep\": 56.79953549553488}, {\"y_rep\": 56.91225858015548}, {\"y_rep\": 55.462768463630454}, {\"y_rep\": 36.72627916638917}, {\"y_rep\": 71.25349612984965}, {\"y_rep\": 58.996432005293826}, {\"y_rep\": 39.58137289681196}, {\"y_rep\": 37.82609084082324}, {\"y_rep\": 35.458445388623666}, {\"y_rep\": 52.54933179433832}, {\"y_rep\": 58.04249496239207}, {\"y_rep\": 50.73236828751931}, {\"y_rep\": 32.032354895532464}, {\"y_rep\": 44.88994391555637}, {\"y_rep\": 55.32616190847174}, {\"y_rep\": 51.021022416088904}, {\"y_rep\": 49.368691045134234}, {\"y_rep\": 46.9848096236426}, {\"y_rep\": 34.83085169088377}, {\"y_rep\": 60.62586672208782}, {\"y_rep\": 37.97308924331841}, {\"y_rep\": 47.31950337592316}, {\"y_rep\": 65.62414859726445}, {\"y_rep\": 49.56069506713243}, {\"y_rep\": 64.78099326801286}, {\"y_rep\": 22.803806395895236}, {\"y_rep\": 58.58733033729571}, {\"y_rep\": 61.10056122764442}, {\"y_rep\": 49.85047689206665}, {\"y_rep\": 65.99661989976617}, {\"y_rep\": 52.51389765782027}, {\"y_rep\": 61.14640669202636}, {\"y_rep\": 31.50389506475171}, {\"y_rep\": 57.79814518718288}, {\"y_rep\": 52.41553303586679}, {\"y_rep\": 36.042695114341065}, {\"y_rep\": 41.11402258936121}, {\"y_rep\": 53.6687541157538}, {\"y_rep\": 66.31839456600419}, {\"y_rep\": 64.44908584032171}, {\"y_rep\": 61.694445351338345}, {\"y_rep\": 33.53341646735562}, {\"y_rep\": 48.79995260724596}, {\"y_rep\": 54.399312427335005}, {\"y_rep\": 44.57893616218908}, {\"y_rep\": 51.87220823872431}, {\"y_rep\": 59.211148914529595}, {\"y_rep\": 38.521183732395535}, {\"y_rep\": 48.517119290413326}, {\"y_rep\": 54.73222220721895}, {\"y_rep\": 45.356600981884384}, {\"y_rep\": 31.624457659161443}, {\"y_rep\": 58.53230995523322}, {\"y_rep\": 34.11323372060441}, {\"y_rep\": 59.62269770633157}, {\"y_rep\": 31.802199293478438}, {\"y_rep\": 42.193129981092206}, {\"y_rep\": 51.98927294539796}, {\"y_rep\": 56.49115439984402}, {\"y_rep\": 60.910806384651536}, {\"y_rep\": 59.33242228513029}, {\"y_rep\": 54.557789965673436}, {\"y_rep\": 35.05885327796382}, {\"y_rep\": 55.99079338797817}, {\"y_rep\": 61.07982483051502}, {\"y_rep\": 38.808904451144514}, {\"y_rep\": 71.98098912634848}, {\"y_rep\": 54.91569189996514}, {\"y_rep\": 45.7462127508251}, {\"y_rep\": 54.82019048884148}, {\"y_rep\": 47.62472620355774}, {\"y_rep\": 46.168141045328525}, {\"y_rep\": 55.293107728678606}, {\"y_rep\": 56.46260979497615}, {\"y_rep\": 22.65789757338829}, {\"y_rep\": 46.5622741334912}, {\"y_rep\": 64.34622051772739}, {\"y_rep\": 53.61444046843712}, {\"y_rep\": 51.74617226198215}, {\"y_rep\": 49.564123809134934}, {\"y_rep\": 40.78222846266977}, {\"y_rep\": 58.14338070271008}, {\"y_rep\": 41.73292500510288}, {\"y_rep\": 54.90442281904869}, {\"y_rep\": 63.84097063514985}, {\"y_rep\": 39.31255076109757}, {\"y_rep\": 36.87829117809501}, {\"y_rep\": 57.26710238156705}, {\"y_rep\": 50.3018537271598}, {\"y_rep\": 45.07424822161113}, {\"y_rep\": 37.6953047067179}, {\"y_rep\": 43.66690361799899}, {\"y_rep\": 50.62803958592305}, {\"y_rep\": 70.67287806033528}, {\"y_rep\": 68.91346214695861}, {\"y_rep\": 45.408507625853254}, {\"y_rep\": 76.22171775818629}, {\"y_rep\": 38.71670817154295}, {\"y_rep\": 65.54186411058711}, {\"y_rep\": 33.23313722190339}, {\"y_rep\": 54.70224648350447}, {\"y_rep\": 39.97585593021644}, {\"y_rep\": 32.04013673451139}, {\"y_rep\": 43.68667888598843}, {\"y_rep\": 41.46185642356399}, {\"y_rep\": 45.90430099051902}, {\"y_rep\": 56.412416984602864}, {\"y_rep\": 34.760400156403904}, {\"y_rep\": 49.82263725485234}, {\"y_rep\": 58.00877032778875}, {\"y_rep\": 57.24223859150479}, {\"y_rep\": 46.02674366009384}, {\"y_rep\": 39.090284841383266}, {\"y_rep\": 49.637559044138904}, {\"y_rep\": 41.07432465251623}, {\"y_rep\": 59.7358081919838}, {\"y_rep\": 48.800893630401404}, {\"y_rep\": 52.61851810308402}, {\"y_rep\": 48.56820380938347}, {\"y_rep\": 51.11843436767197}, {\"y_rep\": 43.03747041012487}, {\"y_rep\": 38.954919858911296}, {\"y_rep\": 52.617960212142506}, {\"y_rep\": 55.65418817883375}, {\"y_rep\": 62.19943434584405}, {\"y_rep\": 37.978190205153005}, {\"y_rep\": 39.968437193062044}, {\"y_rep\": 65.59904083834766}, {\"y_rep\": 56.2734584264827}, {\"y_rep\": 51.15872971681427}, {\"y_rep\": 47.51712655139792}, {\"y_rep\": 31.95466646880551}, {\"y_rep\": 46.8033206062313}, {\"y_rep\": 51.79478468553793}, {\"y_rep\": 40.81649125767955}, {\"y_rep\": 35.43606375071601}, {\"y_rep\": 55.85596657581126}, {\"y_rep\": 42.23594877689765}, {\"y_rep\": 50.58453318063572}, {\"y_rep\": 42.830583841090046}, {\"y_rep\": 59.045272630208146}, {\"y_rep\": 52.17088249809995}, {\"y_rep\": 47.61584758346948}, {\"y_rep\": 35.33520795364175}, {\"y_rep\": 35.17238616510476}, {\"y_rep\": 33.6368460244312}, {\"y_rep\": 47.60596359786769}, {\"y_rep\": 48.31971545984184}, {\"y_rep\": 45.68379685433596}, {\"y_rep\": 41.70010851286031}, {\"y_rep\": 58.41950209381915}, {\"y_rep\": 47.97033722997274}, {\"y_rep\": 44.071291880762836}, {\"y_rep\": 39.727161669567685}, {\"y_rep\": 38.86333355735962}, {\"y_rep\": 54.42486523722861}, {\"y_rep\": 49.068455289550556}, {\"y_rep\": 41.84690335291696}, {\"y_rep\": 48.64712098115625}, {\"y_rep\": 58.22022390191685}, {\"y_rep\": 62.697832200929334}, {\"y_rep\": 44.93735961070582}, {\"y_rep\": 38.21787848974845}, {\"y_rep\": 53.81625265855073}, {\"y_rep\": 50.79393222010428}, {\"y_rep\": 47.74960913950006}, {\"y_rep\": 49.04902506565476}, {\"y_rep\": 52.87132210584704}, {\"y_rep\": 60.823278649568465}, {\"y_rep\": 60.77243880576859}, {\"y_rep\": 42.73980214001031}, {\"y_rep\": 48.99095031026035}, {\"y_rep\": 60.43144707229372}, {\"y_rep\": 44.18172432481508}, {\"y_rep\": 31.956923363098124}, {\"y_rep\": 46.40715408678436}, {\"y_rep\": 49.254346306694536}, {\"y_rep\": 37.17082004140561}, {\"y_rep\": 53.479168862122194}, {\"y_rep\": 44.71948617624897}, {\"y_rep\": 51.736419227032016}, {\"y_rep\": 57.95439252283439}, {\"y_rep\": 46.984626877163244}, {\"y_rep\": 53.919044938279335}, {\"y_rep\": 64.56788228721676}, {\"y_rep\": 54.513725477779}, {\"y_rep\": 55.60000245261835}, {\"y_rep\": 47.36391024407043}, {\"y_rep\": 59.97085023894633}, {\"y_rep\": 58.76790634231965}, {\"y_rep\": 39.33496245137012}, {\"y_rep\": 43.324919202152884}, {\"y_rep\": 37.13527760880922}, {\"y_rep\": 38.46383671163734}, {\"y_rep\": 63.49356622943628}, {\"y_rep\": 42.18987043486728}, {\"y_rep\": 49.16057643528622}, {\"y_rep\": 69.48605400984717}, {\"y_rep\": 55.99386695264301}, {\"y_rep\": 32.397279243890665}, {\"y_rep\": 52.24687687677836}, {\"y_rep\": 48.55817134155497}, {\"y_rep\": 53.94889976595945}, {\"y_rep\": 52.416758140729556}, {\"y_rep\": 41.66595529474755}, {\"y_rep\": 54.820680502188054}, {\"y_rep\": 43.524699861635625}, {\"y_rep\": 48.23410484076203}, {\"y_rep\": 45.831031908324114}, {\"y_rep\": 51.799264570849715}, {\"y_rep\": 54.202526479794926}, {\"y_rep\": 51.177739285584494}, {\"y_rep\": 54.9247851745997}, {\"y_rep\": 42.935246020687025}, {\"y_rep\": 59.570228962750846}, {\"y_rep\": 41.725499469808824}, {\"y_rep\": 57.07961392366097}, {\"y_rep\": 58.38943531584217}, {\"y_rep\": 41.28377985999415}, {\"y_rep\": 45.199931588750616}, {\"y_rep\": 64.54238067937465}, {\"y_rep\": 45.78708377765347}, {\"y_rep\": 62.42425238991518}, {\"y_rep\": 48.65682642046116}, {\"y_rep\": 46.011801019793786}, {\"y_rep\": 37.05356573998654}, {\"y_rep\": 47.97387128536635}, {\"y_rep\": 45.91451830438696}, {\"y_rep\": 57.717423370822516}, {\"y_rep\": 26.531654398068763}, {\"y_rep\": 48.51517704872877}, {\"y_rep\": 45.904854375155814}, {\"y_rep\": 33.34757054752174}, {\"y_rep\": 21.73743005128721}, {\"y_rep\": 46.67876647385569}, {\"y_rep\": 53.842591607040575}, {\"y_rep\": 53.01095430038738}, {\"y_rep\": 73.65886570401939}, {\"y_rep\": 38.54998801663467}, {\"y_rep\": 43.22384714166996}, {\"y_rep\": 57.32239981053486}, {\"y_rep\": 46.903877137187834}, {\"y_rep\": 45.01204219066642}, {\"y_rep\": 60.13334701428639}, {\"y_rep\": 48.415339426387696}, {\"y_rep\": 28.636654938418665}, {\"y_rep\": 55.27823886359744}, {\"y_rep\": 46.80316377664068}, {\"y_rep\": 54.01478432973216}, {\"y_rep\": 52.09570141001127}, {\"y_rep\": 49.28955620054961}, {\"y_rep\": 45.00258005966988}, {\"y_rep\": 49.751669438341374}, {\"y_rep\": 46.410304331140715}, {\"y_rep\": 33.39735569586634}, {\"y_rep\": 57.71402101724463}, {\"y_rep\": 45.46871553364737}, {\"y_rep\": 33.2067674098661}, {\"y_rep\": 54.44747218663592}, {\"y_rep\": 55.011776049691115}, {\"y_rep\": 43.56647122272859}, {\"y_rep\": 58.17421197543638}, {\"y_rep\": 35.66142862664837}, {\"y_rep\": 39.023838488544996}, {\"y_rep\": 66.94791555535758}, {\"y_rep\": 67.93099018421384}, {\"y_rep\": 48.76999848604896}, {\"y_rep\": 53.01374267618271}, {\"y_rep\": 48.79946206303955}, {\"y_rep\": 46.43751455783978}, {\"y_rep\": 42.32888132393066}, {\"y_rep\": 62.290719111026824}, {\"y_rep\": 49.21839779179141}, {\"y_rep\": 62.10852370818206}, {\"y_rep\": 44.973080870998054}, {\"y_rep\": 52.54811847502489}, {\"y_rep\": 50.43109845878892}, {\"y_rep\": 41.169824805904184}, {\"y_rep\": 61.72968840387113}, {\"y_rep\": 59.8470068420718}, {\"y_rep\": 51.963364781614764}, {\"y_rep\": 50.8858582815923}, {\"y_rep\": 81.8491619960316}, {\"y_rep\": 49.78173645644913}, {\"y_rep\": 63.87899639292947}, {\"y_rep\": 49.380348744212384}, {\"y_rep\": 56.229774179210615}, {\"y_rep\": 47.33722095404719}, {\"y_rep\": 40.52697716318976}, {\"y_rep\": 39.781229624390456}, {\"y_rep\": 30.136376580122405}, {\"y_rep\": 51.939434774927165}, {\"y_rep\": 64.39654782269679}, {\"y_rep\": 49.64374194735097}, {\"y_rep\": 55.81912524246714}, {\"y_rep\": 43.76259096766246}, {\"y_rep\": 47.70382017811557}, {\"y_rep\": 49.77471071514611}, {\"y_rep\": 45.877756903921394}, {\"y_rep\": 39.089561728999016}, {\"y_rep\": 48.45129737796698}, {\"y_rep\": 29.810675007730506}, {\"y_rep\": 42.35383759927114}, {\"y_rep\": 48.06008921795596}, {\"y_rep\": 63.177673666432455}, {\"y_rep\": 47.77042199158043}, {\"y_rep\": 51.69097627636313}, {\"y_rep\": 42.59271309815537}, {\"y_rep\": 60.42817548280903}, {\"y_rep\": 49.786320894514034}, {\"y_rep\": 44.05692976557175}, {\"y_rep\": 58.67995828131407}, {\"y_rep\": 45.09959395075951}, {\"y_rep\": 45.65570312521275}, {\"y_rep\": 48.779665530646156}, {\"y_rep\": 56.91415221391209}, {\"y_rep\": 45.81529426072892}, {\"y_rep\": 36.147577842606935}, {\"y_rep\": 36.09710110793199}, {\"y_rep\": 47.86511412271889}, {\"y_rep\": 56.489847374068134}, {\"y_rep\": 43.630987011479874}, {\"y_rep\": 40.812732075916585}, {\"y_rep\": 54.63477537585343}, {\"y_rep\": 44.46662388082409}, {\"y_rep\": 45.65769846493457}, {\"y_rep\": 61.64558196795922}, {\"y_rep\": 37.15771630844736}, {\"y_rep\": 59.04563799563394}, {\"y_rep\": 51.52073747412409}, {\"y_rep\": 37.81877586495408}, {\"y_rep\": 56.35859938122433}, {\"y_rep\": 44.994723168904045}, {\"y_rep\": 41.53766848390222}, {\"y_rep\": 41.4669117836784}, {\"y_rep\": 56.10073636318873}, {\"y_rep\": 67.98567531219251}, {\"y_rep\": 41.46771998460876}, {\"y_rep\": 31.202503402163526}, {\"y_rep\": 64.96419574583636}, {\"y_rep\": 55.818023783571256}, {\"y_rep\": 56.281284080386946}, {\"y_rep\": 55.97782913011366}, {\"y_rep\": 57.3886050733533}, {\"y_rep\": 39.3001297162805}, {\"y_rep\": 41.47100791438426}, {\"y_rep\": 43.00734769374242}, {\"y_rep\": 36.353136140349534}, {\"y_rep\": 41.96641892001896}, {\"y_rep\": 47.00709746474175}, {\"y_rep\": 37.2462857508736}, {\"y_rep\": 45.1724584537301}, {\"y_rep\": 53.51243403427936}, {\"y_rep\": 56.37476524855681}, {\"y_rep\": 38.20593954415476}, {\"y_rep\": 52.90448057630741}, {\"y_rep\": 68.20773091711035}, {\"y_rep\": 52.24006732853027}, {\"y_rep\": 43.923220022445925}, {\"y_rep\": 58.22919619088246}, {\"y_rep\": 42.62006238049569}, {\"y_rep\": 47.811178926660816}, {\"y_rep\": 41.7438176106285}, {\"y_rep\": 54.29865448962872}, {\"y_rep\": 46.818575994808}, {\"y_rep\": 43.66413844728763}, {\"y_rep\": 61.233054265920096}, {\"y_rep\": 24.32930343986214}, {\"y_rep\": 52.16409848215146}, {\"y_rep\": 42.14927784339096}, {\"y_rep\": 66.34229326307327}, {\"y_rep\": 39.04479617912184}, {\"y_rep\": 39.74268315608333}, {\"y_rep\": 54.347237995071026}, {\"y_rep\": 56.1010677744073}, {\"y_rep\": 47.78330295850961}, {\"y_rep\": 54.31467020285444}, {\"y_rep\": 56.87552220907398}, {\"y_rep\": 49.0024442834219}, {\"y_rep\": 47.35115178171626}, {\"y_rep\": 47.62994695978894}, {\"y_rep\": 55.823535436998405}, {\"y_rep\": 48.56414641797451}, {\"y_rep\": 63.14337694243472}, {\"y_rep\": 56.3214282461478}, {\"y_rep\": 54.614724041232726}, {\"y_rep\": 40.767048863813585}, {\"y_rep\": 44.27699873759158}, {\"y_rep\": 53.23130649252063}, {\"y_rep\": 55.19239856863979}, {\"y_rep\": 57.49966100885238}, {\"y_rep\": 58.977378219314176}, {\"y_rep\": 53.31233366779494}, {\"y_rep\": 40.54373398255404}, {\"y_rep\": 67.39899478394345}, {\"y_rep\": 46.088933184983915}, {\"y_rep\": 75.40293733592904}, {\"y_rep\": 35.76548086512442}, {\"y_rep\": 56.54603817882131}, {\"y_rep\": 48.3444764309271}, {\"y_rep\": 61.62074576341208}, {\"y_rep\": 34.14242708929517}, {\"y_rep\": 74.43631665484361}, {\"y_rep\": 59.83660890046933}, {\"y_rep\": 53.112819958583316}, {\"y_rep\": 42.5666698614128}, {\"y_rep\": 38.30800178896134}, {\"y_rep\": 37.00289641349809}, {\"y_rep\": 41.18080854941205}, {\"y_rep\": 52.61189785411036}, {\"y_rep\": 56.28808144516171}, {\"y_rep\": 41.20597347844568}, {\"y_rep\": 64.45191789980791}, {\"y_rep\": 57.95528252699279}, {\"y_rep\": 56.885074552705674}, {\"y_rep\": 49.7911838907732}, {\"y_rep\": 67.26717398437219}, {\"y_rep\": 62.45527235051344}, {\"y_rep\": 58.042644846551376}, {\"y_rep\": 52.45981600000265}, {\"y_rep\": 59.60780508073685}, {\"y_rep\": 53.49544743546535}, {\"y_rep\": 56.896311746980274}, {\"y_rep\": 42.808428041716724}, {\"y_rep\": 48.29409290420558}, {\"y_rep\": 54.4181043506455}, {\"y_rep\": 56.71582618359053}, {\"y_rep\": 37.76629349401826}, {\"y_rep\": 50.40970729537621}, {\"y_rep\": 30.057913687909902}, {\"y_rep\": 65.4761538049849}, {\"y_rep\": 51.62614537921608}, {\"y_rep\": 50.818833783157295}, {\"y_rep\": 67.49980581200779}, {\"y_rep\": 40.353136925900806}, {\"y_rep\": 42.94468089740195}, {\"y_rep\": 54.95435935473012}, {\"y_rep\": 49.20041529187351}, {\"y_rep\": 50.608939260539636}, {\"y_rep\": 49.23404723947749}, {\"y_rep\": 55.06270681325021}, {\"y_rep\": 43.38226563257784}, {\"y_rep\": 44.272211473678595}, {\"y_rep\": 56.58166119479415}, {\"y_rep\": 37.36945011431719}, {\"y_rep\": 33.9832395965645}, {\"y_rep\": 62.78292427950679}, {\"y_rep\": 45.291761253947534}, {\"y_rep\": 22.932258727722093}, {\"y_rep\": 57.59196242968539}, {\"y_rep\": 64.99328010230302}, {\"y_rep\": 42.51964185088332}, {\"y_rep\": 45.8936975769614}, {\"y_rep\": 65.9581119972251}, {\"y_rep\": 37.37017783305398}, {\"y_rep\": 40.24569206538093}, {\"y_rep\": 45.23607423758552}, {\"y_rep\": 49.06459810106805}, {\"y_rep\": 52.49586498681113}, {\"y_rep\": 42.67230321731817}, {\"y_rep\": 9.946316399812227}, {\"y_rep\": 43.801462607423794}, {\"y_rep\": 60.12698496480848}, {\"y_rep\": 38.271315873587014}, {\"y_rep\": 43.25006423441508}, {\"y_rep\": 67.006147995671}, {\"y_rep\": 58.675739481820145}, {\"y_rep\": 58.34232034452911}, {\"y_rep\": 39.60030881758658}, {\"y_rep\": 12.406052124652064}, {\"y_rep\": 27.111987474698434}, {\"y_rep\": 53.17682709093327}, {\"y_rep\": 45.73605423094799}, {\"y_rep\": 59.038344758056965}, {\"y_rep\": 52.9886738214512}, {\"y_rep\": 37.78720700624909}, {\"y_rep\": 50.00186625398227}, {\"y_rep\": 35.650121146651024}, {\"y_rep\": 53.489221973495575}, {\"y_rep\": 59.12296021840133}, {\"y_rep\": 49.300806097733215}, {\"y_rep\": 60.15347768689023}, {\"y_rep\": 62.39350101195819}, {\"y_rep\": 60.77336497287223}, {\"y_rep\": 55.79402382183286}, {\"y_rep\": 43.88446412587878}, {\"y_rep\": 43.37227438243599}, {\"y_rep\": 60.3265387674638}, {\"y_rep\": 67.32229891902506}, {\"y_rep\": 53.361064530373774}, {\"y_rep\": 60.64773314025673}, {\"y_rep\": 54.02855383358271}, {\"y_rep\": 38.77818648386087}, {\"y_rep\": 42.435823726530295}, {\"y_rep\": 57.75811172460079}, {\"y_rep\": 51.56451526949747}, {\"y_rep\": 33.9935918714621}, {\"y_rep\": 55.6734656448327}, {\"y_rep\": 46.913673169136345}, {\"y_rep\": 58.24150724366995}, {\"y_rep\": 52.1562850557495}, {\"y_rep\": 57.84190275295933}, {\"y_rep\": 44.4298549304982}, {\"y_rep\": 39.42940521433678}, {\"y_rep\": 35.5928665118937}, {\"y_rep\": 52.02219818186834}, {\"y_rep\": 46.14125672272559}, {\"y_rep\": 52.93007803726836}, {\"y_rep\": 58.28235609427921}, {\"y_rep\": 58.013143963776216}, {\"y_rep\": 50.33064045148373}, {\"y_rep\": 47.46461343123939}, {\"y_rep\": 46.64726031848402}, {\"y_rep\": 50.545416157507255}, {\"y_rep\": 33.139441532411084}, {\"y_rep\": 48.23333189028086}, {\"y_rep\": 46.26397281470889}, {\"y_rep\": 41.79110339377969}, {\"y_rep\": 48.23703432368602}, {\"y_rep\": 50.554589768493805}, {\"y_rep\": 53.10103750763709}, {\"y_rep\": 61.48230115699943}, {\"y_rep\": 49.0811407974391}, {\"y_rep\": 51.93822684170639}, {\"y_rep\": 45.96463646985322}, {\"y_rep\": 57.31467130291609}, {\"y_rep\": 44.80220937103944}, {\"y_rep\": 47.967110469834154}, {\"y_rep\": 41.24923406917499}, {\"y_rep\": 55.958840209588985}, {\"y_rep\": 51.33285171656461}, {\"y_rep\": 59.83831145757846}, {\"y_rep\": 51.01680558643322}, {\"y_rep\": 33.58993083956486}, {\"y_rep\": 56.23795446502858}, {\"y_rep\": 48.32249243040953}, {\"y_rep\": 44.12417790741363}, {\"y_rep\": 54.417777336612794}, {\"y_rep\": 53.176924514103156}, {\"y_rep\": 64.9605374221096}, {\"y_rep\": 43.180857595999555}, {\"y_rep\": 40.175692571601545}, {\"y_rep\": 39.87556393048697}, {\"y_rep\": 31.22979684252793}, {\"y_rep\": 40.72448765504929}, {\"y_rep\": 61.25133976973778}, {\"y_rep\": 54.739296020901854}, {\"y_rep\": 42.09635436303497}, {\"y_rep\": 35.55492327202285}, {\"y_rep\": 44.89746772616815}, {\"y_rep\": 47.583888214752875}, {\"y_rep\": 56.17897466422552}, {\"y_rep\": 69.70267990760173}, {\"y_rep\": 59.751527447695864}, {\"y_rep\": 42.34174586690997}, {\"y_rep\": 51.71664186051106}, {\"y_rep\": 49.74616424687602}, {\"y_rep\": 58.798903719763}, {\"y_rep\": 39.20267482146406}, {\"y_rep\": 67.60584902112687}, {\"y_rep\": 44.42194258548674}, {\"y_rep\": 64.74862531758602}, {\"y_rep\": 41.73171874274728}, {\"y_rep\": 49.15447405494493}, {\"y_rep\": 60.729104062323835}, {\"y_rep\": 57.783174724332085}, {\"y_rep\": 33.602258848197565}, {\"y_rep\": 45.97700934537204}, {\"y_rep\": 58.25533997710234}, {\"y_rep\": 49.15855057551865}, {\"y_rep\": 47.629804417381706}, {\"y_rep\": 49.426242061632315}, {\"y_rep\": 43.8533532353506}, {\"y_rep\": 50.689444782942054}, {\"y_rep\": 67.8675924608339}, {\"y_rep\": 42.912956872170405}, {\"y_rep\": 53.07572427401568}, {\"y_rep\": 61.12957671892544}, {\"y_rep\": 67.77248346806385}, {\"y_rep\": 49.20413982144908}, {\"y_rep\": 57.387465899399096}, {\"y_rep\": 38.5028497103778}, {\"y_rep\": 47.09066155760101}, {\"y_rep\": 47.31140666413087}, {\"y_rep\": 37.24830296474959}, {\"y_rep\": 40.8504390167138}, {\"y_rep\": 49.63444658003449}, {\"y_rep\": 50.919548506640396}, {\"y_rep\": 48.29423450571023}, {\"y_rep\": 68.76495469533339}, {\"y_rep\": 47.792671104403716}, {\"y_rep\": 58.55134936452027}, {\"y_rep\": 40.57202757200895}, {\"y_rep\": 35.37130585521645}, {\"y_rep\": 49.771345711361754}, {\"y_rep\": 54.39930567372908}, {\"y_rep\": 53.835575900899464}, {\"y_rep\": 52.5031909224871}, {\"y_rep\": 50.16169303387815}, {\"y_rep\": 46.94836344262595}, {\"y_rep\": 6.257144105962777}, {\"y_rep\": 53.20519573337987}, {\"y_rep\": 58.41649450128993}, {\"y_rep\": 51.95426433782668}, {\"y_rep\": 60.3736327412215}, {\"y_rep\": 54.274187550407966}, {\"y_rep\": 51.396547790621625}, {\"y_rep\": 44.57277417387957}, {\"y_rep\": 17.307096649742867}, {\"y_rep\": 46.69444694002887}, {\"y_rep\": 12.921044200988163}, {\"y_rep\": 48.58917940738305}, {\"y_rep\": 38.43301798027647}, {\"y_rep\": 50.515089567657945}, {\"y_rep\": 44.23538824058215}, {\"y_rep\": 46.4648437775903}, {\"y_rep\": 59.34247981584404}, {\"y_rep\": 59.32161960330805}, {\"y_rep\": 52.84856775475496}, {\"y_rep\": 42.05432946330495}, {\"y_rep\": 56.475650681514274}, {\"y_rep\": 57.109182519888904}, {\"y_rep\": 45.74109389936062}, {\"y_rep\": 66.64204838750695}, {\"y_rep\": 50.99729885744709}, {\"y_rep\": 58.5715376092234}, {\"y_rep\": 61.5668986621056}, {\"y_rep\": 31.129323050948948}, {\"y_rep\": 36.31590511790853}, {\"y_rep\": 47.670047869882836}, {\"y_rep\": 38.97013686291983}, {\"y_rep\": 54.01803167019309}, {\"y_rep\": 51.72796881132207}, {\"y_rep\": 47.82205890202362}, {\"y_rep\": 64.07184694766809}, {\"y_rep\": 62.97425085441954}, {\"y_rep\": 50.17471754360858}, {\"y_rep\": 57.688923248688496}, {\"y_rep\": 62.702026757925374}, {\"y_rep\": 45.87377736828832}, {\"y_rep\": 45.60082702537554}, {\"y_rep\": 52.71185731726294}, {\"y_rep\": 63.28729020802642}, {\"y_rep\": 41.50973487047731}, {\"y_rep\": 47.41569483979264}, {\"y_rep\": 17.907188163725053}, {\"y_rep\": 45.38209918141814}, {\"y_rep\": 48.75898494719204}, {\"y_rep\": 73.74929150633965}, {\"y_rep\": 56.29313737841522}, {\"y_rep\": 33.688159954625}, {\"y_rep\": 57.37849329170557}, {\"y_rep\": 40.8996173908976}, {\"y_rep\": 45.23524974084945}, {\"y_rep\": 50.754479368554286}, {\"y_rep\": 43.99210728666705}, {\"y_rep\": 48.50625219804925}, {\"y_rep\": 63.07470904045699}, {\"y_rep\": 55.37666550194097}, {\"y_rep\": 58.718907104328}, {\"y_rep\": 52.666713496562735}, {\"y_rep\": 36.02898337472397}, {\"y_rep\": 61.59267933986493}, {\"y_rep\": 33.81982123568386}, {\"y_rep\": 52.769831331665856}, {\"y_rep\": 44.80733810810949}, {\"y_rep\": 48.36191549072459}, {\"y_rep\": 23.12992970678325}, {\"y_rep\": 59.96632077701938}, {\"y_rep\": 39.06883200586605}, {\"y_rep\": 57.29185561326287}, {\"y_rep\": 53.62584427393219}, {\"y_rep\": 36.812968453773344}, {\"y_rep\": 40.546216459069036}, {\"y_rep\": 47.85056925149818}, {\"y_rep\": 78.37987187963245}, {\"y_rep\": 56.8041913182033}, {\"y_rep\": 61.011838775159}, {\"y_rep\": 57.58454347458007}, {\"y_rep\": 27.87924040149804}, {\"y_rep\": 52.51055888726797}, {\"y_rep\": 48.166277390479465}, {\"y_rep\": 36.983922883723466}, {\"y_rep\": 51.508647600480934}, {\"y_rep\": 43.368605608943824}, {\"y_rep\": 54.08425420876287}, {\"y_rep\": 43.492163621210864}, {\"y_rep\": 59.85708834022995}, {\"y_rep\": 46.73624826980755}, {\"y_rep\": 54.510283224648305}, {\"y_rep\": 47.88715021894392}, {\"y_rep\": 46.03500127219336}, {\"y_rep\": 54.639329767405485}, {\"y_rep\": 35.79165565778545}, {\"y_rep\": 49.662600667556625}, {\"y_rep\": 56.005618995298676}, {\"y_rep\": 47.12072472112028}, {\"y_rep\": 61.94786918495572}, {\"y_rep\": 50.76640685993258}, {\"y_rep\": 35.57853433164652}, {\"y_rep\": 27.258836038082954}, {\"y_rep\": 48.55651255475913}, {\"y_rep\": 49.5427889919588}, {\"y_rep\": 57.567148763866975}, {\"y_rep\": 50.57397617763458}, {\"y_rep\": 38.34385962272058}, {\"y_rep\": 69.58042006337192}, {\"y_rep\": 54.297456977968345}, {\"y_rep\": 41.2355012858826}, {\"y_rep\": 56.38957884958786}, {\"y_rep\": 50.963589527612456}, {\"y_rep\": 47.44730539938024}, {\"y_rep\": 44.617169947732734}, {\"y_rep\": 56.56728748886745}, {\"y_rep\": 46.00877349712524}, {\"y_rep\": 60.30544964724754}, {\"y_rep\": 34.50100170146474}, {\"y_rep\": 62.37240378942701}, {\"y_rep\": 62.903080422758286}, {\"y_rep\": 42.96529200613663}, {\"y_rep\": 41.56935700924832}, {\"y_rep\": 54.46405642781783}, {\"y_rep\": 28.171904318754542}, {\"y_rep\": 54.286878130463755}, {\"y_rep\": 63.57548658043676}, {\"y_rep\": 54.83680910505305}, {\"y_rep\": 40.22427280737057}, {\"y_rep\": 58.834307032508235}, {\"y_rep\": 43.86903226468919}, {\"y_rep\": 37.81138482254477}, {\"y_rep\": 49.87519747934427}, {\"y_rep\": 42.22594222700657}, {\"y_rep\": 46.380996064724265}, {\"y_rep\": 46.58371196980206}, {\"y_rep\": 47.57262641210041}, {\"y_rep\": 56.15485761438177}, {\"y_rep\": 42.89611806097476}, {\"y_rep\": 51.55474990671354}, {\"y_rep\": 65.01822044309364}, {\"y_rep\": 55.37528335469655}, {\"y_rep\": 56.75110044547746}, {\"y_rep\": 62.33935139941272}, {\"y_rep\": 45.14149692052209}, {\"y_rep\": 62.33171955582089}, {\"y_rep\": 62.34689315136093}, {\"y_rep\": 53.77506671743822}, {\"y_rep\": 78.45115537323807}, {\"y_rep\": 49.52365356988647}, {\"y_rep\": 46.224412562748384}, {\"y_rep\": 48.46813427591418}, {\"y_rep\": 43.93556307651769}, {\"y_rep\": 52.93525320690394}, {\"y_rep\": 30.26033431369589}, {\"y_rep\": 31.74341878805787}, {\"y_rep\": 60.40020049523066}, {\"y_rep\": 39.652035336913954}, {\"y_rep\": 41.421564070396954}, {\"y_rep\": 59.88156140719268}, {\"y_rep\": 50.26175096828597}, {\"y_rep\": 67.81524445388914}, {\"y_rep\": 55.960169156750624}, {\"y_rep\": 55.49201602370496}, {\"y_rep\": 38.64953645961601}, {\"y_rep\": 35.668300690877885}, {\"y_rep\": 51.16805886605289}, {\"y_rep\": 58.96059914731142}, {\"y_rep\": 62.24329259130389}, {\"y_rep\": 54.56430483476976}, {\"y_rep\": 40.20580205389803}, {\"y_rep\": 49.38188444405818}, {\"y_rep\": 59.44509058401767}, {\"y_rep\": 39.47783504328254}, {\"y_rep\": 28.024728417529616}, {\"y_rep\": 49.5641495592975}, {\"y_rep\": 30.847249283633182}, {\"y_rep\": 52.242518859542535}, {\"y_rep\": 22.08225039706549}, {\"y_rep\": 39.82978540057582}, {\"y_rep\": 57.99600793817002}, {\"y_rep\": 51.5711535107591}, {\"y_rep\": 46.28469390216996}, {\"y_rep\": 41.96494808266443}, {\"y_rep\": 59.4543891264919}, {\"y_rep\": 61.50524489615595}, {\"y_rep\": 49.79849043791995}, {\"y_rep\": 51.528385533437245}, {\"y_rep\": 71.86766143241563}, {\"y_rep\": 42.68921578716893}, {\"y_rep\": 22.361508576723075}, {\"y_rep\": 53.98502669355003}, {\"y_rep\": 67.85157528575994}, {\"y_rep\": 45.677046209126296}, {\"y_rep\": 53.08089732390915}, {\"y_rep\": 63.354535147767535}, {\"y_rep\": 60.49596322978792}, {\"y_rep\": 59.25903877944708}, {\"y_rep\": 39.18335379862516}, {\"y_rep\": 68.87958995707268}, {\"y_rep\": 40.682388728062634}, {\"y_rep\": 30.91997338668635}, {\"y_rep\": 48.417642569838705}, {\"y_rep\": 52.035792788110214}, {\"y_rep\": 41.72672730479484}, {\"y_rep\": 47.51772996501358}, {\"y_rep\": 43.06139261280183}, {\"y_rep\": 50.208266203568606}, {\"y_rep\": 38.40151849867607}, {\"y_rep\": 40.3529788314215}, {\"y_rep\": 51.07717206923481}, {\"y_rep\": 31.08264117408306}, {\"y_rep\": 63.756711968187325}, {\"y_rep\": 39.56187998458015}, {\"y_rep\": 42.52404890705445}, {\"y_rep\": 45.10519670748757}, {\"y_rep\": 55.50106856733985}, {\"y_rep\": 48.21508747672502}, {\"y_rep\": 38.16983808492833}, {\"y_rep\": 54.88915712206635}, {\"y_rep\": 53.05573364131064}, {\"y_rep\": 53.72119761024434}, {\"y_rep\": 51.61691571474792}, {\"y_rep\": 54.46530950711701}, {\"y_rep\": 64.90533080009439}, {\"y_rep\": 64.72229104514939}, {\"y_rep\": 38.617506244742174}, {\"y_rep\": 56.40638566547433}, {\"y_rep\": 39.65836393868307}, {\"y_rep\": 55.82739636106911}, {\"y_rep\": 30.55233236536195}, {\"y_rep\": 44.48040956625099}, {\"y_rep\": 48.42206682909726}, {\"y_rep\": 62.727228632326806}, {\"y_rep\": 37.731844043343344}, {\"y_rep\": 51.48167936931057}, {\"y_rep\": 60.440384538024865}, {\"y_rep\": 53.00441608968869}, {\"y_rep\": 41.230173713399445}, {\"y_rep\": 46.01272977617439}, {\"y_rep\": 58.30316080004408}, {\"y_rep\": 43.39572937848899}, {\"y_rep\": 66.51359354892973}, {\"y_rep\": 55.52466831184927}, {\"y_rep\": 35.821837094884025}, {\"y_rep\": 45.65084401969641}, {\"y_rep\": 71.37043914581045}, {\"y_rep\": 54.788541030726094}, {\"y_rep\": 65.74877775788389}, {\"y_rep\": 49.173425633854144}, {\"y_rep\": 52.303700408044314}, {\"y_rep\": 43.82534901613812}, {\"y_rep\": 52.20266687964723}, {\"y_rep\": 54.65586459975454}, {\"y_rep\": 69.21694857632318}, {\"y_rep\": 53.57330276867606}, {\"y_rep\": 33.7021580034955}, {\"y_rep\": 52.523049023680116}, {\"y_rep\": 42.04994361840335}, {\"y_rep\": 47.68908348187164}, {\"y_rep\": 53.89101297981026}, {\"y_rep\": 50.227562669185694}, {\"y_rep\": 62.81217450517097}, {\"y_rep\": 51.811603386079625}, {\"y_rep\": 44.620551130561914}, {\"y_rep\": 52.209777253374185}, {\"y_rep\": 62.408387352459}, {\"y_rep\": 54.265259850281296}, {\"y_rep\": 63.72459154951457}, {\"y_rep\": 68.07027077009857}, {\"y_rep\": 49.671547644700894}, {\"y_rep\": 59.47756439979111}, {\"y_rep\": 45.20417481661884}, {\"y_rep\": 48.78059421588159}, {\"y_rep\": 51.91628172411144}, {\"y_rep\": 58.975986467094}, {\"y_rep\": 48.58158511404627}, {\"y_rep\": 38.74263688435338}, {\"y_rep\": 36.01529554721393}, {\"y_rep\": 54.55635386182912}, {\"y_rep\": 60.14362314530855}, {\"y_rep\": 35.307629957274564}, {\"y_rep\": -12.975421038333772}, {\"y_rep\": 39.71646724609607}, {\"y_rep\": 39.961451842663934}, {\"y_rep\": 52.3105823515162}, {\"y_rep\": 55.448595453120504}, {\"y_rep\": 39.02899368124622}, {\"y_rep\": 60.604946169596836}, {\"y_rep\": 44.13047046022301}, {\"y_rep\": 29.650838729984546}, {\"y_rep\": 39.045289458075146}, {\"y_rep\": 51.38512174428957}, {\"y_rep\": 63.675125466849124}, {\"y_rep\": 42.22877210250975}, {\"y_rep\": 43.58501434138944}, {\"y_rep\": 49.876198434976715}, {\"y_rep\": 58.440310855151615}, {\"y_rep\": 51.8024889469823}, {\"y_rep\": 52.43051216888043}, {\"y_rep\": 41.10259130664408}, {\"y_rep\": 0.997230127589825}, {\"y_rep\": 63.17766035434908}, {\"y_rep\": 54.07708252686098}, {\"y_rep\": 48.88688808945039}, {\"y_rep\": 49.04380232395136}, {\"y_rep\": 48.05452791593429}, {\"y_rep\": 55.0911811136076}, {\"y_rep\": 38.06295296607416}, {\"y_rep\": 25.117286461097017}, {\"y_rep\": 65.26274263197914}, {\"y_rep\": 35.72881147686529}, {\"y_rep\": 46.334012713047045}, {\"y_rep\": 53.43288176844129}, {\"y_rep\": 51.772839668622304}, {\"y_rep\": 59.39589479005768}, {\"y_rep\": 43.14789413297845}, {\"y_rep\": 43.76425086202661}, {\"y_rep\": 67.11054843949049}, {\"y_rep\": 64.82436482049661}, {\"y_rep\": 60.783496538314324}, {\"y_rep\": 53.98095468135834}, {\"y_rep\": 59.8777569029386}, {\"y_rep\": 53.60559126995123}, {\"y_rep\": 60.26899975657477}, {\"y_rep\": 48.23595912662848}, {\"y_rep\": 68.07151108600516}, {\"y_rep\": 31.955386802706993}, {\"y_rep\": 59.3337713256869}, {\"y_rep\": 51.07270172376998}, {\"y_rep\": 55.69213552865999}, {\"y_rep\": 58.428336307827976}, {\"y_rep\": 53.11637944159779}, {\"y_rep\": 44.88130253889034}, {\"y_rep\": 54.50173972589797}, {\"y_rep\": 51.17006865219221}, {\"y_rep\": 51.287932098854085}, {\"y_rep\": 42.908772112037155}, {\"y_rep\": 45.57903416512833}, {\"y_rep\": 38.655987047908695}, {\"y_rep\": 48.19148327002475}, {\"y_rep\": 43.1542013913011}, {\"y_rep\": 49.2729919558892}, {\"y_rep\": 57.16499326174397}, {\"y_rep\": 40.887174076078665}, {\"y_rep\": 35.552882104397526}, {\"y_rep\": 60.6345929357056}, {\"y_rep\": 47.99867837281861}, {\"y_rep\": 45.3582627106767}, {\"y_rep\": 50.97420715783379}, {\"y_rep\": 52.80606355793075}, {\"y_rep\": 70.6095986670794}, {\"y_rep\": 43.14684226490219}, {\"y_rep\": 51.4694394238544}, {\"y_rep\": 51.185421967894335}, {\"y_rep\": 35.05452191340849}, {\"y_rep\": 36.000500679744455}, {\"y_rep\": 46.95611496188374}, {\"y_rep\": 42.474221577342696}, {\"y_rep\": 28.20530750572381}, {\"y_rep\": 61.09507086550821}, {\"y_rep\": 35.45486294897714}, {\"y_rep\": 51.91832621959158}, {\"y_rep\": 36.42163799456451}, {\"y_rep\": 46.11842497314132}, {\"y_rep\": 39.74575643775469}, {\"y_rep\": 56.105396784999556}, {\"y_rep\": 52.130045039138594}, {\"y_rep\": 74.18900596251461}, {\"y_rep\": 45.1224907707636}, {\"y_rep\": 44.25515621137963}, {\"y_rep\": 50.149983828048576}, {\"y_rep\": 59.51624723685391}, {\"y_rep\": 65.3422761047726}, {\"y_rep\": 31.12849671336038}, {\"y_rep\": 58.60525309220061}, {\"y_rep\": 57.731892778661816}, {\"y_rep\": 59.96336785841811}, {\"y_rep\": 59.07447542820479}, {\"y_rep\": 38.59604378482252}, {\"y_rep\": 44.05385912835409}, {\"y_rep\": 43.25050298219638}, {\"y_rep\": 34.55495064965434}, {\"y_rep\": 43.187868230133674}, {\"y_rep\": 45.94012251879293}, {\"y_rep\": 47.21309626742814}, {\"y_rep\": 28.343581354004638}, {\"y_rep\": 73.6989180423262}, {\"y_rep\": 64.62895219185117}, {\"y_rep\": 52.49783606785263}, {\"y_rep\": 45.33180009801357}, {\"y_rep\": 52.58122575446657}, {\"y_rep\": 53.713285326954164}, {\"y_rep\": 46.932943126906515}, {\"y_rep\": 66.18538346472333}, {\"y_rep\": 48.23896410032035}, {\"y_rep\": 42.469371498645245}, {\"y_rep\": 50.53617152241532}, {\"y_rep\": 72.95237687883058}, {\"y_rep\": 58.66579780709822}, {\"y_rep\": 50.299435941047136}, {\"y_rep\": 53.54659860396961}, {\"y_rep\": 56.1168567310123}, {\"y_rep\": 59.930507111353286}, {\"y_rep\": 43.6461923434329}, {\"y_rep\": 33.114415885183}, {\"y_rep\": 57.409041213851246}, {\"y_rep\": 60.7185393104195}, {\"y_rep\": 67.64765294853316}, {\"y_rep\": 47.94446593613107}, {\"y_rep\": 49.74429281209521}, {\"y_rep\": 49.804477156724815}, {\"y_rep\": 38.337736739903505}, {\"y_rep\": 40.175677534445256}, {\"y_rep\": 22.324820869426656}, {\"y_rep\": 35.75821209629975}, {\"y_rep\": 40.83835379809403}, {\"y_rep\": 54.89951065196421}, {\"y_rep\": 43.860961182891025}, {\"y_rep\": 49.25460928111922}, {\"y_rep\": 50.75298372798781}, {\"y_rep\": 54.45057531919532}, {\"y_rep\": 46.31666923496077}, {\"y_rep\": 61.747625196522435}, {\"y_rep\": 29.02796839699123}, {\"y_rep\": 48.609676816430465}, {\"y_rep\": 46.89381605866731}, {\"y_rep\": 57.37057061805328}, {\"y_rep\": 43.96207762578846}, {\"y_rep\": 41.391631004869105}, {\"y_rep\": 59.26830808321353}, {\"y_rep\": 55.736419094590865}, {\"y_rep\": 57.59498835003164}, {\"y_rep\": 40.72814206278259}, {\"y_rep\": 68.73849463025084}, {\"y_rep\": 43.68372860006774}, {\"y_rep\": 59.05149137784297}, {\"y_rep\": 53.348443331795}, {\"y_rep\": 57.9522152613985}, {\"y_rep\": 40.839839796342844}, {\"y_rep\": 51.10157212977106}, {\"y_rep\": 47.090144401056534}, {\"y_rep\": 56.89636340342579}, {\"y_rep\": 51.25620004923107}, {\"y_rep\": 54.6804011996834}, {\"y_rep\": 51.27492556739012}, {\"y_rep\": 50.698148825188895}, {\"y_rep\": 51.03525545058549}, {\"y_rep\": 38.31993784307964}, {\"y_rep\": 53.21846225549096}, {\"y_rep\": 36.957721963778276}, {\"y_rep\": 45.14223693069744}, {\"y_rep\": 64.10212043392931}, {\"y_rep\": 57.850571286396764}, {\"y_rep\": 40.36699161250783}, {\"y_rep\": 54.296390520251734}, {\"y_rep\": 64.27098892817041}, {\"y_rep\": 51.07857786035434}, {\"y_rep\": 42.236167303713565}, {\"y_rep\": 19.30069069807022}, {\"y_rep\": 61.10659364146777}, {\"y_rep\": 60.35178448089673}, {\"y_rep\": 43.365829032183214}, {\"y_rep\": 47.65059546134324}, {\"y_rep\": 66.65852805607543}, {\"y_rep\": 53.28742722738916}, {\"y_rep\": 48.74636758974954}, {\"y_rep\": 45.69654727657884}, {\"y_rep\": 56.50699178280984}, {\"y_rep\": 36.29891621521133}, {\"y_rep\": 18.078924984385512}, {\"y_rep\": 47.536778126512516}, {\"y_rep\": 41.38502901145782}, {\"y_rep\": 32.19916985596223}, {\"y_rep\": 35.65601724860239}, {\"y_rep\": 53.57055325373476}, {\"y_rep\": 33.05649928113665}, {\"y_rep\": 51.53117139867771}, {\"y_rep\": 44.36244584948014}, {\"y_rep\": 51.46602232057826}, {\"y_rep\": 49.658147601047816}, {\"y_rep\": 50.63937341587592}, {\"y_rep\": 32.14961613692533}, {\"y_rep\": 37.91081099256184}, {\"y_rep\": 40.535792916298185}, {\"y_rep\": 55.49187096954331}, {\"y_rep\": 32.59739328818519}, {\"y_rep\": 30.10227531946533}, {\"y_rep\": 54.94152375246844}, {\"y_rep\": 51.116147841819654}, {\"y_rep\": 60.09964507607994}, {\"y_rep\": 72.17668634425308}, {\"y_rep\": 28.979205510494122}, {\"y_rep\": 55.423656521920364}, {\"y_rep\": 51.92780381963961}, {\"y_rep\": 73.63810740206503}, {\"y_rep\": 40.694102609835234}, {\"y_rep\": 49.78674367781582}, {\"y_rep\": 50.03924711698789}, {\"y_rep\": 47.96293493535871}, {\"y_rep\": 46.67065333579291}, {\"y_rep\": 67.33123874989441}, {\"y_rep\": 53.44279059122377}, {\"y_rep\": 52.44583745671207}, {\"y_rep\": 53.45505195690903}, {\"y_rep\": 34.6301456395522}, {\"y_rep\": 50.28654596968932}, {\"y_rep\": 65.99389645034657}, {\"y_rep\": 38.30917420527494}, {\"y_rep\": 52.41600131855675}, {\"y_rep\": 40.525889800731775}, {\"y_rep\": 56.52665703490054}, {\"y_rep\": 44.84692693054103}, {\"y_rep\": 44.012383489666796}, {\"y_rep\": 47.2280929380083}, {\"y_rep\": 50.837777411583204}, {\"y_rep\": 50.54919609826831}, {\"y_rep\": 52.63143401929046}, {\"y_rep\": 38.46765702435486}, {\"y_rep\": 56.81037003275739}, {\"y_rep\": 60.83186691740427}, {\"y_rep\": 57.789998812418595}, {\"y_rep\": 44.769962905880675}, {\"y_rep\": 46.8475744804387}, {\"y_rep\": 50.949527938772434}, {\"y_rep\": 61.313288241173304}, {\"y_rep\": 55.46022832038471}, {\"y_rep\": 68.99499763109137}, {\"y_rep\": 55.479283401957225}, {\"y_rep\": 47.31701277594659}, {\"y_rep\": 41.51126935125911}, {\"y_rep\": 49.92006296641613}, {\"y_rep\": 62.13748682828137}, {\"y_rep\": 47.1076801630101}, {\"y_rep\": 39.456707086482055}, {\"y_rep\": 55.411677053015005}, {\"y_rep\": 43.674485344375675}, {\"y_rep\": 43.70832165058473}, {\"y_rep\": 48.785109433438535}, {\"y_rep\": 36.85259170896645}, {\"y_rep\": 52.01301338844092}, {\"y_rep\": 46.68456074202616}, {\"y_rep\": 53.83603524619304}, {\"y_rep\": 30.192403816340885}, {\"y_rep\": 33.290927106065666}, {\"y_rep\": 50.94482201128265}, {\"y_rep\": 60.46796966081203}, {\"y_rep\": 58.47481389095779}, {\"y_rep\": 46.47638952709832}, {\"y_rep\": 50.2429326059134}, {\"y_rep\": 54.91399926442133}, {\"y_rep\": 39.42817940674162}, {\"y_rep\": 43.38512327692787}, {\"y_rep\": 44.8259253933488}, {\"y_rep\": 55.71885086699893}, {\"y_rep\": 45.53986924432916}, {\"y_rep\": 54.090489995909444}, {\"y_rep\": 35.415220866169136}, {\"y_rep\": 52.05492259559048}, {\"y_rep\": 63.264101946722036}, {\"y_rep\": 42.965982995553276}, {\"y_rep\": 31.35278652304233}, {\"y_rep\": 39.24403020908193}, {\"y_rep\": 33.49046143464552}, {\"y_rep\": 40.631779899052596}, {\"y_rep\": 39.109916179577596}, {\"y_rep\": 65.29439913048284}, {\"y_rep\": 58.810736181792706}, {\"y_rep\": 49.87353342460058}, {\"y_rep\": 40.53750874456401}, {\"y_rep\": 53.23719159790648}, {\"y_rep\": 55.9114282606778}, {\"y_rep\": 46.07923389504679}, {\"y_rep\": 61.717114978206006}, {\"y_rep\": 35.94798760616648}, {\"y_rep\": 44.76815622395058}, {\"y_rep\": 61.238230366225444}, {\"y_rep\": 65.14378220897429}, {\"y_rep\": 44.35434458607156}, {\"y_rep\": 62.48634096347391}, {\"y_rep\": 36.38722293160604}, {\"y_rep\": 28.873384864436275}, {\"y_rep\": 49.26573443222694}, {\"y_rep\": 54.775924511261636}, {\"y_rep\": 43.462536391069044}, {\"y_rep\": 43.8396883406835}, {\"y_rep\": 69.09827908319953}, {\"y_rep\": 59.35394543631409}, {\"y_rep\": 53.16656090020733}, {\"y_rep\": 64.88638724717781}, {\"y_rep\": 36.24852172263376}, {\"y_rep\": 53.34853951045567}, {\"y_rep\": 60.520255943073835}, {\"y_rep\": 42.052756655566704}, {\"y_rep\": 37.87751922366293}, {\"y_rep\": 36.05822009855244}, {\"y_rep\": 35.311201532434}, {\"y_rep\": 45.96956250274714}, {\"y_rep\": 20.01873497907704}, {\"y_rep\": 40.14445150110446}, {\"y_rep\": 49.89988032951946}, {\"y_rep\": 52.97565475462012}, {\"y_rep\": 45.31074969199588}, {\"y_rep\": 45.27112315207596}, {\"y_rep\": 56.89201609941568}, {\"y_rep\": 46.53345614947926}, {\"y_rep\": 59.979610732570904}, {\"y_rep\": 44.00270517428902}, {\"y_rep\": 44.74410555003904}, {\"y_rep\": 67.19517664119348}, {\"y_rep\": 46.679678032469184}, {\"y_rep\": 71.11759240109635}, {\"y_rep\": 46.688793717879165}, {\"y_rep\": 18.83657123629423}, {\"y_rep\": 42.32557548692228}, {\"y_rep\": 48.776797442935056}, {\"y_rep\": 55.91543882157592}, {\"y_rep\": 51.63380434390908}, {\"y_rep\": 32.2010901179799}, {\"y_rep\": 59.98137461616575}, {\"y_rep\": 38.91613738845203}, {\"y_rep\": 67.95525677858629}, {\"y_rep\": 47.481536386876066}, {\"y_rep\": 47.980166308427606}, {\"y_rep\": 41.20074079846701}, {\"y_rep\": 60.80324163696591}, {\"y_rep\": 31.466991108358393}, {\"y_rep\": 45.5397440778227}, {\"y_rep\": 51.027567957102576}, {\"y_rep\": 60.47374597748434}, {\"y_rep\": 21.08533475024494}, {\"y_rep\": 56.6275062734378}, {\"y_rep\": 47.8270262453541}, {\"y_rep\": 41.416240492484285}, {\"y_rep\": 56.41147723061179}, {\"y_rep\": 38.222626841611444}, {\"y_rep\": 44.10218245002761}, {\"y_rep\": 34.12186550828541}, {\"y_rep\": 59.676484377613704}, {\"y_rep\": 54.34653403992729}, {\"y_rep\": 1.435721250207172}, {\"y_rep\": 46.4174576074473}, {\"y_rep\": 64.4734662292208}, {\"y_rep\": 63.8049901800793}, {\"y_rep\": 69.67387808412774}, {\"y_rep\": 55.013497896699455}, {\"y_rep\": 58.37693565745334}, {\"y_rep\": 50.124889201676964}, {\"y_rep\": 64.75127552659761}, {\"y_rep\": 42.816398955790085}, {\"y_rep\": 54.426239882375356}, {\"y_rep\": 66.73884938876789}, {\"y_rep\": 58.50786219741861}, {\"y_rep\": 36.61231819041659}, {\"y_rep\": 53.59170807027332}, {\"y_rep\": 56.728020170969955}, {\"y_rep\": 61.22120602435897}, {\"y_rep\": 58.1001325931516}, {\"y_rep\": 49.875586056525364}, {\"y_rep\": 33.16946295511878}, {\"y_rep\": 59.736264907879814}, {\"y_rep\": 42.80318630838492}, {\"y_rep\": 44.10658562394826}, {\"y_rep\": 45.48971129841881}, {\"y_rep\": 44.861902261490606}, {\"y_rep\": 50.101968893275746}, {\"y_rep\": 57.809425770959216}, {\"y_rep\": 58.04240183788022}, {\"y_rep\": 31.191190174913462}, {\"y_rep\": 43.52795264098754}, {\"y_rep\": 61.78474653792455}, {\"y_rep\": 37.232553863653216}, {\"y_rep\": 41.78248400045767}, {\"y_rep\": 48.66827408914436}, {\"y_rep\": 58.335411255307534}, {\"y_rep\": 49.256120469836276}, {\"y_rep\": 53.786099665836375}, {\"y_rep\": 61.77152607191889}, {\"y_rep\": 60.515904531240444}, {\"y_rep\": 43.02697935001686}, {\"y_rep\": 34.04715288542633}, {\"y_rep\": 42.780120019626466}, {\"y_rep\": 44.14628788214309}, {\"y_rep\": 59.53777138094187}, {\"y_rep\": 60.90288838483657}, {\"y_rep\": 44.00531425181955}, {\"y_rep\": 42.366535459587716}, {\"y_rep\": 63.104506516732066}, {\"y_rep\": 38.61233710537012}, {\"y_rep\": 58.80222684097017}, {\"y_rep\": 22.78745023811506}, {\"y_rep\": 46.64594240328011}, {\"y_rep\": 21.563502622647285}, {\"y_rep\": 65.75834950194776}, {\"y_rep\": 52.430993465787395}, {\"y_rep\": 53.065716895990306}, {\"y_rep\": 57.292783397222365}, {\"y_rep\": 54.582758470192005}, {\"y_rep\": 44.715249019270026}, {\"y_rep\": -10.19348623842926}, {\"y_rep\": 48.763175147161775}, {\"y_rep\": 37.91403737074446}, {\"y_rep\": 48.592899201936895}, {\"y_rep\": 59.11128139065622}, {\"y_rep\": 53.55406349366351}, {\"y_rep\": 63.63510291379543}, {\"y_rep\": 43.88553850191326}, {\"y_rep\": 35.70740342397486}, {\"y_rep\": 40.71572227820505}, {\"y_rep\": 56.39753153488408}, {\"y_rep\": 49.11250875845678}, {\"y_rep\": 51.67346284435902}, {\"y_rep\": 52.96899145166563}, {\"y_rep\": 52.291126737919285}, {\"y_rep\": 46.84958388738798}, {\"y_rep\": 60.82346295127739}, {\"y_rep\": 35.79923432879025}, {\"y_rep\": 50.019537322759604}, {\"y_rep\": 54.46145783513956}, {\"y_rep\": 52.73179863358885}, {\"y_rep\": 63.79986772140323}, {\"y_rep\": 49.467927727619305}, {\"y_rep\": 30.25003181437954}, {\"y_rep\": 50.798584983011196}, {\"y_rep\": 47.601177588435206}, {\"y_rep\": 54.820656142441415}, {\"y_rep\": 59.91056837927225}, {\"y_rep\": 45.276365855209825}, {\"y_rep\": 53.45667222633883}, {\"y_rep\": 35.2987611649674}, {\"y_rep\": 68.892810975835}, {\"y_rep\": 70.33853478973276}, {\"y_rep\": 65.2710065614974}, {\"y_rep\": 44.23708048797301}, {\"y_rep\": 61.44409363675992}, {\"y_rep\": 33.09206218279505}, {\"y_rep\": 43.15286617195356}, {\"y_rep\": 22.374084328925452}, {\"y_rep\": 29.92434438073513}, {\"y_rep\": 28.239284465544156}, {\"y_rep\": 22.220253808052142}, {\"y_rep\": 59.26065438240099}, {\"y_rep\": 59.395359113754196}, {\"y_rep\": 42.40497943292883}, {\"y_rep\": 51.024436940942294}, {\"y_rep\": 54.668199667845386}, {\"y_rep\": 45.51172195498389}, {\"y_rep\": 58.389032082595975}, {\"y_rep\": 35.215399918690466}, {\"y_rep\": 49.64570314928341}, {\"y_rep\": 47.735016167220074}, {\"y_rep\": 17.16499005509928}, {\"y_rep\": 50.864307997872835}, {\"y_rep\": 56.90534298332671}, {\"y_rep\": 34.63057066086006}, {\"y_rep\": 30.976893097277816}, {\"y_rep\": 60.92479711710539}, {\"y_rep\": 39.34274608279045}, {\"y_rep\": 65.49999903188824}, {\"y_rep\": 50.86733279350128}, {\"y_rep\": 41.84607768324824}, {\"y_rep\": 58.77007057879581}, {\"y_rep\": 41.58468286043263}, {\"y_rep\": 45.7238959480228}, {\"y_rep\": 48.356172950852645}, {\"y_rep\": 22.62344003608926}, {\"y_rep\": 53.599946581321824}, {\"y_rep\": 59.06684805075388}, {\"y_rep\": 37.89799985473528}, {\"y_rep\": 58.52575321942126}, {\"y_rep\": 48.568358181370726}, {\"y_rep\": 44.08669124652747}, {\"y_rep\": 48.48352634738798}, {\"y_rep\": 48.63549013285376}, {\"y_rep\": 48.91114667244252}, {\"y_rep\": 39.44509730779578}, {\"y_rep\": 57.018148575090805}, {\"y_rep\": 61.75223629549251}, {\"y_rep\": 50.16530740722655}, {\"y_rep\": 55.29852320500243}, {\"y_rep\": 51.903447425628826}, {\"y_rep\": 35.85960180421894}, {\"y_rep\": 56.60979549998551}, {\"y_rep\": 50.538975529707905}, {\"y_rep\": 62.69588129575946}, {\"y_rep\": 45.240770523721906}, {\"y_rep\": 52.75795066680718}, {\"y_rep\": 38.39114584527082}, {\"y_rep\": 53.21492613928056}, {\"y_rep\": 55.6465752243181}, {\"y_rep\": 52.438468858173835}, {\"y_rep\": 45.5557379929939}, {\"y_rep\": 43.54400536395329}, {\"y_rep\": 45.09635621578818}, {\"y_rep\": 61.40863493747847}, {\"y_rep\": 38.18896850610171}, {\"y_rep\": 73.39016232726732}, {\"y_rep\": 48.00638760152939}, {\"y_rep\": 51.53924246935352}, {\"y_rep\": 59.536032761032395}, {\"y_rep\": 40.11122267001015}, {\"y_rep\": 44.40231051668007}, {\"y_rep\": 76.44274648775153}, {\"y_rep\": 57.65061326120959}, {\"y_rep\": 59.78661983298767}, {\"y_rep\": 29.730637104435182}, {\"y_rep\": 43.960556158801445}, {\"y_rep\": 66.53088010594675}, {\"y_rep\": 33.354144754104254}, {\"y_rep\": 51.04209541925603}, {\"y_rep\": 33.02718436939703}, {\"y_rep\": 48.92639671893593}, {\"y_rep\": 50.1558177949576}, {\"y_rep\": 52.24430287965595}, {\"y_rep\": 47.52452122413225}, {\"y_rep\": 44.75630474827175}, {\"y_rep\": 35.610765084632426}, {\"y_rep\": 44.56010899893068}, {\"y_rep\": 41.879850670635925}, {\"y_rep\": 55.4359597786794}, {\"y_rep\": 47.76701849347958}, {\"y_rep\": 53.02963608097353}, {\"y_rep\": 62.09225565912043}, {\"y_rep\": 61.201738777647776}, {\"y_rep\": 67.64115655054457}, {\"y_rep\": 62.54024198256997}, {\"y_rep\": 59.55129509892665}, {\"y_rep\": 45.92504330242317}, {\"y_rep\": 50.19171535178908}, {\"y_rep\": 44.716955482029235}, {\"y_rep\": 49.35270609976669}, {\"y_rep\": 50.16082922042544}, {\"y_rep\": 43.22730006798094}, {\"y_rep\": 49.56660975149363}, {\"y_rep\": 59.89831463388136}, {\"y_rep\": 57.60439296699873}, {\"y_rep\": 36.47995264367876}, {\"y_rep\": 50.41654082393621}, {\"y_rep\": 51.765638487867655}, {\"y_rep\": 58.780833929380016}, {\"y_rep\": 46.50981395888376}, {\"y_rep\": 50.24361048349516}, {\"y_rep\": 36.96423002578221}, {\"y_rep\": 48.05109824006782}, {\"y_rep\": 36.78210277695415}, {\"y_rep\": 49.00867257263796}, {\"y_rep\": 51.594712378770375}, {\"y_rep\": 45.77032164724032}, {\"y_rep\": 61.77054795681123}, {\"y_rep\": 48.97583390899058}, {\"y_rep\": 44.65941566243178}, {\"y_rep\": 59.96079177799515}, {\"y_rep\": 50.69746021602432}, {\"y_rep\": 64.60322957450245}, {\"y_rep\": 35.294976040850756}, {\"y_rep\": 52.29813592760216}, {\"y_rep\": 68.8702738030388}, {\"y_rep\": 53.739459603758924}, {\"y_rep\": 34.456261266895055}, {\"y_rep\": 45.74583137796247}, {\"y_rep\": 47.44119160549017}, {\"y_rep\": 39.30959832396223}, {\"y_rep\": 36.16010773802155}, {\"y_rep\": 57.905162578367005}, {\"y_rep\": 49.31617557410654}, {\"y_rep\": 74.70708844904938}, {\"y_rep\": 51.135179239724295}, {\"y_rep\": 44.65595424031887}, {\"y_rep\": 59.89151588074997}, {\"y_rep\": 56.378328639262456}, {\"y_rep\": 47.13517891125768}, {\"y_rep\": 27.929911241584616}, {\"y_rep\": 47.63883696664883}, {\"y_rep\": 53.35233851406097}, {\"y_rep\": 28.717664472024556}, {\"y_rep\": 39.00982534410099}, {\"y_rep\": 37.71035600636965}, {\"y_rep\": 48.802322199884735}, {\"y_rep\": 47.48200120345587}, {\"y_rep\": 66.65712158218841}, {\"y_rep\": 51.27768205108524}, {\"y_rep\": 34.979940596877164}, {\"y_rep\": 59.803599185854495}, {\"y_rep\": 46.626114892171685}, {\"y_rep\": 48.14513836898168}, {\"y_rep\": 45.02559503576115}, {\"y_rep\": 68.59581016890598}, {\"y_rep\": 54.80225936895636}, {\"y_rep\": 54.16631515516631}, {\"y_rep\": 48.76560036036285}, {\"y_rep\": 45.83414220552316}, {\"y_rep\": 52.566937655875854}, {\"y_rep\": 59.477568906659855}, {\"y_rep\": 51.3380025932725}, {\"y_rep\": 43.1639793099317}, {\"y_rep\": 56.42816266182778}, {\"y_rep\": 41.8230271836677}, {\"y_rep\": 50.18794627059225}, {\"y_rep\": 48.418039154146896}, {\"y_rep\": 50.31253708293005}, {\"y_rep\": 42.362407814532396}, {\"y_rep\": 35.75902103020036}, {\"y_rep\": 47.86640480988363}, {\"y_rep\": 56.880636076029106}, {\"y_rep\": 45.00726280085075}, {\"y_rep\": 40.42488423535287}, {\"y_rep\": 55.49688540938757}, {\"y_rep\": 54.15477998274638}, {\"y_rep\": 44.58070069500937}, {\"y_rep\": 68.22473177007812}, {\"y_rep\": 26.24806700677984}, {\"y_rep\": 56.17851997929728}, {\"y_rep\": 37.73420044276815}, {\"y_rep\": 35.73621449427103}, {\"y_rep\": 58.33603367421515}, {\"y_rep\": 52.07298348447791}, {\"y_rep\": 52.583405474805865}, {\"y_rep\": 60.11846868736529}, {\"y_rep\": 41.561741808923685}, {\"y_rep\": 48.367036132735905}, {\"y_rep\": 53.40681141879492}, {\"y_rep\": 44.666338495554214}, {\"y_rep\": 47.95359465951503}, {\"y_rep\": 48.44755124875328}, {\"y_rep\": 46.4204387499691}, {\"y_rep\": 68.81021324334614}, {\"y_rep\": 51.57478522421444}, {\"y_rep\": 64.02073043244624}, {\"y_rep\": 38.87606256602067}, {\"y_rep\": 49.97053883330122}, {\"y_rep\": 58.04413963300796}, {\"y_rep\": 51.92722073047541}, {\"y_rep\": 36.4267033221318}, {\"y_rep\": 54.71295602982096}, {\"y_rep\": 28.85313567790808}, {\"y_rep\": 39.65346577667175}, {\"y_rep\": 65.49416202194286}, {\"y_rep\": 59.574323384262854}, {\"y_rep\": 44.15147815517539}, {\"y_rep\": 57.45969652199937}, {\"y_rep\": 42.573221422929166}, {\"y_rep\": 40.80756441917036}, {\"y_rep\": 53.22797727150203}, {\"y_rep\": 54.69980298243007}, {\"y_rep\": 52.46313985009689}, {\"y_rep\": 52.439373390901046}, {\"y_rep\": 46.686450840817585}, {\"y_rep\": 66.09432536398192}, {\"y_rep\": 62.3756885240038}, {\"y_rep\": 52.71094338118076}, {\"y_rep\": 54.262487223119265}, {\"y_rep\": 67.85410774950203}, {\"y_rep\": 53.085119092249975}, {\"y_rep\": 42.49171200996632}, {\"y_rep\": 67.66570529840479}, {\"y_rep\": 41.29105948474064}, {\"y_rep\": 67.10302844374374}, {\"y_rep\": 39.72370606269452}, {\"y_rep\": 42.50754527366032}, {\"y_rep\": 46.89862307386639}, {\"y_rep\": 38.154694975348775}, {\"y_rep\": 64.36103876367761}, {\"y_rep\": 55.04101223050318}, {\"y_rep\": 37.07395652303144}, {\"y_rep\": 40.46437720208284}, {\"y_rep\": 68.53938651501645}, {\"y_rep\": 10.525032400836038}, {\"y_rep\": 63.801798166314995}, {\"y_rep\": 54.89935409987175}, {\"y_rep\": 46.71111335975663}, {\"y_rep\": 59.85635934294096}, {\"y_rep\": 49.67311061762633}, {\"y_rep\": 50.34372148051847}, {\"y_rep\": 50.22832784632392}, {\"y_rep\": 42.09122650312543}, {\"y_rep\": 31.421959475065574}, {\"y_rep\": 61.37661819327559}, {\"y_rep\": 52.276144600755984}, {\"y_rep\": 43.008977960822584}, {\"y_rep\": 32.80661108195544}, {\"y_rep\": 52.39692445890362}, {\"y_rep\": 47.24832231640648}, {\"y_rep\": 64.85438495007809}, {\"y_rep\": 49.17653834307233}, {\"y_rep\": 37.88232820011122}, {\"y_rep\": 22.888619420703105}, {\"y_rep\": 37.86833487828386}, {\"y_rep\": 53.40530824486807}, {\"y_rep\": 53.845155927833915}, {\"y_rep\": 66.53558030822285}, {\"y_rep\": 36.46870910066612}, {\"y_rep\": 51.97059181387065}, {\"y_rep\": 40.504535966930874}, {\"y_rep\": 53.89370025197979}, {\"y_rep\": 37.64155851987494}, {\"y_rep\": 49.83422081779444}, {\"y_rep\": 42.93315197906273}, {\"y_rep\": 64.56429932587861}, {\"y_rep\": 25.483733538109963}, {\"y_rep\": 53.686932252905265}, {\"y_rep\": 49.69923415671467}, {\"y_rep\": 37.32119580848227}, {\"y_rep\": 63.97596709973647}, {\"y_rep\": 45.37117564704105}, {\"y_rep\": 44.89380773334519}, {\"y_rep\": 43.319352668418155}, {\"y_rep\": 33.234122043970736}, {\"y_rep\": 41.38508583505992}, {\"y_rep\": 51.12437022683934}, {\"y_rep\": 55.22108913416516}, {\"y_rep\": 41.6648205832259}, {\"y_rep\": 33.99929043850956}, {\"y_rep\": 55.770957221461295}, {\"y_rep\": 59.892554314377854}, {\"y_rep\": 40.88549309527191}, {\"y_rep\": 41.2287699734765}, {\"y_rep\": 63.66140883883523}, {\"y_rep\": 55.63995876006759}, {\"y_rep\": 47.910901077020256}, {\"y_rep\": 58.331876305735335}, {\"y_rep\": 37.308521917988465}, {\"y_rep\": 67.04710376403536}, {\"y_rep\": 47.74622850304635}, {\"y_rep\": 48.71402600332028}, {\"y_rep\": 52.14893391053613}, {\"y_rep\": 37.96386624305316}, {\"y_rep\": 52.63985961843251}, {\"y_rep\": 63.45764006550583}, {\"y_rep\": 36.763262732674676}, {\"y_rep\": 36.629416553184655}, {\"y_rep\": 42.85027131899998}, {\"y_rep\": 49.83547111907389}, {\"y_rep\": 39.0726350618241}, {\"y_rep\": 62.87036671335454}, {\"y_rep\": 64.65261128023548}, {\"y_rep\": 45.626061037034845}, {\"y_rep\": 44.041572364748234}, {\"y_rep\": 42.98384764046006}, {\"y_rep\": 36.16192260649148}, {\"y_rep\": 49.3278327627885}, {\"y_rep\": 53.951403628167114}, {\"y_rep\": 7.327209718402452}, {\"y_rep\": 65.965688487841}, {\"y_rep\": 37.922017516489106}, {\"y_rep\": 59.12828121701023}, {\"y_rep\": 57.70518934119245}, {\"y_rep\": 51.31461753891219}, {\"y_rep\": 54.384567257915876}, {\"y_rep\": 45.60504992698438}, {\"y_rep\": 56.69645988129893}, {\"y_rep\": 48.73529892793639}, {\"y_rep\": 33.28915485472909}, {\"y_rep\": 38.33303933227175}, {\"y_rep\": 57.39426173165402}, {\"y_rep\": 34.76676480922928}, {\"y_rep\": 42.492454535640874}, {\"y_rep\": 43.41385367071827}, {\"y_rep\": 58.1093648242268}, {\"y_rep\": 40.784232939025514}, {\"y_rep\": 40.96054237516858}, {\"y_rep\": 40.50456191575418}, {\"y_rep\": 62.72075877006157}, {\"y_rep\": 58.86768635005187}, {\"y_rep\": 56.854389829346026}, {\"y_rep\": 45.41738226251572}, {\"y_rep\": 54.84586759949086}, {\"y_rep\": -26.075509933795907}, {\"y_rep\": 60.382151408378405}, {\"y_rep\": 51.4541801927169}, {\"y_rep\": 40.13432836538226}, {\"y_rep\": 66.96707058153655}, {\"y_rep\": 38.937048119283006}, {\"y_rep\": 66.04041886300006}, {\"y_rep\": 52.25634267919998}, {\"y_rep\": 49.58958897735048}, {\"y_rep\": 56.791760135261015}, {\"y_rep\": 51.31527391838117}, {\"y_rep\": 44.453044195600484}, {\"y_rep\": 38.34218571338731}, {\"y_rep\": 36.487787739630114}, {\"y_rep\": 48.3918737276772}, {\"y_rep\": 58.38163950341161}, {\"y_rep\": 47.31027335332415}, {\"y_rep\": 38.66126618008438}, {\"y_rep\": 56.872009067720036}, {\"y_rep\": 41.25638958563067}, {\"y_rep\": 41.21741301755456}, {\"y_rep\": 50.7001002962005}, {\"y_rep\": 47.36118162706322}, {\"y_rep\": 63.54491419206718}, {\"y_rep\": 26.479885951079183}, {\"y_rep\": 44.85326817703352}, {\"y_rep\": 43.06821239991317}, {\"y_rep\": 45.28121299263957}, {\"y_rep\": 41.85430108475544}, {\"y_rep\": 56.160921865025315}, {\"y_rep\": 48.63541034259021}, {\"y_rep\": 62.07429521174582}, {\"y_rep\": 57.7620326813536}, {\"y_rep\": 46.85309431448429}, {\"y_rep\": 64.29607475075937}, {\"y_rep\": 44.2608578668364}, {\"y_rep\": 45.48266498147435}, {\"y_rep\": 43.227355234056105}, {\"y_rep\": 76.53879459999499}, {\"y_rep\": 48.95946787205813}, {\"y_rep\": 46.983692149639964}, {\"y_rep\": 44.257901535560464}, {\"y_rep\": 68.90534825488461}, {\"y_rep\": 48.76013706276534}, {\"y_rep\": 58.00205738230646}, {\"y_rep\": 51.13558272104995}, {\"y_rep\": 34.315735801869224}, {\"y_rep\": 49.64266499719381}, {\"y_rep\": 58.71564622831438}, {\"y_rep\": 56.19541400173581}, {\"y_rep\": -16.386464556370687}, {\"y_rep\": 30.930302166196746}, {\"y_rep\": 53.717799529655395}, {\"y_rep\": 50.50584398111568}, {\"y_rep\": 51.89853264321676}, {\"y_rep\": 63.407092774403885}, {\"y_rep\": 53.3867364536366}, {\"y_rep\": 40.230036705336815}, {\"y_rep\": 30.203650047870145}, {\"y_rep\": 65.88450556912908}, {\"y_rep\": 61.630395884027145}, {\"y_rep\": 59.516220462686356}, {\"y_rep\": 43.90880064559309}, {\"y_rep\": 56.34003267544768}, {\"y_rep\": 56.1510719162901}, {\"y_rep\": 60.93720619008793}, {\"y_rep\": 43.28958673322617}, {\"y_rep\": 55.918946555988924}, {\"y_rep\": 36.30896306525526}, {\"y_rep\": 54.41052199878567}, {\"y_rep\": 39.28653642176453}, {\"y_rep\": 48.66116320519517}, {\"y_rep\": 41.858833975656204}, {\"y_rep\": 40.12016113819648}, {\"y_rep\": 65.93807622496354}, {\"y_rep\": 25.40185222239856}, {\"y_rep\": 45.794390965188846}, {\"y_rep\": 43.18067543505167}, {\"y_rep\": 36.84946392509133}, {\"y_rep\": 41.740536821321584}, {\"y_rep\": 61.19462736016238}, {\"y_rep\": 46.68680783828126}, {\"y_rep\": 62.273949553088016}, {\"y_rep\": 48.40337897478587}, {\"y_rep\": 48.74678383314969}, {\"y_rep\": 35.300503435392855}, {\"y_rep\": 55.003930916104835}, {\"y_rep\": 38.45043453752949}, {\"y_rep\": 65.54355143251797}, {\"y_rep\": 63.42505058946396}, {\"y_rep\": 38.79466563514306}, {\"y_rep\": 46.51040712234598}, {\"y_rep\": 58.44760831033868}, {\"y_rep\": 53.07853541661581}, {\"y_rep\": 35.35739507979221}, {\"y_rep\": -5.237080004164277}, {\"y_rep\": 61.975072122146706}, {\"y_rep\": 63.17132417138272}, {\"y_rep\": 55.47304683271083}, {\"y_rep\": 56.31297175129629}, {\"y_rep\": 56.399027630255326}, {\"y_rep\": 61.70942354605154}, {\"y_rep\": 61.815521433322715}, {\"y_rep\": 48.28101773440456}, {\"y_rep\": 56.86226649822863}, {\"y_rep\": 55.79767198596385}, {\"y_rep\": 40.11576392757377}, {\"y_rep\": 50.571916614558084}, {\"y_rep\": 54.421494241863996}, {\"y_rep\": 53.1867170155296}, {\"y_rep\": 49.47224403301047}, {\"y_rep\": 52.63082804369265}, {\"y_rep\": 53.61955026491845}, {\"y_rep\": 41.99053025949774}, {\"y_rep\": 52.69839848492586}, {\"y_rep\": 52.70556483309358}, {\"y_rep\": 40.819440078467395}, {\"y_rep\": 61.628246197503046}, {\"y_rep\": 71.89043972296194}, {\"y_rep\": 56.41301817466401}, {\"y_rep\": 53.523663512895816}, {\"y_rep\": 38.8586722504526}, {\"y_rep\": 51.12116635722724}, {\"y_rep\": 52.47197954197629}, {\"y_rep\": 49.69892799343122}, {\"y_rep\": 44.305157494060985}, {\"y_rep\": 35.79828807368045}, {\"y_rep\": 51.59449026380051}, {\"y_rep\": 57.04360925315138}, {\"y_rep\": 48.79097579613988}, {\"y_rep\": 39.41982193103634}, {\"y_rep\": 69.58211286896459}, {\"y_rep\": 55.15196576237537}, {\"y_rep\": 61.16854582783728}, {\"y_rep\": 37.91354618422513}, {\"y_rep\": 36.45052011642798}, {\"y_rep\": 53.11830698346711}, {\"y_rep\": 61.39616136248758}, {\"y_rep\": 58.57053280650887}, {\"y_rep\": 65.2864340420216}, {\"y_rep\": 48.068803763102125}, {\"y_rep\": 40.63429736431393}, {\"y_rep\": 48.57386995778512}, {\"y_rep\": 57.07094493604228}, {\"y_rep\": 43.3860816355435}, {\"y_rep\": 56.7384306196342}, {\"y_rep\": 46.616245206197476}, {\"y_rep\": 57.132711420769624}, {\"y_rep\": 43.43146499576182}, {\"y_rep\": 56.88098369418525}, {\"y_rep\": 54.96573056471805}, {\"y_rep\": 51.56376591445992}, {\"y_rep\": 35.74405039161921}, {\"y_rep\": 46.26496851498048}, {\"y_rep\": 42.8118441144039}, {\"y_rep\": 63.47452137258609}, {\"y_rep\": 49.861596046421674}, {\"y_rep\": 42.81926259243215}, {\"y_rep\": 41.479683890144315}, {\"y_rep\": 48.162628186604415}, {\"y_rep\": 42.163098237803005}, {\"y_rep\": 68.2582075561074}, {\"y_rep\": 50.6314974392678}, {\"y_rep\": 47.3607954038053}, {\"y_rep\": 37.61950115890794}, {\"y_rep\": 49.449886863342}, {\"y_rep\": 49.25807695641433}, {\"y_rep\": 46.43653203829472}, {\"y_rep\": 56.394944381016685}, {\"y_rep\": 53.73928791542339}, {\"y_rep\": 34.724821369649874}, {\"y_rep\": 60.26062521737518}, {\"y_rep\": 63.278025404572475}, {\"y_rep\": 51.739623238850776}, {\"y_rep\": 42.23491751445403}, {\"y_rep\": 43.565437721810284}, {\"y_rep\": 53.031949980670674}, {\"y_rep\": 32.10225672542359}, {\"y_rep\": 51.5346156847047}, {\"y_rep\": 55.72999715609166}, {\"y_rep\": 62.16674853602533}, {\"y_rep\": 56.84654457817409}, {\"y_rep\": 62.800961525821975}, {\"y_rep\": 41.36758461390746}, {\"y_rep\": 53.71430367465527}, {\"y_rep\": 51.55373135647119}, {\"y_rep\": 53.35480304884266}, {\"y_rep\": 42.29205841948739}, {\"y_rep\": 48.03504002093437}, {\"y_rep\": 35.71382067439645}, {\"y_rep\": 53.80401696343356}, {\"y_rep\": 43.36234533720362}, {\"y_rep\": 45.81154621632673}, {\"y_rep\": 51.97843625879665}, {\"y_rep\": 40.42121849190251}, {\"y_rep\": 47.24972376650783}, {\"y_rep\": 42.53508946419247}, {\"y_rep\": 41.408656868648784}, {\"y_rep\": 50.99160269650533}, {\"y_rep\": 53.5847410895327}, {\"y_rep\": 30.828504544488784}, {\"y_rep\": 54.46140774240454}, {\"y_rep\": 49.21524769525362}, {\"y_rep\": 34.57744353448933}, {\"y_rep\": 47.48807056174737}, {\"y_rep\": 48.507290976560164}, {\"y_rep\": 68.63691989623894}, {\"y_rep\": 44.244671346069566}, {\"y_rep\": 68.89607240557882}, {\"y_rep\": 53.2497616975085}, {\"y_rep\": 48.05232323077718}, {\"y_rep\": 36.4157160057748}, {\"y_rep\": 58.764771890023965}, {\"y_rep\": 25.662252749335437}, {\"y_rep\": 41.42604024379597}, {\"y_rep\": 51.858858338201465}, {\"y_rep\": 52.89909442698524}, {\"y_rep\": 37.27260691061001}, {\"y_rep\": 48.61525793019963}, {\"y_rep\": 60.63295109197856}, {\"y_rep\": 56.573483046214925}, {\"y_rep\": 48.47161327439247}, {\"y_rep\": 50.677535543556466}, {\"y_rep\": 42.86137964538923}, {\"y_rep\": 49.22812209997951}, {\"y_rep\": 45.981324639785385}, {\"y_rep\": 36.459791190593734}, {\"y_rep\": 36.96779645767373}, {\"y_rep\": 53.30590317937466}, {\"y_rep\": 58.46538759889633}, {\"y_rep\": 62.724523724731434}, {\"y_rep\": 39.7229010469362}, {\"y_rep\": 57.47534251078301}, {\"y_rep\": 61.47628964140027}, {\"y_rep\": 54.533840867903756}, {\"y_rep\": 22.077410744559963}, {\"y_rep\": 43.12253377136612}, {\"y_rep\": 34.577483811000725}, {\"y_rep\": 46.71406094524089}, {\"y_rep\": 19.536836493752464}, {\"y_rep\": 50.393202821332196}, {\"y_rep\": 48.42312418637357}, {\"y_rep\": 50.45225241651493}, {\"y_rep\": 51.630573112684246}, {\"y_rep\": 46.83639719094892}, {\"y_rep\": 54.933059835397074}, {\"y_rep\": 55.33077649352267}, {\"y_rep\": 40.10255215413447}, {\"y_rep\": 46.093362481679534}, {\"y_rep\": 61.668960742966405}, {\"y_rep\": 42.028378392383416}, {\"y_rep\": 32.07412371151453}, {\"y_rep\": 38.01155820065534}, {\"y_rep\": 48.65727262926484}, {\"y_rep\": 40.11752232072121}, {\"y_rep\": 40.80491608823925}, {\"y_rep\": 42.82920758118856}, {\"y_rep\": 55.67673434178558}, {\"y_rep\": 53.77546095340937}, {\"y_rep\": 49.16908710164278}, {\"y_rep\": 47.04387022913496}, {\"y_rep\": 48.78362736477399}, {\"y_rep\": 59.86791344314857}, {\"y_rep\": 35.52812806521922}, {\"y_rep\": 36.061745101298456}, {\"y_rep\": 41.56037575327541}, {\"y_rep\": 58.88422058765417}, {\"y_rep\": 47.01689691404772}, {\"y_rep\": 51.368495029144306}, {\"y_rep\": 37.63541698203221}, {\"y_rep\": 59.50173621735519}, {\"y_rep\": 53.95620169902463}, {\"y_rep\": 45.75800857993382}, {\"y_rep\": 52.703647939230024}, {\"y_rep\": 36.328745258207604}, {\"y_rep\": 39.43572619819081}, {\"y_rep\": 46.35697558852728}, {\"y_rep\": 42.01225031726784}, {\"y_rep\": 52.40406079355239}, {\"y_rep\": 53.612777783020505}, {\"y_rep\": 63.82812397494717}, {\"y_rep\": 57.516078404799266}, {\"y_rep\": 41.18608853962804}, {\"y_rep\": 41.23283585113539}, {\"y_rep\": 55.60479757784216}, {\"y_rep\": 88.65067379224169}, {\"y_rep\": 62.86101418810974}, {\"y_rep\": 63.885953424818915}, {\"y_rep\": 45.68558229428665}, {\"y_rep\": 57.514151063071765}, {\"y_rep\": 56.70017487215951}, {\"y_rep\": 28.502511834296083}, {\"y_rep\": 38.908889385271394}, {\"y_rep\": 44.15333566733115}, {\"y_rep\": 47.753674551131866}, {\"y_rep\": 43.7242520744869}, {\"y_rep\": 65.12582044739452}, {\"y_rep\": 46.56409553613098}, {\"y_rep\": 40.14975660768765}, {\"y_rep\": -2.4581856144951084}, {\"y_rep\": 59.25580675890922}, {\"y_rep\": 56.635776565350966}, {\"y_rep\": 54.066343792526546}, {\"y_rep\": 29.86817450075518}, {\"y_rep\": 40.28337226041957}, {\"y_rep\": 64.29064861825155}, {\"y_rep\": 50.245743289857174}, {\"y_rep\": 36.86689733652646}, {\"y_rep\": 50.75114628722413}, {\"y_rep\": 41.76097844902922}, {\"y_rep\": 59.70018910188751}, {\"y_rep\": 34.17894494248932}, {\"y_rep\": 57.75157245455358}, {\"y_rep\": 58.30717658694645}, {\"y_rep\": 40.52298639608247}, {\"y_rep\": 49.3774846768423}, {\"y_rep\": 38.917058643305595}, {\"y_rep\": 46.64238433416768}, {\"y_rep\": 45.375153563785716}, {\"y_rep\": 41.59804433005433}, {\"y_rep\": 38.31975974511967}, {\"y_rep\": 42.96086769220905}, {\"y_rep\": 42.63019912200964}, {\"y_rep\": 60.95465025716328}, {\"y_rep\": 26.48116246400014}, {\"y_rep\": 55.19952168723773}, {\"y_rep\": 38.90968531381525}, {\"y_rep\": 67.95538112286505}, {\"y_rep\": 52.164023466304386}, {\"y_rep\": 45.28009185384516}, {\"y_rep\": 40.233664051429415}, {\"y_rep\": 66.28522432629153}, {\"y_rep\": 50.858971556252186}, {\"y_rep\": 48.47010568115412}, {\"y_rep\": 64.36756288627669}, {\"y_rep\": 49.09790533087564}, {\"y_rep\": 52.166735805362606}, {\"y_rep\": 51.77434113378185}, {\"y_rep\": 42.86554034141649}, {\"y_rep\": 58.85507373803932}, {\"y_rep\": 59.00156725289056}, {\"y_rep\": 36.05227121186821}, {\"y_rep\": 39.59157924744111}, {\"y_rep\": 56.10438543667956}, {\"y_rep\": 23.321081363251484}, {\"y_rep\": 50.88185893113213}, {\"y_rep\": 46.15204071957426}, {\"y_rep\": 41.39011589805943}, {\"y_rep\": 61.869751778190405}, {\"y_rep\": 39.71364172866748}, {\"y_rep\": 42.77669971778544}, {\"y_rep\": 53.21948378610063}, {\"y_rep\": 54.12197095707018}, {\"y_rep\": 37.42162556275536}, {\"y_rep\": 65.25993473449152}, {\"y_rep\": 46.28707613599493}, {\"y_rep\": 50.59483889595213}, {\"y_rep\": 42.678113507826346}, {\"y_rep\": 63.88794643861883}, {\"y_rep\": 58.44767169211853}, {\"y_rep\": 49.32198591848705}, {\"y_rep\": 27.771878353270484}, {\"y_rep\": 49.574859790590985}, {\"y_rep\": 59.60910439313636}, {\"y_rep\": 41.00744947246842}, {\"y_rep\": 36.835824391100836}, {\"y_rep\": 48.77979755631805}, {\"y_rep\": 35.28398183536274}, {\"y_rep\": 50.14817938986527}, {\"y_rep\": 36.46487530190702}, {\"y_rep\": 42.174957498368144}, {\"y_rep\": 58.50629376315163}, {\"y_rep\": 54.74076156846555}, {\"y_rep\": 54.70686244611576}, {\"y_rep\": 59.36982258974906}, {\"y_rep\": 53.11380967642042}, {\"y_rep\": 60.08799049378969}, {\"y_rep\": 35.616183648436945}, {\"y_rep\": 53.7813783375264}, {\"y_rep\": 51.93671329091635}, {\"y_rep\": 41.28952739544746}, {\"y_rep\": 53.21637185206368}, {\"y_rep\": 40.36880307817644}, {\"y_rep\": 47.915026942940024}, {\"y_rep\": 52.853426305360045}, {\"y_rep\": 39.9503840981285}, {\"y_rep\": 56.560868472991636}, {\"y_rep\": 45.74773369332475}, {\"y_rep\": 39.836093557731346}, {\"y_rep\": 63.604288016678595}, {\"y_rep\": 0.7862298043318678}, {\"y_rep\": 42.243457746355645}, {\"y_rep\": 49.122248522776644}, {\"y_rep\": 52.830051388356566}, {\"y_rep\": 22.658793973445494}, {\"y_rep\": 53.57654259821463}, {\"y_rep\": 48.20046384011192}, {\"y_rep\": 27.90024417577492}, {\"y_rep\": 34.942628132614004}, {\"y_rep\": 54.81650401469222}, {\"y_rep\": 57.51295020900708}, {\"y_rep\": 54.62165286732582}, {\"y_rep\": 49.909674789639816}, {\"y_rep\": 43.041768160633964}, {\"y_rep\": 59.13421010929645}, {\"y_rep\": 51.30598397676253}, {\"y_rep\": 48.3014947414913}, {\"y_rep\": 57.52714387216462}, {\"y_rep\": 56.23762599528126}, {\"y_rep\": 51.973462196501195}, {\"y_rep\": 50.608629895770065}, {\"y_rep\": 47.26496888677884}, {\"y_rep\": 59.20180452902594}, {\"y_rep\": 46.22514056602742}, {\"y_rep\": 39.21526807955187}, {\"y_rep\": 61.17607313091794}, {\"y_rep\": 56.13292167464265}, {\"y_rep\": 54.698926896115104}, {\"y_rep\": 45.236195980613516}, {\"y_rep\": 41.965496502719006}, {\"y_rep\": 65.8005652035684}, {\"y_rep\": 58.41921231588974}, {\"y_rep\": 42.432144388301154}, {\"y_rep\": 44.08136665410706}, {\"y_rep\": 52.870551409712874}, {\"y_rep\": 47.33632444377263}, {\"y_rep\": 53.60196326902754}, {\"y_rep\": 51.37390052281499}, {\"y_rep\": 27.673570845401727}, {\"y_rep\": 54.093467695120246}, {\"y_rep\": 68.76501781508873}, {\"y_rep\": 34.003189538452496}, {\"y_rep\": 50.16947982373895}, {\"y_rep\": 52.346682715056176}, {\"y_rep\": 50.672373307501694}, {\"y_rep\": 50.15236853046106}, {\"y_rep\": 54.80694266624284}, {\"y_rep\": 54.89623879826612}, {\"y_rep\": 52.65988049019959}, {\"y_rep\": 58.48621685775721}, {\"y_rep\": 46.559620594228754}, {\"y_rep\": 57.017872416991594}, {\"y_rep\": 48.93165610301091}, {\"y_rep\": 38.99796970553803}, {\"y_rep\": 39.66297193368479}, {\"y_rep\": 65.54678155355985}, {\"y_rep\": 50.72594643860776}, {\"y_rep\": 49.85659100292511}, {\"y_rep\": 46.2048440918954}, {\"y_rep\": 44.94135389077348}, {\"y_rep\": 57.74458023758189}, {\"y_rep\": 44.83173495294493}, {\"y_rep\": 47.15632361867478}, {\"y_rep\": 49.58482331329971}, {\"y_rep\": 53.208920840514025}, {\"y_rep\": 54.177277050763934}, {\"y_rep\": 55.86826852601927}, {\"y_rep\": 51.41255978442335}, {\"y_rep\": 51.22392584894547}, {\"y_rep\": 57.92517197645856}, {\"y_rep\": 50.52331062507837}, {\"y_rep\": 54.99216477852587}, {\"y_rep\": 40.33506930338609}, {\"y_rep\": 52.11165472403039}, {\"y_rep\": 59.86122906231188}, {\"y_rep\": 54.69759546695162}, {\"y_rep\": 61.42406105785916}, {\"y_rep\": 51.83233896130498}, {\"y_rep\": 46.67244257781358}, {\"y_rep\": 45.52608869811144}, {\"y_rep\": 48.68450222026083}, {\"y_rep\": 64.27272205813684}, {\"y_rep\": 51.35472337758574}, {\"y_rep\": 52.67413105254508}, {\"y_rep\": 48.63824871284356}, {\"y_rep\": 40.79507495212408}, {\"y_rep\": 38.19669597112888}, {\"y_rep\": 37.49294679168732}, {\"y_rep\": 53.099989255322185}, {\"y_rep\": 56.413944974424105}, {\"y_rep\": 61.73734640243022}, {\"y_rep\": 62.97261789138838}, {\"y_rep\": 62.60745217686237}, {\"y_rep\": 42.02356806159438}, {\"y_rep\": 42.39460821476302}, {\"y_rep\": 57.6716807091496}, {\"y_rep\": 39.78390583678102}, {\"y_rep\": 58.89303695446634}, {\"y_rep\": 53.01689506222737}, {\"y_rep\": 58.00430667993908}, {\"y_rep\": 32.11811162800362}, {\"y_rep\": 60.48117721892069}, {\"y_rep\": 44.243946218503844}, {\"y_rep\": 48.893102316039005}, {\"y_rep\": 40.98334881784434}, {\"y_rep\": 44.388105035428666}, {\"y_rep\": 38.20791969405384}, {\"y_rep\": 53.370383639345235}, {\"y_rep\": 57.101148323829875}, {\"y_rep\": 26.01249797820229}, {\"y_rep\": 32.37172946062499}, {\"y_rep\": 49.937316248084954}, {\"y_rep\": 36.36192587539854}, {\"y_rep\": 49.014093712004886}, {\"y_rep\": 52.808984722457915}, {\"y_rep\": 41.36454946970304}, {\"y_rep\": 47.26968775288601}, {\"y_rep\": 43.91990599327112}, {\"y_rep\": 51.04490128633047}, {\"y_rep\": 49.84865543080562}, {\"y_rep\": 60.167091941495926}, {\"y_rep\": 30.462237406754966}, {\"y_rep\": 59.63882526829081}, {\"y_rep\": 34.375512927115345}, {\"y_rep\": 43.34457990516607}, {\"y_rep\": 37.539323484772396}, {\"y_rep\": 60.030305539219015}, {\"y_rep\": 40.342959998364186}, {\"y_rep\": 65.17620388927675}, {\"y_rep\": 46.337089001864115}, {\"y_rep\": 47.87041107068841}, {\"y_rep\": 44.737514116685006}, {\"y_rep\": 60.80957112152247}, {\"y_rep\": 49.02998885561406}, {\"y_rep\": 47.34058385734968}, {\"y_rep\": 66.54568179723597}, {\"y_rep\": 36.514933996029406}, {\"y_rep\": 67.21597199263786}, {\"y_rep\": 44.381707881508284}, {\"y_rep\": 62.62543256342169}, {\"y_rep\": 52.00166524431496}, {\"y_rep\": 56.28060886717808}, {\"y_rep\": 50.136371346443056}, {\"y_rep\": 61.901185314474745}, {\"y_rep\": 52.56835735731408}, {\"y_rep\": 53.17210926553807}, {\"y_rep\": 46.357349123502615}, {\"y_rep\": 66.02181920746554}, {\"y_rep\": 63.10728367378152}, {\"y_rep\": 52.850048161708415}, {\"y_rep\": 63.26127640084455}, {\"y_rep\": 54.46302292475942}, {\"y_rep\": 37.1537845696096}, {\"y_rep\": 41.717658511165645}, {\"y_rep\": 50.33862338042027}, {\"y_rep\": 32.19283089107714}, {\"y_rep\": 34.43085075064884}, {\"y_rep\": 59.816039441417374}, {\"y_rep\": 42.634536312416046}, {\"y_rep\": 38.93369709389692}, {\"y_rep\": -4.508579283659294}, {\"y_rep\": 17.701720965306066}, {\"y_rep\": 59.34422674516265}, {\"y_rep\": 56.93371791468425}, {\"y_rep\": 33.41118329574587}, {\"y_rep\": 63.77215561010965}, {\"y_rep\": 43.46575462903164}, {\"y_rep\": 70.30233480627476}, {\"y_rep\": 52.83787045953953}, {\"y_rep\": 53.9752450121016}, {\"y_rep\": 33.3558236942845}, {\"y_rep\": 47.89198032637868}, {\"y_rep\": 54.46001440500528}, {\"y_rep\": 44.89222985375412}, {\"y_rep\": 49.48934975453404}, {\"y_rep\": 40.075412036917996}, {\"y_rep\": 66.02454095612893}, {\"y_rep\": 43.74001478024093}, {\"y_rep\": 47.22547199945323}, {\"y_rep\": 43.41743738763441}, {\"y_rep\": 43.25550109780382}, {\"y_rep\": 42.40763089378857}, {\"y_rep\": 39.77890327882891}, {\"y_rep\": 67.26026122177925}, {\"y_rep\": 59.31570327577403}, {\"y_rep\": 55.613299778014614}, {\"y_rep\": 47.99065335298141}, {\"y_rep\": 60.39794885585037}, {\"y_rep\": -15.49027599867468}, {\"y_rep\": 55.36959681088939}, {\"y_rep\": 35.51755629704325}, {\"y_rep\": 57.79328924758855}, {\"y_rep\": 41.80276980135221}, {\"y_rep\": 42.05999823920983}, {\"y_rep\": 50.69720479972236}, {\"y_rep\": 50.1579655381267}, {\"y_rep\": 59.72049743019015}, {\"y_rep\": 84.34782262879366}, {\"y_rep\": 67.97362597778967}, {\"y_rep\": 41.909663962947405}, {\"y_rep\": 46.50754757149659}, {\"y_rep\": 48.61732910876244}, {\"y_rep\": 50.09674372466479}, {\"y_rep\": 58.194377760368845}, {\"y_rep\": 48.99685263441513}, {\"y_rep\": 44.50111237615522}, {\"y_rep\": 35.881115726739466}, {\"y_rep\": 56.953606701890095}, {\"y_rep\": 45.471687263296594}, {\"y_rep\": 61.14842937087669}, {\"y_rep\": 37.63420033551772}, {\"y_rep\": 48.07585658877863}, {\"y_rep\": 40.5538729777817}, {\"y_rep\": 54.43394138539819}, {\"y_rep\": 55.64633151517269}, {\"y_rep\": 57.60748502493067}, {\"y_rep\": 48.72659591201339}, {\"y_rep\": 57.86612830037524}, {\"y_rep\": 32.5738756981774}, {\"y_rep\": 56.914458449555525}, {\"y_rep\": 65.12133007790068}, {\"y_rep\": 45.47822888298769}, {\"y_rep\": 45.05542034903094}, {\"y_rep\": 50.82807608291527}, {\"y_rep\": 59.56461373939114}, {\"y_rep\": 41.02704445370648}, {\"y_rep\": 38.09553622441806}, {\"y_rep\": 46.40187677252336}, {\"y_rep\": 47.365732533192336}, {\"y_rep\": 51.906226703550814}, {\"y_rep\": 53.24645606051798}, {\"y_rep\": 43.10093444825148}, {\"y_rep\": 45.63273202741199}, {\"y_rep\": 52.34111761177449}, {\"y_rep\": 44.975567124628235}, {\"y_rep\": 58.56991938614946}, {\"y_rep\": 50.08675199815277}, {\"y_rep\": 50.05595133988101}, {\"y_rep\": 42.22690432410543}, {\"y_rep\": 43.26062034469426}, {\"y_rep\": 52.351518516745124}, {\"y_rep\": 43.81454222781554}, {\"y_rep\": 50.35149951217471}, {\"y_rep\": 45.72200377220547}, {\"y_rep\": 65.418054554202}, {\"y_rep\": 47.54714576196858}, {\"y_rep\": 49.445508503628055}, {\"y_rep\": 46.616509119158636}, {\"y_rep\": 52.57175817591654}, {\"y_rep\": 65.63576627322858}, {\"y_rep\": 71.6826402687264}, {\"y_rep\": 56.622861299568434}, {\"y_rep\": 44.288495080549694}, {\"y_rep\": 38.4138379992103}, {\"y_rep\": 57.193527942454374}, {\"y_rep\": 52.575332046380495}, {\"y_rep\": 39.190544082130145}, {\"y_rep\": 46.34929525596031}, {\"y_rep\": 62.44762248224771}, {\"y_rep\": 48.02227240605445}, {\"y_rep\": 43.84073453048716}, {\"y_rep\": 48.50270162395403}, {\"y_rep\": 19.941411748042025}, {\"y_rep\": 29.286931324461555}, {\"y_rep\": 56.45012667031965}, {\"y_rep\": 57.79353609116367}, {\"y_rep\": 50.36310987771161}, {\"y_rep\": 56.08489298427247}, {\"y_rep\": 57.46222667651035}, {\"y_rep\": 57.00251520199612}, {\"y_rep\": 39.22091638479841}, {\"y_rep\": 48.031400451689954}, {\"y_rep\": 54.47141148369131}, {\"y_rep\": 47.89993008212623}, {\"y_rep\": 40.643694915561625}, {\"y_rep\": 46.482226062566184}, {\"y_rep\": 49.4860341608318}, {\"y_rep\": 42.399767654013274}, {\"y_rep\": 47.0880345123135}, {\"y_rep\": 52.47934147851644}, {\"y_rep\": 55.962151042655826}, {\"y_rep\": 46.283418438644695}, {\"y_rep\": 53.03393686686145}, {\"y_rep\": 58.937718820863594}, {\"y_rep\": 48.717154514105495}, {\"y_rep\": 51.740906365588664}, {\"y_rep\": 42.95884181330901}, {\"y_rep\": 71.65467615992479}, {\"y_rep\": 41.247805321273866}, {\"y_rep\": 56.333406729586436}, {\"y_rep\": 44.140589490658094}, {\"y_rep\": 59.7393725029796}, {\"y_rep\": 57.3945232837972}, {\"y_rep\": 44.15965907160167}, {\"y_rep\": 44.676589988868635}, {\"y_rep\": 60.08982437935119}, {\"y_rep\": 57.203980413102556}, {\"y_rep\": 44.24737789029366}, {\"y_rep\": 52.290808647457865}, {\"y_rep\": 50.107923324431816}, {\"y_rep\": 56.26192577722618}, {\"y_rep\": 23.988844193061237}, {\"y_rep\": 30.74045254168945}, {\"y_rep\": 61.021762274468514}, {\"y_rep\": 48.20628676433987}, {\"y_rep\": 50.15393091933}, {\"y_rep\": 32.421607135210536}, {\"y_rep\": 50.473764391550894}, {\"y_rep\": 68.38899784192319}, {\"y_rep\": 52.89646077891433}, {\"y_rep\": 53.21745286246102}, {\"y_rep\": 51.1505431883534}, {\"y_rep\": 66.26872613700962}, {\"y_rep\": 29.786679465712847}, {\"y_rep\": 36.615380492534634}, {\"y_rep\": 45.79373690648622}, {\"y_rep\": 47.052642565598426}, {\"y_rep\": 50.94052235071264}, {\"y_rep\": 66.44517715598731}, {\"y_rep\": 44.27411062281875}, {\"y_rep\": 57.184098573053895}, {\"y_rep\": 49.066812705911474}, {\"y_rep\": 44.24150077725194}, {\"y_rep\": 57.178540145441005}, {\"y_rep\": 44.368069188182524}, {\"y_rep\": 31.506226195035836}, {\"y_rep\": 46.92603466492243}, {\"y_rep\": 43.27707208103747}, {\"y_rep\": 57.38721018544313}, {\"y_rep\": 51.78450114354894}, {\"y_rep\": 46.530737806232466}, {\"y_rep\": 41.54052502883454}, {\"y_rep\": 51.51577631588751}, {\"y_rep\": 46.91500984160813}, {\"y_rep\": 50.867430456721095}, {\"y_rep\": 52.47192857751539}, {\"y_rep\": 62.12262455514738}, {\"y_rep\": 39.42127467172349}, {\"y_rep\": 63.04747801078705}, {\"y_rep\": 55.19551493459794}, {\"y_rep\": 41.92792363708366}, {\"y_rep\": 45.74971955638463}, {\"y_rep\": 56.98800417524294}, {\"y_rep\": 56.05039469383128}, {\"y_rep\": 53.49955096474094}, {\"y_rep\": 33.45783566646301}, {\"y_rep\": 54.821786078619205}, {\"y_rep\": 57.63101233126169}, {\"y_rep\": 47.799687114404364}, {\"y_rep\": 52.447140773605334}, {\"y_rep\": 72.47863843140834}, {\"y_rep\": 57.873777249314124}, {\"y_rep\": 36.35323639712833}, {\"y_rep\": 35.83864558807609}, {\"y_rep\": 44.84052970086967}, {\"y_rep\": 49.33694562045993}, {\"y_rep\": 48.34798006683034}, {\"y_rep\": 59.7593569335579}, {\"y_rep\": 49.68420454828111}, {\"y_rep\": 55.95140702028267}, {\"y_rep\": 50.72030894093304}, {\"y_rep\": 52.08145366400253}, {\"y_rep\": 48.55867086469207}, {\"y_rep\": 58.755098108280855}, {\"y_rep\": 57.720497908090174}, {\"y_rep\": 37.61988499548689}, {\"y_rep\": 33.483738603198326}, {\"y_rep\": 31.09473002283926}, {\"y_rep\": 56.02318927153917}, {\"y_rep\": 42.8895409676276}, {\"y_rep\": 49.11396639238753}, {\"y_rep\": 37.24504771399509}, {\"y_rep\": 31.371494178611513}, {\"y_rep\": 53.08400137710301}, {\"y_rep\": 58.87256526870032}, {\"y_rep\": 40.08840944902197}, {\"y_rep\": 53.077077453799355}, {\"y_rep\": 52.027106527351094}, {\"y_rep\": 49.62281187134947}, {\"y_rep\": 46.653414408442806}, {\"y_rep\": 40.419179659238594}, {\"y_rep\": 40.630113369334794}, {\"y_rep\": 56.720260051102876}, {\"y_rep\": 54.0932324932566}, {\"y_rep\": 39.21138399070806}, {\"y_rep\": 49.9569619004209}, {\"y_rep\": 48.526564281681054}, {\"y_rep\": 60.18436276307685}, {\"y_rep\": 50.725991946839585}, {\"y_rep\": 38.72815623723165}, {\"y_rep\": 39.88199727868544}, {\"y_rep\": 19.556383839725402}, {\"y_rep\": 55.8671684754926}, {\"y_rep\": 44.68344947163253}, {\"y_rep\": 56.90412208407683}, {\"y_rep\": 66.57756750208623}, {\"y_rep\": 37.384602907783616}, {\"y_rep\": 67.46164030818403}, {\"y_rep\": 43.802823684711385}, {\"y_rep\": 28.821598527284795}, {\"y_rep\": 42.14541147660329}, {\"y_rep\": 51.34736088776675}, {\"y_rep\": 46.54265035980534}, {\"y_rep\": 58.35175888976417}, {\"y_rep\": 59.34494023097477}, {\"y_rep\": 51.403142072882446}, {\"y_rep\": 38.91517909880411}, {\"y_rep\": 53.915119703821006}, {\"y_rep\": 41.71519673591715}, {\"y_rep\": 44.46378906717242}, {\"y_rep\": 46.007527403306675}, {\"y_rep\": 46.097321009031134}, {\"y_rep\": 48.47305406302953}, {\"y_rep\": 49.02290740865389}, {\"y_rep\": 42.893907954839655}, {\"y_rep\": 56.753870118321466}, {\"y_rep\": 48.9251232113288}, {\"y_rep\": 42.07493044736337}, {\"y_rep\": 54.749181868191556}, {\"y_rep\": 48.42710621295476}, {\"y_rep\": 64.40645852245828}, {\"y_rep\": 59.805351323235115}, {\"y_rep\": 50.49878014850322}, {\"y_rep\": 44.61447228171126}, {\"y_rep\": 39.69058080731378}, {\"y_rep\": 52.32840850477979}, {\"y_rep\": 41.75425877367572}, {\"y_rep\": 42.19477111635622}, {\"y_rep\": 36.750550092142916}, {\"y_rep\": 42.928501395047114}, {\"y_rep\": 37.442771737690315}, {\"y_rep\": 46.69431829360153}, {\"y_rep\": 40.43215833805185}, {\"y_rep\": 43.36254439012667}, {\"y_rep\": 35.94151126820192}, {\"y_rep\": 51.94099203317374}, {\"y_rep\": 29.16107755318482}, {\"y_rep\": 59.56330611111082}, {\"y_rep\": 57.21716751492922}, {\"y_rep\": 44.40067781136959}, {\"y_rep\": 61.30530276409678}, {\"y_rep\": 43.85487218164721}, {\"y_rep\": 65.45250640888028}, {\"y_rep\": 47.330906485927265}, {\"y_rep\": 51.51567185939902}, {\"y_rep\": 42.969535788677646}, {\"y_rep\": 46.336205264573344}, {\"y_rep\": 55.005020404477705}, {\"y_rep\": 47.606960777889675}, {\"y_rep\": 46.930659815108186}, {\"y_rep\": 57.16102566527515}, {\"y_rep\": 54.327079203083656}, {\"y_rep\": 45.18643178135398}, {\"y_rep\": 39.450857234272696}, {\"y_rep\": 50.441195720506265}, {\"y_rep\": 48.7996137959371}, {\"y_rep\": 59.264756330016425}, {\"y_rep\": 55.41709684905577}, {\"y_rep\": 44.815780041181974}, {\"y_rep\": 42.20502127577545}, {\"y_rep\": 64.34747170536394}, {\"y_rep\": 59.132894196656686}, {\"y_rep\": 42.98192328904931}, {\"y_rep\": 51.16017947545225}, {\"y_rep\": 52.619563583158666}, {\"y_rep\": 43.55125826358424}, {\"y_rep\": 34.98173249572992}, {\"y_rep\": 49.938657316397126}, {\"y_rep\": 35.74406002675063}, {\"y_rep\": 46.95100092077378}, {\"y_rep\": 76.01225664392018}, {\"y_rep\": 55.14179660097372}, {\"y_rep\": 43.286576413807886}, {\"y_rep\": 51.81943279109668}, {\"y_rep\": 40.16984279745812}, {\"y_rep\": 48.744271830833185}, {\"y_rep\": 56.66328886458337}, {\"y_rep\": 28.80812656157592}, {\"y_rep\": 45.860794299817684}, {\"y_rep\": 40.06858561578792}, {\"y_rep\": 26.976558495767666}, {\"y_rep\": 42.18367889728709}, {\"y_rep\": 43.79934647242752}, {\"y_rep\": 58.46297044794044}, {\"y_rep\": 45.751656183373576}, {\"y_rep\": 54.09148166370601}, {\"y_rep\": 62.714744559497966}, {\"y_rep\": 46.29690492822271}, {\"y_rep\": 38.94166591925185}, {\"y_rep\": 34.23870675337317}, {\"y_rep\": 66.40641786244382}, {\"y_rep\": 55.51753803265624}, {\"y_rep\": 52.68463394544441}, {\"y_rep\": 48.97876510772324}, {\"y_rep\": 35.29710972797619}, {\"y_rep\": 62.11310156226573}, {\"y_rep\": 54.21699918724564}, {\"y_rep\": 60.95048646544826}, {\"y_rep\": 80.62557740972082}, {\"y_rep\": 52.5906852760579}, {\"y_rep\": 45.2585650472659}, {\"y_rep\": 42.108550036378745}, {\"y_rep\": 47.861769129034954}, {\"y_rep\": 56.089070728592}, {\"y_rep\": 35.48379604660579}, {\"y_rep\": 36.613733282761295}, {\"y_rep\": 23.734931257303547}, {\"y_rep\": 69.49555969506791}, {\"y_rep\": 52.121269732991095}, {\"y_rep\": 55.935814404804304}, {\"y_rep\": 61.00098320533863}, {\"y_rep\": 44.1442306935796}, {\"y_rep\": 41.22613347518594}, {\"y_rep\": 46.10889413014674}, {\"y_rep\": 59.78287492834782}, {\"y_rep\": 39.89834668832671}, {\"y_rep\": 54.21644585557418}, {\"y_rep\": 58.399559351985864}, {\"y_rep\": 70.6418787075976}, {\"y_rep\": 35.61100256710268}, {\"y_rep\": 41.38281326781998}, {\"y_rep\": 49.34424274973328}, {\"y_rep\": 60.449501749401485}, {\"y_rep\": 53.403747168577894}, {\"y_rep\": 47.69130099166409}, {\"y_rep\": 60.57387754905842}, {\"y_rep\": 39.904848995629415}, {\"y_rep\": 20.015671806598306}, {\"y_rep\": 43.62077525254305}, {\"y_rep\": 50.1085069407113}, {\"y_rep\": 31.239949680007882}, {\"y_rep\": 35.251506390238475}, {\"y_rep\": 57.79820227726684}, {\"y_rep\": 50.408738020407085}, {\"y_rep\": 46.55943957317579}, {\"y_rep\": 41.702713837315656}, {\"y_rep\": 42.07026066084019}, {\"y_rep\": 60.96350003354368}, {\"y_rep\": 47.028981520572124}, {\"y_rep\": 54.829643378732804}, {\"y_rep\": 25.206575759184183}, {\"y_rep\": 34.258669475529324}, {\"y_rep\": 55.46203856602705}, {\"y_rep\": 49.80371472759934}, {\"y_rep\": 49.221505015652355}, {\"y_rep\": 67.21036031152087}, {\"y_rep\": 54.990531590147526}, {\"y_rep\": 53.691485626691524}, {\"y_rep\": 58.3961289737541}, {\"y_rep\": 38.901215507798845}, {\"y_rep\": 45.93605480904841}, {\"y_rep\": 15.550247779827146}, {\"y_rep\": 50.89056405883279}, {\"y_rep\": 67.49432728107543}, {\"y_rep\": 45.81215533774387}, {\"y_rep\": 60.708919382779975}, {\"y_rep\": 46.03441930304872}, {\"y_rep\": 63.67944489366139}, {\"y_rep\": 39.42199411791002}, {\"y_rep\": 54.913568032880974}, {\"y_rep\": 50.975896452234764}, {\"y_rep\": 46.08667592456557}, {\"y_rep\": 61.83063832776058}, {\"y_rep\": 44.09711123660847}, {\"y_rep\": 57.38492525992772}, {\"y_rep\": 41.65345005157428}, {\"y_rep\": -9.495901369191827}, {\"y_rep\": 57.78859869955672}, {\"y_rep\": 70.77041811273607}, {\"y_rep\": 35.92261290747442}, {\"y_rep\": 40.38051480439987}, {\"y_rep\": 68.74267023503421}, {\"y_rep\": 34.911515046222384}, {\"y_rep\": 53.45907831756506}, {\"y_rep\": 59.613374887025174}, {\"y_rep\": 26.765637740314002}, {\"y_rep\": 36.22302643286223}, {\"y_rep\": 36.50324294134654}, {\"y_rep\": 64.94194937770287}, {\"y_rep\": 51.09702261537939}, {\"y_rep\": 34.22450125934706}, {\"y_rep\": 45.16083773011505}, {\"y_rep\": 63.974208141234726}, {\"y_rep\": 41.23756423582051}, {\"y_rep\": 50.567476892834925}, {\"y_rep\": 35.73717314579993}, {\"y_rep\": 55.55311963847368}, {\"y_rep\": 44.21907281508376}, {\"y_rep\": 57.614389001586595}, {\"y_rep\": 36.61811099065344}, {\"y_rep\": 45.16656108919429}, {\"y_rep\": 64.13712591464169}, {\"y_rep\": 50.70347332512949}, {\"y_rep\": 45.64666873608958}, {\"y_rep\": 58.40744625706223}, {\"y_rep\": 67.68607209515073}, {\"y_rep\": 55.263020081625875}, {\"y_rep\": 65.37363409717538}, {\"y_rep\": 54.29364057796993}, {\"y_rep\": 48.46345018808316}, {\"y_rep\": 30.93534235321741}, {\"y_rep\": 56.12872650630253}, {\"y_rep\": 32.23191130937332}, {\"y_rep\": 55.566494952382826}, {\"y_rep\": 57.62123723009145}, {\"y_rep\": -2.2206518954067116}, {\"y_rep\": 56.01527978986893}, {\"y_rep\": 66.07715690462837}, {\"y_rep\": 46.324033963214625}, {\"y_rep\": 46.3314294742304}, {\"y_rep\": 56.85039847199635}, {\"y_rep\": 62.6443028796041}, {\"y_rep\": 59.47680436518721}, {\"y_rep\": 62.39244409947826}, {\"y_rep\": 44.758504421409604}, {\"y_rep\": 39.378435199652614}, {\"y_rep\": 32.529549173994354}, {\"y_rep\": 51.20610198369187}, {\"y_rep\": 41.153975998983434}, {\"y_rep\": 35.00910110386932}, {\"y_rep\": 49.313815199786255}, {\"y_rep\": 45.79616490318831}, {\"y_rep\": 38.7012135852263}, {\"y_rep\": 73.58136983082635}, {\"y_rep\": 50.66998675676955}, {\"y_rep\": 55.618495625588714}, {\"y_rep\": 39.05975240408672}, {\"y_rep\": 30.14865942698477}, {\"y_rep\": 43.01519730648238}, {\"y_rep\": 45.20989921757554}, {\"y_rep\": 48.55973569480727}, {\"y_rep\": 49.69318236583399}, {\"y_rep\": 51.621779080470105}, {\"y_rep\": 59.21621438469758}, {\"y_rep\": 51.80722159847579}, {\"y_rep\": 81.09793715487726}, {\"y_rep\": 40.15630597408986}, {\"y_rep\": 48.69457050445054}, {\"y_rep\": 55.281103440361704}, {\"y_rep\": 68.13633602602386}, {\"y_rep\": 57.392203104511864}, {\"y_rep\": 53.863479507218265}, {\"y_rep\": 60.3556489985775}, {\"y_rep\": 34.435113064558074}, {\"y_rep\": 49.73732756576064}, {\"y_rep\": 47.61757911043988}, {\"y_rep\": 45.22383346373026}, {\"y_rep\": 59.126340918621196}, {\"y_rep\": 57.90969350473295}, {\"y_rep\": 31.484024045935197}, {\"y_rep\": 52.80173901170398}, {\"y_rep\": 46.11961530355309}, {\"y_rep\": 51.94899998492831}, {\"y_rep\": 56.55381455180621}, {\"y_rep\": 60.826204575585095}, {\"y_rep\": 57.67135393857821}, {\"y_rep\": 37.34155771118992}, {\"y_rep\": 57.45632298026695}, {\"y_rep\": 54.57916500908162}, {\"y_rep\": 50.358094926346766}, {\"y_rep\": 48.25403243245611}, {\"y_rep\": 41.83303705173043}, {\"y_rep\": 57.56061296471101}, {\"y_rep\": 59.1434271832014}, {\"y_rep\": 26.13280036250255}, {\"y_rep\": 42.38677852714494}, {\"y_rep\": 43.761380244066004}, {\"y_rep\": 42.05428931220501}, {\"y_rep\": 52.906661412005406}, {\"y_rep\": 39.78472851848954}, {\"y_rep\": 45.42200548387661}, {\"y_rep\": 58.24853610273393}, {\"y_rep\": 55.94632743606177}, {\"y_rep\": 53.52924975641553}, {\"y_rep\": 63.446486932627955}, {\"y_rep\": 38.66535222157076}, {\"y_rep\": 53.07682139168234}, {\"y_rep\": 40.04250689709796}, {\"y_rep\": 40.87145592011995}, {\"y_rep\": 57.71094011143917}, {\"y_rep\": 36.2396851613004}, {\"y_rep\": 40.33837621521924}, {\"y_rep\": 57.765616178433746}, {\"y_rep\": 40.802400681895236}, {\"y_rep\": 45.046958097057804}, {\"y_rep\": 38.93392804104171}, {\"y_rep\": 60.05597184305909}, {\"y_rep\": 38.98332651388617}, {\"y_rep\": 42.63818645758607}, {\"y_rep\": 41.75053802729438}, {\"y_rep\": 40.36361472968457}, {\"y_rep\": 48.471306477961924}, {\"y_rep\": 55.311372858907205}, {\"y_rep\": 49.164606780586965}, {\"y_rep\": 49.11397647075597}, {\"y_rep\": 61.02615430807219}, {\"y_rep\": 59.30113908928688}, {\"y_rep\": 41.60913738088409}, {\"y_rep\": 53.286573118292075}, {\"y_rep\": 53.04519044919994}, {\"y_rep\": 46.10152209832516}, {\"y_rep\": 44.11398660807781}, {\"y_rep\": 38.48465149872956}, {\"y_rep\": 62.17427883996044}, {\"y_rep\": 71.00455601605266}, {\"y_rep\": 36.28934418237663}, {\"y_rep\": 51.27738925883998}, {\"y_rep\": 45.6112667891639}, {\"y_rep\": 66.83355298136524}, {\"y_rep\": 67.1089553502025}, {\"y_rep\": 24.26529509701248}, {\"y_rep\": 63.23341712089584}, {\"y_rep\": 59.23027604533459}, {\"y_rep\": 35.40112269226405}, {\"y_rep\": 36.494324646729964}, {\"y_rep\": 50.01524035729532}, {\"y_rep\": 39.05511819459315}, {\"y_rep\": 41.95552483488273}, {\"y_rep\": 41.71705244980829}, {\"y_rep\": 59.13731015143634}, {\"y_rep\": 41.03536485531559}, {\"y_rep\": 45.3636568010411}, {\"y_rep\": 45.42001726955301}, {\"y_rep\": 49.34937940810575}, {\"y_rep\": 49.24544574297426}, {\"y_rep\": 48.56219789618769}, {\"y_rep\": 38.6631031125415}, {\"y_rep\": 57.5274223757482}, {\"y_rep\": 51.49497191356774}, {\"y_rep\": 61.51785496674522}, {\"y_rep\": 48.00839558000593}, {\"y_rep\": 48.45607131877179}, {\"y_rep\": 60.28556934290486}, {\"y_rep\": 47.854084293069356}, {\"y_rep\": 38.20453479527704}, {\"y_rep\": 53.18161968883218}, {\"y_rep\": 57.88984595345738}, {\"y_rep\": 40.21936990297854}, {\"y_rep\": 44.351540507661696}, {\"y_rep\": 45.40157646616971}, {\"y_rep\": 49.797488907855865}, {\"y_rep\": 58.94927668215337}, {\"y_rep\": 43.85184756035245}, {\"y_rep\": 46.693277137648856}, {\"y_rep\": 46.34596519265805}, {\"y_rep\": 43.11973263188496}, {\"y_rep\": 41.160397714072616}, {\"y_rep\": 49.86846757490423}, {\"y_rep\": 38.443585504113216}, {\"y_rep\": 59.738811921215884}, {\"y_rep\": 74.56807874646154}, {\"y_rep\": 54.64136611255115}, {\"y_rep\": 65.8188007012138}, {\"y_rep\": 66.13944866782235}, {\"y_rep\": 36.25465346841863}, {\"y_rep\": 51.8366130196455}, {\"y_rep\": 23.26963212736593}, {\"y_rep\": 40.296570264214516}, {\"y_rep\": 51.637905595448515}, {\"y_rep\": 51.61040771276684}, {\"y_rep\": 48.022631279371375}, {\"y_rep\": 68.0424882232698}, {\"y_rep\": 52.657825817041626}, {\"y_rep\": 51.88768565198582}, {\"y_rep\": 51.131545611199336}, {\"y_rep\": 58.57642185153693}, {\"y_rep\": 51.932892338107074}, {\"y_rep\": 56.99908819792349}, {\"y_rep\": 41.71102316777229}, {\"y_rep\": 42.116318444399404}, {\"y_rep\": 55.9222350143624}, {\"y_rep\": 50.60494647389882}, {\"y_rep\": 54.525500306774724}, {\"y_rep\": 29.518928128310463}, {\"y_rep\": 44.77694022345109}, {\"y_rep\": 48.787130577859315}, {\"y_rep\": 50.9005895319502}, {\"y_rep\": 41.51653902376719}, {\"y_rep\": 46.58332332015618}, {\"y_rep\": 44.25448896872513}, {\"y_rep\": 59.26820347453273}, {\"y_rep\": 47.71524246174456}, {\"y_rep\": 48.972606025909855}, {\"y_rep\": 51.16868875396469}, {\"y_rep\": 58.082155854368644}, {\"y_rep\": 34.70613751934215}, {\"y_rep\": 35.74685923992761}, {\"y_rep\": 60.3693545187378}, {\"y_rep\": 57.742656141775775}, {\"y_rep\": 45.860229655555095}, {\"y_rep\": 54.38878244263023}, {\"y_rep\": 48.62633480278279}, {\"y_rep\": 50.86222230446195}, {\"y_rep\": 55.53085780326742}, {\"y_rep\": 40.39032978225612}, {\"y_rep\": 45.380300329280395}, {\"y_rep\": 31.36134207494002}, {\"y_rep\": 38.070170332855696}, {\"y_rep\": 68.93577883569122}, {\"y_rep\": 49.98073830543683}, {\"y_rep\": 50.73350068051224}, {\"y_rep\": 36.835087927654236}, {\"y_rep\": 42.49617110511852}, {\"y_rep\": 33.98522386671}, {\"y_rep\": 47.41902138257295}, {\"y_rep\": 39.36044781078429}, {\"y_rep\": 43.789648268528985}, {\"y_rep\": 39.649130134567734}, {\"y_rep\": 54.4336271320494}, {\"y_rep\": 37.39635400082742}, {\"y_rep\": 49.499933426647004}, {\"y_rep\": 43.57235693867573}, {\"y_rep\": 48.13483992814286}, {\"y_rep\": 37.686779490597075}, {\"y_rep\": 38.87319617163415}, {\"y_rep\": 53.74659380386411}, {\"y_rep\": 45.266933382595255}, {\"y_rep\": 41.67615982412242}, {\"y_rep\": 45.642970656111366}, {\"y_rep\": 49.3622897042262}, {\"y_rep\": 53.62261047999563}, {\"y_rep\": 33.871759531195664}, {\"y_rep\": 53.88707019492299}, {\"y_rep\": 62.37915901441128}, {\"y_rep\": 33.58925351518895}, {\"y_rep\": 44.56028101781193}, {\"y_rep\": 54.098319088089134}, {\"y_rep\": 54.80320451969708}, {\"y_rep\": 48.352331794778}, {\"y_rep\": 41.50553553572617}, {\"y_rep\": 38.27699044019889}, {\"y_rep\": 52.52629629363183}, {\"y_rep\": 43.286498564699}, {\"y_rep\": 47.54811217791851}, {\"y_rep\": 46.764146390450264}, {\"y_rep\": 61.76465889821867}, {\"y_rep\": 46.12178036077935}, {\"y_rep\": 68.73434960085966}, {\"y_rep\": 54.60550407023693}, {\"y_rep\": 57.31925775223792}, {\"y_rep\": 57.0960232954846}, {\"y_rep\": 44.68069535467688}, {\"y_rep\": 47.84663233591925}, {\"y_rep\": 60.44922508827}, {\"y_rep\": 56.038947103898835}, {\"y_rep\": 34.02916943447243}, {\"y_rep\": 52.989870488582724}, {\"y_rep\": 4.748763917536557}, {\"y_rep\": 63.63508241049413}, {\"y_rep\": 42.69652267902069}, {\"y_rep\": 43.0141080190919}, {\"y_rep\": 64.64748200008111}, {\"y_rep\": 41.242555035051666}, {\"y_rep\": 61.741277409815716}, {\"y_rep\": 60.51023149321732}, {\"y_rep\": 51.018095245119305}, {\"y_rep\": 45.836381538792374}, {\"y_rep\": 37.201353147146406}, {\"y_rep\": 39.99388700585812}, {\"y_rep\": 43.61725770190631}, {\"y_rep\": 46.52625271160958}, {\"y_rep\": 57.0586310695097}, {\"y_rep\": 40.924742401850814}, {\"y_rep\": 52.019734209437594}, {\"y_rep\": 42.63955910592826}, {\"y_rep\": 63.52950652264898}, {\"y_rep\": 40.55583910729921}, {\"y_rep\": 60.559283767957325}, {\"y_rep\": 48.59725619468465}, {\"y_rep\": 32.75041298104303}, {\"y_rep\": 52.59734690618611}, {\"y_rep\": 60.52802670403741}, {\"y_rep\": 51.58959136171017}, {\"y_rep\": 50.4192306266234}, {\"y_rep\": 58.75797733917444}, {\"y_rep\": 46.830648157139905}, {\"y_rep\": 47.91401369412883}, {\"y_rep\": 52.66640769197808}, {\"y_rep\": 58.896091539438075}, {\"y_rep\": 43.044838354842504}, {\"y_rep\": 53.03023065377895}, {\"y_rep\": 50.467857894943336}, {\"y_rep\": 50.717747967552896}, {\"y_rep\": 57.69655109790247}, {\"y_rep\": 39.84081991706159}, {\"y_rep\": 51.64891309090444}, {\"y_rep\": 52.949627730120575}, {\"y_rep\": 64.86863536110556}, {\"y_rep\": 39.858616464303694}, {\"y_rep\": 49.03416136389329}, {\"y_rep\": 55.411279532589646}, {\"y_rep\": 51.25630555546414}, {\"y_rep\": 58.91084935422984}, {\"y_rep\": 46.47939805364645}, {\"y_rep\": 6.125538752277498}, {\"y_rep\": 40.11231275183938}, {\"y_rep\": 53.05519133982217}, {\"y_rep\": 40.262555609621856}, {\"y_rep\": 44.50388241420076}, {\"y_rep\": 65.50333486745018}, {\"y_rep\": 31.751361668687096}, {\"y_rep\": 55.088279214260005}, {\"y_rep\": 39.412756872082895}, {\"y_rep\": 54.125616625034425}, {\"y_rep\": 38.972016719915935}, {\"y_rep\": 32.664662715384154}, {\"y_rep\": 42.64531610348609}, {\"y_rep\": 57.31378150840838}, {\"y_rep\": 45.32883418296563}, {\"y_rep\": 35.54918654358141}, {\"y_rep\": 50.398018319162375}, {\"y_rep\": 50.722772292152655}, {\"y_rep\": 35.3170147489772}, {\"y_rep\": 24.56716634068043}, {\"y_rep\": 53.912772651208165}, {\"y_rep\": 63.51402269022382}, {\"y_rep\": 50.766736128788715}, {\"y_rep\": 64.37090279150284}, {\"y_rep\": 62.94846810058053}, {\"y_rep\": 50.9039439460858}, {\"y_rep\": 61.780675712836604}, {\"y_rep\": 47.40956609370183}, {\"y_rep\": 50.9951867423442}, {\"y_rep\": 35.86913088423202}, {\"y_rep\": 43.42697413718028}, {\"y_rep\": 47.304181725748315}, {\"y_rep\": 37.22016543768258}, {\"y_rep\": 56.05576271020948}, {\"y_rep\": 64.29500437866174}, {\"y_rep\": 50.25271311245099}, {\"y_rep\": 58.79600849060969}, {\"y_rep\": 46.065919744582224}, {\"y_rep\": 43.06493141939357}, {\"y_rep\": 66.60690414458057}, {\"y_rep\": 36.319942553664426}, {\"y_rep\": 45.72947438293926}, {\"y_rep\": 42.281449783893265}, {\"y_rep\": 46.51168453420799}, {\"y_rep\": 61.483471551234146}, {\"y_rep\": 63.95815910695878}, {\"y_rep\": 68.50218938857537}, {\"y_rep\": 42.01869813013767}, {\"y_rep\": 62.54887017765249}, {\"y_rep\": 15.64104632445218}, {\"y_rep\": 49.03558403550694}, {\"y_rep\": 48.59862012815881}, {\"y_rep\": 40.815822117515}, {\"y_rep\": 47.158696952769425}, {\"y_rep\": 32.2190941139103}, {\"y_rep\": 50.8753382805446}, {\"y_rep\": 44.34094265541203}, {\"y_rep\": 72.74355828483442}, {\"y_rep\": 60.44875829209241}, {\"y_rep\": 40.99642997131059}, {\"y_rep\": 49.83330104920015}, {\"y_rep\": 20.256585884483993}, {\"y_rep\": 34.50210125090242}, {\"y_rep\": 64.28636019481328}, {\"y_rep\": 64.44936467441089}, {\"y_rep\": 46.67545222256634}, {\"y_rep\": 50.27367931869926}, {\"y_rep\": 40.45915093999004}, {\"y_rep\": 65.88240622825484}, {\"y_rep\": 51.7737959910689}, {\"y_rep\": 59.97847865579085}, {\"y_rep\": 67.49370042656554}, {\"y_rep\": 49.59469955135434}, {\"y_rep\": 50.71055859084544}, {\"y_rep\": 40.90956279858943}, {\"y_rep\": 52.39035782218983}, {\"y_rep\": 46.95065673015445}, {\"y_rep\": 58.419378985480556}, {\"y_rep\": 50.6234180200838}, {\"y_rep\": 38.47716252655345}, {\"y_rep\": 51.72396980765665}, {\"y_rep\": 32.87368266350401}, {\"y_rep\": 20.625401285369684}, {\"y_rep\": 39.00768089549578}, {\"y_rep\": 46.608369886723736}, {\"y_rep\": 56.30420715555023}, {\"y_rep\": 46.14111810836784}, {\"y_rep\": 39.40686699456313}, {\"y_rep\": 62.293777827129716}, {\"y_rep\": 47.4248991756565}, {\"y_rep\": 31.733805357482957}, {\"y_rep\": 45.392879855248765}, {\"y_rep\": 37.72856206871145}, {\"y_rep\": 46.069874979924236}, {\"y_rep\": 44.364963468104}, {\"y_rep\": 55.30279978016139}, {\"y_rep\": 68.49131851736652}, {\"y_rep\": 56.45171000197641}, {\"y_rep\": 37.366420195695724}, {\"y_rep\": 61.92628126412795}, {\"y_rep\": 58.33443971421399}, {\"y_rep\": 51.425269556648566}, {\"y_rep\": 55.93896462360156}, {\"y_rep\": 41.82414272756}, {\"y_rep\": 44.85416924276025}, {\"y_rep\": 54.15504648194955}, {\"y_rep\": 37.268853184615324}, {\"y_rep\": 45.92395897626964}, {\"y_rep\": 43.666469577043806}, {\"y_rep\": 70.35463552230041}, {\"y_rep\": 44.792965444973625}, {\"y_rep\": 43.07244514878189}, {\"y_rep\": 31.56467310765437}, {\"y_rep\": 50.03022137466961}, {\"y_rep\": 51.751589308619145}, {\"y_rep\": 34.382703560300854}, {\"y_rep\": 53.32838653800635}, {\"y_rep\": 68.08303563772631}, {\"y_rep\": 63.28515959092322}, {\"y_rep\": 63.39668278225653}, {\"y_rep\": 45.78797278947335}, {\"y_rep\": 20.801536821966227}, {\"y_rep\": 31.77626095154026}, {\"y_rep\": 43.36843348079833}, {\"y_rep\": 39.809098648879875}, {\"y_rep\": 40.08453816678275}, {\"y_rep\": 44.824345131474885}, {\"y_rep\": 51.09024275939255}, {\"y_rep\": 39.962852849657075}, {\"y_rep\": 44.65704333376459}, {\"y_rep\": 35.59963180631165}, {\"y_rep\": 45.04239741095972}, {\"y_rep\": 49.39182174631584}, {\"y_rep\": 60.349073309761934}, {\"y_rep\": 45.377490941171786}, {\"y_rep\": 25.24655332901935}, {\"y_rep\": 43.88898191288787}, {\"y_rep\": 51.87274722994424}, {\"y_rep\": 33.344358278237685}, {\"y_rep\": 40.11370068092866}, {\"y_rep\": 48.99899509530177}, {\"y_rep\": 51.73944585328274}, {\"y_rep\": 77.35251627695827}, {\"y_rep\": 43.882523202673454}, {\"y_rep\": 53.39152050771703}, {\"y_rep\": 43.46432196321021}, {\"y_rep\": 59.83310459344865}, {\"y_rep\": 48.800400751475784}, {\"y_rep\": 63.51161953490011}, {\"y_rep\": 65.6076989008805}, {\"y_rep\": 44.14205926443487}, {\"y_rep\": 33.05853913606275}, {\"y_rep\": 54.26827138759459}, {\"y_rep\": 50.733626568052706}, {\"y_rep\": 59.09939170010628}, {\"y_rep\": 58.65880689558538}, {\"y_rep\": 54.05519638856429}, {\"y_rep\": 58.96000383414585}, {\"y_rep\": 47.401450234046756}, {\"y_rep\": 50.093910014730405}, {\"y_rep\": 64.54670216016773}, {\"y_rep\": 57.41060908597349}, {\"y_rep\": 43.56467833973477}, {\"y_rep\": 47.77578991356285}, {\"y_rep\": 52.69293481285706}, {\"y_rep\": 63.29013018919369}, {\"y_rep\": 63.0125192781921}, {\"y_rep\": 55.51731541529314}, {\"y_rep\": 21.835441773481953}, {\"y_rep\": 42.96935473490247}, {\"y_rep\": 71.8701509793811}, {\"y_rep\": 51.29704622810116}, {\"y_rep\": 44.450534040791524}, {\"y_rep\": 44.695000998177726}, {\"y_rep\": 65.02175651837736}, {\"y_rep\": 38.357839940930106}, {\"y_rep\": 66.02038552080118}, {\"y_rep\": 38.47256794055732}, {\"y_rep\": 31.690798864781133}, {\"y_rep\": 53.97727589641304}, {\"y_rep\": 52.01296356074156}, {\"y_rep\": 69.34386761156912}, {\"y_rep\": 53.74841229267064}, {\"y_rep\": 41.93144211942676}, {\"y_rep\": 51.10858532723404}, {\"y_rep\": 47.2004734619641}, {\"y_rep\": 62.668148608079555}, {\"y_rep\": 42.68793429211843}, {\"y_rep\": 49.70250996349867}, {\"y_rep\": 63.43713340625392}, {\"y_rep\": 46.972690904736915}, {\"y_rep\": 64.64780806338315}, {\"y_rep\": 53.39203114488646}, {\"y_rep\": 33.16888986635678}, {\"y_rep\": 71.52303054527172}, {\"y_rep\": 71.16147132024577}, {\"y_rep\": 59.65251352281692}, {\"y_rep\": 58.41661463378767}, {\"y_rep\": 49.44445815817858}, {\"y_rep\": 38.95100890432473}, {\"y_rep\": 48.841805407467874}, {\"y_rep\": 41.21597963550266}, {\"y_rep\": 44.75679018524403}, {\"y_rep\": 55.6473706328379}, {\"y_rep\": 55.531054735231976}, {\"y_rep\": 47.19225513548431}, {\"y_rep\": 28.16493257686616}, {\"y_rep\": 51.32123801589585}, {\"y_rep\": 45.15493134952572}, {\"y_rep\": 61.85619815096277}, {\"y_rep\": 44.39412808037192}, {\"y_rep\": 36.56371719265151}, {\"y_rep\": 32.99549488469234}, {\"y_rep\": 61.88840209259275}, {\"y_rep\": 37.33427061208122}, {\"y_rep\": 55.59229346714695}, {\"y_rep\": 36.784401041342875}, {\"y_rep\": 51.555678673845065}, {\"y_rep\": 57.574495434720134}, {\"y_rep\": 65.32909825650623}, {\"y_rep\": 49.503038049449074}, {\"y_rep\": 55.774534555007136}, {\"y_rep\": 28.567702036836124}, {\"y_rep\": 38.52002507848361}, {\"y_rep\": 42.834684955514}, {\"y_rep\": 63.7283170914058}, {\"y_rep\": 84.59634213953265}, {\"y_rep\": 49.343814126047235}, {\"y_rep\": 38.684952650310734}, {\"y_rep\": 10.848140716029128}, {\"y_rep\": 48.07815025416114}, {\"y_rep\": 31.163708991960622}, {\"y_rep\": 71.14526699429433}, {\"y_rep\": 50.16510698068571}, {\"y_rep\": 46.701255983672056}, {\"y_rep\": 46.38831125301399}, {\"y_rep\": 43.454964037257426}, {\"y_rep\": 54.71739831048531}, {\"y_rep\": 46.614615399069145}, {\"y_rep\": 57.78451312299511}, {\"y_rep\": 61.44830289136391}, {\"y_rep\": 49.182949210421235}, {\"y_rep\": 43.78126670759583}, {\"y_rep\": 34.11129044487129}, {\"y_rep\": 50.95536015184723}, {\"y_rep\": 57.0887420892025}, {\"y_rep\": 52.163940614663886}, {\"y_rep\": 53.368568698308856}, {\"y_rep\": 49.889413961591146}, {\"y_rep\": 49.0957245502727}, {\"y_rep\": 72.07772415965971}, {\"y_rep\": 40.18627456912793}, {\"y_rep\": 58.68676275571746}, {\"y_rep\": 52.34013560827511}, {\"y_rep\": 60.91435386031277}, {\"y_rep\": 54.61318726357822}, {\"y_rep\": 62.30154221959681}, {\"y_rep\": 45.41681003202681}, {\"y_rep\": 54.593587372581645}, {\"y_rep\": -33.45187940303918}, {\"y_rep\": 52.70110366665598}, {\"y_rep\": 50.66448203161514}, {\"y_rep\": 62.0314554429622}, {\"y_rep\": 42.76644698087634}, {\"y_rep\": 30.95628708603988}, {\"y_rep\": 43.968783095737884}, {\"y_rep\": 47.20398440565909}, {\"y_rep\": 41.883614279909715}, {\"y_rep\": 54.97880882435115}, {\"y_rep\": 60.232562025701014}, {\"y_rep\": 58.909254445362265}, {\"y_rep\": 57.451739504049}, {\"y_rep\": 32.270480872021224}, {\"y_rep\": 54.8299850099825}, {\"y_rep\": 53.88624075736237}, {\"y_rep\": 51.40108124228515}, {\"y_rep\": 58.032823537319175}, {\"y_rep\": 52.307418925564846}, {\"y_rep\": 54.771052138640606}, {\"y_rep\": 54.95747170186424}, {\"y_rep\": 52.549183834957745}, {\"y_rep\": 57.812444685256224}, {\"y_rep\": 56.92930357165725}, {\"y_rep\": 39.943764159416446}, {\"y_rep\": 45.52947962071296}, {\"y_rep\": 62.46568877516573}, {\"y_rep\": 29.919153107785892}, {\"y_rep\": 54.22476841103307}, {\"y_rep\": 60.6099593559806}, {\"y_rep\": 35.20669982649678}, {\"y_rep\": 35.948544689899364}, {\"y_rep\": 40.41983524717579}, {\"y_rep\": 30.868269960438553}, {\"y_rep\": 47.800223959601006}, {\"y_rep\": 46.761622846321906}, {\"y_rep\": 64.22651114109583}, {\"y_rep\": 57.641183921626265}, {\"y_rep\": 59.42006547345067}, {\"y_rep\": 56.09178109237656}, {\"y_rep\": 46.39120423577705}, {\"y_rep\": 52.338952042954155}, {\"y_rep\": 50.366482242229495}, {\"y_rep\": 33.20779856066055}, {\"y_rep\": 40.31403212655813}, {\"y_rep\": 55.47938210880874}, {\"y_rep\": 39.41148085368239}, {\"y_rep\": 45.910755853662174}, {\"y_rep\": 42.504437894414885}, {\"y_rep\": 30.27959969300449}, {\"y_rep\": 48.496564074642066}, {\"y_rep\": 38.12273667658414}, {\"y_rep\": 44.46382674053716}, {\"y_rep\": 60.279324740179234}, {\"y_rep\": 44.83710104478632}, {\"y_rep\": 65.38032391474779}, {\"y_rep\": 49.91492462194459}, {\"y_rep\": 35.5261715120949}, {\"y_rep\": 36.708972051285755}, {\"y_rep\": 44.14588951487883}, {\"y_rep\": 47.40182060766757}, {\"y_rep\": 50.993566730609665}, {\"y_rep\": 38.950009728730734}, {\"y_rep\": 33.4174453132991}, {\"y_rep\": 28.42056638189696}, {\"y_rep\": 42.82715741585594}, {\"y_rep\": 46.39300041108579}, {\"y_rep\": 49.4943418919306}, {\"y_rep\": 40.45106401846806}, {\"y_rep\": 37.38537037711144}, {\"y_rep\": 11.97955661928943}, {\"y_rep\": 63.25766774092648}, {\"y_rep\": 56.36918072851451}, {\"y_rep\": 72.67652702492413}, {\"y_rep\": 52.13153069827135}, {\"y_rep\": 50.53251738452345}, {\"y_rep\": 69.76262124465805}, {\"y_rep\": 55.57157687633464}, {\"y_rep\": 39.8439759722967}, {\"y_rep\": 92.67805991008996}, {\"y_rep\": 68.81613200114708}, {\"y_rep\": 50.08565735519254}, {\"y_rep\": 50.855146254061495}, {\"y_rep\": 54.05235541799993}, {\"y_rep\": 49.38730265439502}, {\"y_rep\": 60.3146359188705}, {\"y_rep\": 45.1589516041886}, {\"y_rep\": 57.232057212219665}, {\"y_rep\": 50.08529967129161}, {\"y_rep\": 67.6324963562015}, {\"y_rep\": 34.49057914679049}, {\"y_rep\": 42.368384915964384}, {\"y_rep\": 56.55598148124673}, {\"y_rep\": 65.58230535143342}, {\"y_rep\": 57.85536935406739}, {\"y_rep\": 36.42860474098704}, {\"y_rep\": -23.02454337797918}, {\"y_rep\": 67.18965857152921}, {\"y_rep\": 50.59164328144755}, {\"y_rep\": 75.91355187688191}, {\"y_rep\": 43.54820830180509}, {\"y_rep\": -0.1306007373802185}, {\"y_rep\": 42.34742540557285}, {\"y_rep\": 44.31759431283734}, {\"y_rep\": 37.08077243045024}, {\"y_rep\": 48.30995717063316}, {\"y_rep\": 55.01802527308992}, {\"y_rep\": 49.89777601191313}, {\"y_rep\": 47.32183258214651}, {\"y_rep\": 50.79093090382229}, {\"y_rep\": 46.67715414576597}, {\"y_rep\": 51.190194683704576}, {\"y_rep\": 78.85282522337859}, {\"y_rep\": 49.00511099563777}, {\"y_rep\": 66.31961175188778}, {\"y_rep\": 40.836041432139346}, {\"y_rep\": 47.16392896976309}, {\"y_rep\": 26.53076916069175}, {\"y_rep\": 42.13603419546059}, {\"y_rep\": 46.2418791949291}, {\"y_rep\": 49.119394764978836}, {\"y_rep\": 65.3821348166359}, {\"y_rep\": 74.54838110342098}, {\"y_rep\": 13.624020806505868}, {\"y_rep\": 52.92900595666688}, {\"y_rep\": 52.355619663269145}, {\"y_rep\": 42.406778749565255}, {\"y_rep\": 48.99292450544972}, {\"y_rep\": 49.201837512456095}, {\"y_rep\": 58.696243903874304}, {\"y_rep\": 52.98694098615785}, {\"y_rep\": 32.652947122037475}, {\"y_rep\": 53.91272314691285}, {\"y_rep\": 57.19465197669519}, {\"y_rep\": 53.424483426058885}, {\"y_rep\": 43.166959085596126}, {\"y_rep\": 53.530923044228686}, {\"y_rep\": 62.80223888265083}, {\"y_rep\": 51.60017199548298}, {\"y_rep\": 59.53594425406964}, {\"y_rep\": 52.31032131371055}, {\"y_rep\": 39.21434364519396}, {\"y_rep\": 44.90107052821919}, {\"y_rep\": 57.3155776276779}, {\"y_rep\": 64.73666917516579}, {\"y_rep\": 48.39565170359557}, {\"y_rep\": 46.56427476756117}, {\"y_rep\": 53.042079368848206}, {\"y_rep\": 42.92973278633121}, {\"y_rep\": 61.575505790255676}, {\"y_rep\": 56.576951228722315}, {\"y_rep\": 61.68598261758665}, {\"y_rep\": 38.840134129345834}, {\"y_rep\": 40.504053253835565}, {\"y_rep\": 58.975764363051795}, {\"y_rep\": 44.89890229624395}, {\"y_rep\": 54.18861292602103}, {\"y_rep\": 68.32592497994949}, {\"y_rep\": 60.30631207037677}, {\"y_rep\": 43.359036667111525}, {\"y_rep\": 36.719498458323294}, {\"y_rep\": 52.32248104396765}, {\"y_rep\": 50.925208205230504}, {\"y_rep\": 47.87719498460613}, {\"y_rep\": 44.918674866717346}, {\"y_rep\": 47.237946035538265}, {\"y_rep\": 54.75747885668098}, {\"y_rep\": 47.353700495063975}, {\"y_rep\": 50.44801024469302}, {\"y_rep\": 38.039674389011765}, {\"y_rep\": 56.85487778594597}, {\"y_rep\": 42.250505535877856}, {\"y_rep\": 49.612600343654925}, {\"y_rep\": 48.992027527872935}, {\"y_rep\": 51.38382151786811}, {\"y_rep\": 66.7926306818329}, {\"y_rep\": 41.978775396899934}, {\"y_rep\": 7.2751523032267436}, {\"y_rep\": 43.933952509457185}, {\"y_rep\": 41.916784914001944}, {\"y_rep\": 42.05925724120368}, {\"y_rep\": 51.45482858368748}, {\"y_rep\": 42.995896121334695}, {\"y_rep\": 38.813117907382356}, {\"y_rep\": 42.93878934197527}, {\"y_rep\": 46.134814375910864}, {\"y_rep\": 49.14130206375675}, {\"y_rep\": 53.40071780220799}, {\"y_rep\": 38.87380942979954}, {\"y_rep\": 53.36324551416223}, {\"y_rep\": 41.87306585806786}, {\"y_rep\": 46.442885628275334}, {\"y_rep\": 43.61083495562888}, {\"y_rep\": 61.007674931837194}, {\"y_rep\": 53.79899370047249}, {\"y_rep\": 55.66430613622632}, {\"y_rep\": 45.31470827879572}, {\"y_rep\": 52.532852039705055}, {\"y_rep\": 67.10959738505835}, {\"y_rep\": 69.76207548135608}, {\"y_rep\": 60.87297922044468}, {\"y_rep\": 63.52632173232347}, {\"y_rep\": 51.24495493465423}, {\"y_rep\": 50.60551381983271}, {\"y_rep\": 47.19865752591598}, {\"y_rep\": 48.99304377795527}, {\"y_rep\": 56.67603192601517}, {\"y_rep\": 50.08199927282729}, {\"y_rep\": -3.849663372759754}, {\"y_rep\": 50.87152996748206}, {\"y_rep\": 37.55580773209152}, {\"y_rep\": 60.31838322973648}, {\"y_rep\": 47.77257401818574}, {\"y_rep\": 57.082807831079435}, {\"y_rep\": 59.281679438625}, {\"y_rep\": 47.62562171782924}, {\"y_rep\": 52.430305230283984}, {\"y_rep\": 61.725182768156415}, {\"y_rep\": 47.09360265810704}, {\"y_rep\": 51.66756706165693}, {\"y_rep\": 63.97970941758014}, {\"y_rep\": 44.748399060220116}, {\"y_rep\": 55.14360777070812}, {\"y_rep\": 66.91869120574837}, {\"y_rep\": 43.18044409193944}, {\"y_rep\": 37.87743778395328}, {\"y_rep\": 52.75109022786192}, {\"y_rep\": 42.642940821981874}, {\"y_rep\": 55.22335900026599}, {\"y_rep\": 34.240689392163304}, {\"y_rep\": 49.555092605417606}, {\"y_rep\": 39.564393528053884}, {\"y_rep\": 57.28579007329905}, {\"y_rep\": 47.34240099683149}, {\"y_rep\": 63.852931884349466}, {\"y_rep\": 46.061086912022574}, {\"y_rep\": 66.54995335569227}, {\"y_rep\": 55.68632145357273}, {\"y_rep\": 48.31166208932214}, {\"y_rep\": 49.53770958416455}, {\"y_rep\": 51.35152728124623}, {\"y_rep\": 49.289734003066016}, {\"y_rep\": 29.509652554789177}, {\"y_rep\": 56.62058175440843}, {\"y_rep\": 51.52445917195256}, {\"y_rep\": 54.36581997422653}, {\"y_rep\": 53.309231062122564}, {\"y_rep\": 61.132462531856014}, {\"y_rep\": 28.30301163403384}, {\"y_rep\": 54.39752271259675}, {\"y_rep\": 57.20939655285601}, {\"y_rep\": -4.6145738071113325}, {\"y_rep\": 68.0958730746878}, {\"y_rep\": 40.93184169684775}, {\"y_rep\": 46.489012748738524}, {\"y_rep\": 39.26101089486934}, {\"y_rep\": 41.30883598217607}, {\"y_rep\": 40.568938956758835}, {\"y_rep\": 60.62864202917259}, {\"y_rep\": 42.347538949408474}, {\"y_rep\": 47.472313795369665}, {\"y_rep\": 72.1698967867444}, {\"y_rep\": 69.75744999044895}, {\"y_rep\": 48.54402324480608}, {\"y_rep\": 42.464161984997595}, {\"y_rep\": 41.71682757829181}, {\"y_rep\": 68.03917009823924}, {\"y_rep\": 59.0425076608298}, {\"y_rep\": 39.305356351364345}, {\"y_rep\": 46.310130373883574}, {\"y_rep\": 45.084654051833475}, {\"y_rep\": 50.38227845205521}, {\"y_rep\": 41.76786822654999}, {\"y_rep\": 45.49034888648899}, {\"y_rep\": 42.36482755728963}, {\"y_rep\": 41.23006919562292}, {\"y_rep\": 51.613864984126046}, {\"y_rep\": 44.62324654445349}, {\"y_rep\": 37.07964503431603}, {\"y_rep\": 54.42720693707588}, {\"y_rep\": 58.408969646745156}, {\"y_rep\": 49.40647662677768}, {\"y_rep\": 61.449779238200335}, {\"y_rep\": 39.26743551811122}, {\"y_rep\": 11.189855818999215}, {\"y_rep\": 64.85183963938235}, {\"y_rep\": 42.82306368650461}, {\"y_rep\": 52.440653604745776}, {\"y_rep\": 66.19160907357667}, {\"y_rep\": 45.51027039689034}, {\"y_rep\": 64.480244752718}, {\"y_rep\": 52.1981204395499}, {\"y_rep\": 61.652092207042905}, {\"y_rep\": 61.18506247496646}, {\"y_rep\": 57.21421653391589}, {\"y_rep\": 53.48312885441414}, {\"y_rep\": 45.04026006257806}, {\"y_rep\": 49.106573360909984}, {\"y_rep\": 65.85576245851023}, {\"y_rep\": 64.88138186644214}, {\"y_rep\": 40.533818818955595}, {\"y_rep\": 36.61022090126133}, {\"y_rep\": 56.74662740381422}, {\"y_rep\": 59.39833310214357}, {\"y_rep\": 53.589487866038795}, {\"y_rep\": 53.23433062970312}, {\"y_rep\": 45.84157115629737}, {\"y_rep\": 46.31586050019345}, {\"y_rep\": 38.40087767482748}, {\"y_rep\": 51.7998443571363}, {\"y_rep\": 55.095271482416386}, {\"y_rep\": 52.22211967275241}, {\"y_rep\": 29.1877435285105}, {\"y_rep\": 35.929607651472374}, {\"y_rep\": 43.52984866216595}, {\"y_rep\": 74.07274891492487}, {\"y_rep\": 48.230024802301344}, {\"y_rep\": 54.84552832131717}, {\"y_rep\": -2.764792663298126}, {\"y_rep\": 38.492095397329365}, {\"y_rep\": 42.066933095668645}, {\"y_rep\": 43.87828983289734}, {\"y_rep\": 45.746559282081584}, {\"y_rep\": 30.126248190691083}, {\"y_rep\": 29.31088244519095}, {\"y_rep\": 35.32052390000211}, {\"y_rep\": 39.142283758032875}, {\"y_rep\": 41.728991096289036}, {\"y_rep\": 22.704524343682305}, {\"y_rep\": 48.127213554012705}, {\"y_rep\": 16.67456140680319}, {\"y_rep\": 57.7197121917314}, {\"y_rep\": 46.557566287403276}, {\"y_rep\": 56.319942020837004}, {\"y_rep\": 51.70095435768994}, {\"y_rep\": 33.59404699121298}, {\"y_rep\": 58.32395786262886}, {\"y_rep\": 63.42136468999394}, {\"y_rep\": 47.36564321645777}, {\"y_rep\": 61.090976837882025}, {\"y_rep\": 58.107716021651974}, {\"y_rep\": 52.615164777261924}, {\"y_rep\": 39.78276720102693}, {\"y_rep\": 44.55970964746666}, {\"y_rep\": 55.79855455228575}, {\"y_rep\": 44.83974943746838}, {\"y_rep\": 58.74488954486404}, {\"y_rep\": 44.41546521959152}, {\"y_rep\": 38.94534961114658}, {\"y_rep\": 40.204121823637}, {\"y_rep\": 59.64363231075772}, {\"y_rep\": 54.843826713485875}, {\"y_rep\": 45.99647547595687}, {\"y_rep\": 57.459262542063826}, {\"y_rep\": 52.49997387788595}, {\"y_rep\": 40.50937987814054}, {\"y_rep\": 54.165022301187044}, {\"y_rep\": 45.88028929903443}, {\"y_rep\": 46.41913059740789}, {\"y_rep\": 41.10779334115804}, {\"y_rep\": 44.31297422720942}, {\"y_rep\": 49.91932417260585}, {\"y_rep\": 47.95787669333553}, {\"y_rep\": 49.01024532885452}, {\"y_rep\": 28.91702448407309}, {\"y_rep\": 49.26829308094478}, {\"y_rep\": 40.97526355844089}], \"data-54333941b8175b3efb77ea907d4ee455\": [{\"muestra\": 47.586596099429215}, {\"muestra\": 41.935814329309096}, {\"muestra\": 54.72364299279228}, {\"muestra\": 49.68349666931159}, {\"muestra\": 59.447837904734556}, {\"muestra\": 51.51355575647756}, {\"muestra\": 42.66629685389873}, {\"muestra\": 44.03432885091328}, {\"muestra\": 56.635580636970644}, {\"muestra\": 23.76488557309187}, {\"muestra\": 48.41807763607247}, {\"muestra\": 49.38639604826662}, {\"muestra\": 54.93978696859394}, {\"muestra\": 58.0464929239073}, {\"muestra\": 47.95860329999435}, {\"muestra\": 44.034536731337525}, {\"muestra\": 54.44763860204147}, {\"muestra\": 56.84904968947463}, {\"muestra\": 58.798461285279245}, {\"muestra\": 55.35091367049784}, {\"muestra\": 68.93209100947185}, {\"muestra\": 42.11983654180844}, {\"muestra\": 54.703585389950426}, {\"muestra\": 36.15877108949461}, {\"muestra\": 60.56640486347263}, {\"muestra\": 49.12874392572846}, {\"muestra\": 51.47262056868898}, {\"muestra\": 38.399808023129765}, {\"muestra\": 40.370776882915735}, {\"muestra\": 44.89117127283623}, {\"muestra\": 39.831404355038075}, {\"muestra\": 45.17032986512886}, {\"muestra\": 52.05439481027097}, {\"muestra\": 47.892389105813514}, {\"muestra\": 47.32518772376723}, {\"muestra\": 39.28562942685704}, {\"muestra\": 32.32003346051363}, {\"muestra\": 78.23034581549096}, {\"muestra\": 40.40534007075042}, {\"muestra\": 41.03513978270699}, {\"muestra\": 49.58453377963871}, {\"muestra\": 53.54365438530544}, {\"muestra\": 64.90067477439032}, {\"muestra\": 39.02429851730183}, {\"muestra\": 61.29760125931921}, {\"muestra\": 34.817067142802685}, {\"muestra\": 50.223495848014984}, {\"muestra\": 42.52241058003516}, {\"muestra\": 43.21373364919643}, {\"muestra\": 50.86557329134583}, {\"muestra\": 31.34727482211238}, {\"muestra\": 55.60719454775179}, {\"muestra\": 59.20075059363428}, {\"muestra\": 52.735348635072285}, {\"muestra\": 48.01820294540945}, {\"muestra\": 37.98134316188208}, {\"muestra\": 55.29139409936742}, {\"muestra\": 49.639254909848916}, {\"muestra\": 46.86202591592521}, {\"muestra\": 69.02069797266068}, {\"muestra\": 49.13216722698353}, {\"muestra\": 59.62819440661218}, {\"muestra\": 48.9022604302391}, {\"muestra\": 48.22209390027863}, {\"muestra\": 47.16188107349478}, {\"muestra\": 40.01043701380782}, {\"muestra\": 60.870792456181945}, {\"muestra\": 67.87401017671685}, {\"muestra\": 50.701969097196944}, {\"muestra\": 39.82319962368228}, {\"muestra\": 52.50029285675601}, {\"muestra\": 48.58423912051935}, {\"muestra\": 67.82623392338431}, {\"muestra\": 51.72671150104462}, {\"muestra\": 37.43572957922563}, {\"muestra\": 40.53203936575045}, {\"muestra\": 53.80552249843505}, {\"muestra\": 63.01092207153328}, {\"muestra\": 41.96981901575684}, {\"muestra\": 37.25905737726731}, {\"muestra\": 39.73944267545105}, {\"muestra\": 45.18785515282673}, {\"muestra\": 34.32518446181524}, {\"muestra\": 38.27225659973898}, {\"muestra\": 53.19696306193629}, {\"muestra\": 44.7407828974294}, {\"muestra\": 55.94904457890011}, {\"muestra\": 45.19186845052923}, {\"muestra\": 63.59102890895228}, {\"muestra\": 50.90256334076663}, {\"muestra\": 48.94331343605259}, {\"muestra\": 49.39411043121598}, {\"muestra\": 46.29329692430485}, {\"muestra\": 49.63532025819551}, {\"muestra\": 53.79557703447158}, {\"muestra\": 34.65413966169933}, {\"muestra\": 51.34761071936036}, {\"muestra\": 68.60647236784301}, {\"muestra\": 55.57143972374565}, {\"muestra\": 36.085495152371365}, {\"muestra\": 46.10604100470747}, {\"muestra\": 59.149011769425144}, {\"muestra\": 42.8756047232424}, {\"muestra\": 44.15016480975904}, {\"muestra\": 60.68936850988041}, {\"muestra\": 52.42781540288482}, {\"muestra\": 62.62152662424849}, {\"muestra\": 61.45834889397815}, {\"muestra\": 48.55070107019101}, {\"muestra\": 47.33793503469898}, {\"muestra\": 58.46791817431199}, {\"muestra\": 51.29903358074342}, {\"muestra\": 45.34831225452517}, {\"muestra\": 56.24862039065462}, {\"muestra\": 63.95616269438891}, {\"muestra\": 68.39547137788858}, {\"muestra\": 51.02619775702408}, {\"muestra\": 51.801099173890805}, {\"muestra\": 46.644942133489224}, {\"muestra\": 58.15819396272102}, {\"muestra\": 35.38783792982616}, {\"muestra\": 32.073887118231525}, {\"muestra\": 39.31907274246723}, {\"muestra\": 69.34044171949269}, {\"muestra\": 75.10431963849086}, {\"muestra\": 46.77762313582111}, {\"muestra\": 55.52796541620938}, {\"muestra\": 39.168974003852796}, {\"muestra\": 47.97118271307087}, {\"muestra\": 59.08474163123951}, {\"muestra\": 30.08202840866279}, {\"muestra\": 42.47027134190606}, {\"muestra\": 31.76245060036369}, {\"muestra\": 40.460143637448056}, {\"muestra\": 61.968498848619525}, {\"muestra\": 34.381882491660086}, {\"muestra\": 49.06366687882372}, {\"muestra\": 53.417381020255505}, {\"muestra\": 61.39618123739663}, {\"muestra\": 56.099757669040436}, {\"muestra\": 37.6237978751159}, {\"muestra\": 62.08479862536494}, {\"muestra\": 39.40654041743137}, {\"muestra\": 51.236743616386}, {\"muestra\": 38.34330229673338}, {\"muestra\": 57.23878596575949}, {\"muestra\": 42.74098478486435}, {\"muestra\": 62.96779590404795}, {\"muestra\": 49.12307752410569}, {\"muestra\": 42.642208183231155}]}}, {\"mode\": \"vega-lite\"});\n",
       "</script>"
      ],
      "text/plain": [
       "alt.HConcatChart(...)"
      ]
     },
     "execution_count": 17,
     "metadata": {},
     "output_type": "execute_result"
    }
   ],
   "source": [
    "plot_ppc_data"
   ]
  },
  {
   "cell_type": "markdown",
   "metadata": {
    "slideshow": {
     "slide_type": "subslide"
    }
   },
   "source": [
    "¿Metropolis-Hastings siempre converge a la posterior?\n",
    "\n",
    "Respuesta corta: sí, el algoritmo converge cuando se cadena se hace bien (aunque puede demorarse). Respuesta larga, ver capitulo 7, Kruschke, 2da edición. \n"
   ]
  },
  {
   "cell_type": "markdown",
   "metadata": {
    "slideshow": {
     "slide_type": "subslide"
    }
   },
   "source": [
    "¿Metropolis-Hastings siempre converge a la posterior?\n",
    "\n",
    "Intuición. Tenemos la posterior $\\theta=0.15$. Esta cadena converge a la posterior.\n",
    "\n",
    "<center><img src=\"img/3_CB/mcmc_diagram.svg\" width = \"350\" height = '350'></center>\n",
    "<p style = 'font-size: 10px'>Fuente: https://people.duke.edu/~ccc14/sta-663/MCMC.html </p>\n",
    "\n",
    "Converge si la cadena es:\n",
    "* Irreducible (se puede ir a cualquier estado)\n",
    "* Aperiodica (no nos quedamos en un loop entre estados)\n",
    "* Recurrente (el tiempo de volver a un estado dado es finito)"
   ]
  },
  {
   "cell_type": "markdown",
   "metadata": {
    "slideshow": {
     "slide_type": "slide"
    }
   },
   "source": [
    "# Herramienta complementaria: gradient descent  "
   ]
  },
  {
   "cell_type": "markdown",
   "metadata": {
    "slideshow": {
     "slide_type": "subslide"
    }
   },
   "source": [
    "Objetivo: obtener el posterior\n",
    "\n",
    "Solución anterior: método estocástico (Markov + Montecarlo)\n",
    "\n",
    "Solución complementaria: seguir un gradiente\n"
   ]
  },
  {
   "cell_type": "markdown",
   "metadata": {
    "slideshow": {
     "slide_type": "subslide"
    }
   },
   "source": [
    "¿Qué es gradient descent (ascent)?<br>\n",
    "Metáfora alpinista (punto más alto) o urbanista (punto más bajo)\n",
    "\n",
    "<center><img src=\"img/3_CB/3D_panorama.svg\" width = \"500\" height = '500'></center>\n"
   ]
  },
  {
   "cell_type": "markdown",
   "metadata": {
    "slideshow": {
     "slide_type": "subslide"
    }
   },
   "source": [
    "El algoritmo para descent (minimizar) se ve algo así:\n",
    "* Calcular el gradiente (pendiente) negativo de la función en la posición actual: $\\nabla f(x_k)$\n",
    "\n",
    "* Moverse en dirección del gradiente negativo."
   ]
  },
  {
   "cell_type": "markdown",
   "metadata": {
    "slideshow": {
     "slide_type": "subslide"
    }
   },
   "source": [
    "Veamos la implementación de github.com/dtnewman/ con:\n",
    "\n",
    "$$f(x) = x^3 - 2x^2+2$$"
   ]
  },
  {
   "cell_type": "code",
   "execution_count": 20,
   "metadata": {
    "slideshow": {
     "slide_type": "fragment"
    }
   },
   "outputs": [],
   "source": [
    "fig, ax = plt.subplots(1,1, figsize=[5,4.5]);\n",
    "f = lambda x: x**3-2*x**2+2  \n",
    "x = np.linspace(-1,2.5,1000)\n",
    "ax.plot(x, f(x), lw = 3);\n",
    "ax.set_title('Encontrar el mínimo (local)', fontsize=25);\n",
    "#fig.savefig(\"img/3_CB/Gradient_Desc.svg\"), plt.close();\n",
    "plt.close()"
   ]
  },
  {
   "cell_type": "markdown",
   "metadata": {
    "slideshow": {
     "slide_type": "fragment"
    }
   },
   "source": [
    "<center><img src=\"img/3_CB/Gradient_Desc.svg\" width = \"400\" height = '400'></center>"
   ]
  },
  {
   "cell_type": "code",
   "execution_count": 21,
   "metadata": {
    "slideshow": {
     "slide_type": "subslide"
    }
   },
   "outputs": [],
   "source": [
    "# Código 2D gradient descent github.com/dtnewman/stochastic_gradient_descent/\n",
    "\n",
    "def f_prime(x): #derivada de nuestra función\n",
    "    return 3*x**2-4*x\n",
    "\n",
    "x_old,  x_new = 0, 2.5 #posición inicial\n",
    "n_k = 0.01 #tamaño del paso\n",
    "precision = 0.001\n",
    "x_list, y_list = [x_new], [f(x_new)]    \n",
    "while abs(x_new - x_old) > precision:       \n",
    "    x_old = x_new\n",
    "    s_k = -f_prime(x_old)\n",
    "    x_new = x_old + n_k * s_k #La \"fuerza\" del movimiento depende del gradiente\n",
    "    x_list.append(x_new), y_list.append(f(x_new))        \n"
   ]
  },
  {
   "cell_type": "code",
   "execution_count": 22,
   "metadata": {
    "slideshow": {
     "slide_type": "skip"
    }
   },
   "outputs": [],
   "source": [
    "#Plot\n",
    "def animate(i, x_list):\n",
    "    idx = int(i)\n",
    "    ax.plot(x_list[i], f(x_list[i]),'ro')\n",
    "    if idx>0:\n",
    "        x = x_list[(idx-1):(idx+1)]\n",
    "        y = [f(x[0]),f(x[1])]\n",
    "        ax.plot(x,y,'r')\n",
    "fig, ax = plt.subplots(1,1, figsize=[7,7]);\n",
    "ax.set_title('Encontrar el mínimo (local)', fontsize=25)\n",
    "x = np.linspace(-0.75,2.5,1000)\n",
    "ax.plot(x, f(x), lw = 3);\n",
    "# call the animator.  blit=True means only re-draw the parts that have changed.\n",
    "anim = animation.FuncAnimation(fig, animate, interval = 500, \n",
    "                               frames = len(x_list), blit=False, fargs = ([x_list]))\n",
    "writer = animation.PillowWriter(fps=5)\n",
    "#anim.save('img/3_CB/Gradient_animation.gif', writer = writer); #Compress online\n",
    "plt.close()"
   ]
  },
  {
   "cell_type": "markdown",
   "metadata": {
    "slideshow": {
     "slide_type": "fragment"
    }
   },
   "source": [
    "<center><img src=\"img/3_CB/Gradient_animation.gif\" width = \"350\" height = '350'></center>"
   ]
  },
  {
   "cell_type": "markdown",
   "metadata": {
    "slideshow": {
     "slide_type": "subslide"
    }
   },
   "source": [
    "¿Podemos acelerar el algoritmo? \n",
    "\n",
    "Sí. Podemos hacer el paso adaptativo. \n",
    "\n",
    "En el siguiente ejemplo hacemos \"trampa\" con una función minimizadora de Python. Lo importante es ver que se puede ser creativo en cómo explorar el espacio de la función."
   ]
  },
  {
   "cell_type": "code",
   "execution_count": 23,
   "metadata": {
    "slideshow": {
     "slide_type": "subslide"
    }
   },
   "outputs": [],
   "source": [
    "# Pasamos esta función a un minimizador (fmin)\n",
    "def f2(n,x,s):\n",
    "    #n: paso; fmin cambia este para minimizar y\n",
    "    #s: gradiente; x: coordenada x\n",
    "    x = x + n*s #desplazamiento en x\n",
    "    y = f(x) #y (a minimizar)\n",
    "    return y \n",
    "\n",
    "x_old,  x_new = 0, 2.5 #posición inicial\n",
    "n_k_init = 0.1 #tamaño del paso (valor inicial a fmin)\n",
    "x_list, y_list = [x_new], [f(x_new)]\n",
    "while abs(x_new - x_old) > precision:\n",
    "    x_old = x_new\n",
    "    s_k = -f_prime(x_old)   \n",
    "    \n",
    "    # use scipy fmin function to find ideal step size.\n",
    "    n_k = fmin(f2,n_k_init,(x_old,s_k), full_output = False, disp = False)\n",
    "    \n",
    "    x_new = x_old + n_k * s_k\n",
    "    x_list.append(x_new)\n",
    "    y_list.append(f(x_new))"
   ]
  },
  {
   "cell_type": "code",
   "execution_count": 24,
   "metadata": {
    "slideshow": {
     "slide_type": "skip"
    }
   },
   "outputs": [],
   "source": [
    "fig, ax = plt.subplots(1,1, figsize=[7,7]);\n",
    "ax.set_title('Encontrar el mínimo (local)\\n adaptativo', fontsize=25)\n",
    "x = np.linspace(-0.75,2.5,1000)\n",
    "ax.plot(x, f(x), lw = 3);\n",
    "# call the animator.  blit=True means only re-draw the parts that have changed.\n",
    "anim = animation.FuncAnimation(fig, animate, interval = 500, \n",
    "                               frames = len(x_list), blit=False, fargs = ([x_list]))\n",
    "writer = animation.PillowWriter(fps=5)\n",
    "#anim.save('img/3_CB/Gradient_adapt_animation.gif', writer = writer); #Compress online\n",
    "plt.close()"
   ]
  },
  {
   "cell_type": "markdown",
   "metadata": {
    "slideshow": {
     "slide_type": "subslide"
    }
   },
   "source": [
    "|<img src=\"img/3_CB/Gradient_animation.gif\" width = \"300\" height = '300'>|<img src=\"img/3_CB/Gradient_adapt_animation.gif\" width = \"300\" height = '300'>|\n",
    "|:-:|:-:|\n",
    "|||"
   ]
  },
  {
   "cell_type": "markdown",
   "metadata": {
    "slideshow": {
     "slide_type": "subslide"
    }
   },
   "source": [
    "Gradient descent no asegura encontrar mínimos (máximos) globales, solo locales.\n",
    "\n",
    "Podemos buscar óptimos (locales) de cualquier función. Por ejemplo, de una función de minimos cuadrados ordinarios (OLS, por sus siglas en inglés):\n",
    "$${1 \\over m} \\sum\\limits_{i=1}^m (h_\\beta(x_i)-y_i)^2$$\n",
    "\n",
    "Puede haber varios $\\beta$. Es el mismo algoritmo pero con derivadas parciales."
   ]
  },
  {
   "cell_type": "markdown",
   "metadata": {
    "slideshow": {
     "slide_type": "subslide"
    }
   },
   "source": [
    "¿Qué tiene que ver con Bayes?\n",
    "\n",
    "La posterior $p(\\theta_1,...\\theta_n|data)$ es una función multidimensional. Hay algoritmos MCMC que explotan gradientes, por ejemplo Hamiltonian MCMC. \n",
    "\n",
    "<center><img src=\"img/3_CB/3D_panorama.svg\" width = \"400\" height = '400'></center>"
   ]
  },
  {
   "cell_type": "markdown",
   "metadata": {
    "slideshow": {
     "slide_type": "subslide"
    }
   },
   "source": [
    "El MCMC hamiltoniano es popular. Esta es la intuición: recorre el posterior usando gradientes y momentum.\n",
    "\n",
    "<center><img src=\"img/3_CB/Hamiltonian_MCMC_1.svg\" width = \"475\" height = '475'></center>\n",
    "\n",
    "Fuente: Betancourt (2018)"
   ]
  },
  {
   "cell_type": "markdown",
   "metadata": {
    "slideshow": {
     "slide_type": "slide"
    }
   },
   "source": [
    "# Variational inference"
   ]
  },
  {
   "cell_type": "markdown",
   "metadata": {
    "slideshow": {
     "slide_type": "subslide"
    }
   },
   "source": [
    "Metáfora pintor (minimizar distancia)\n",
    "<center><img src=\"img/3_CB/triple_self_portrait.jpg\" width = \"400\" height = '400'></center>\n",
    "<p style = 'font-size: 15px'>Fuente: https://displate.com/tonycenteno/displates </p>\n"
   ]
  },
  {
   "cell_type": "markdown",
   "metadata": {
    "slideshow": {
     "slide_type": "subslide"
    }
   },
   "source": [
    "Problema: algunas posterior son difíciles de analizar matemáticamente o recorrer con MCMC.\n",
    "\n",
    "Solución de variational inference: Escoger una distribución lo suficientemente parecida y que sea fácil de samplear. Esa distribución la llaman variational."
   ]
  },
  {
   "cell_type": "markdown",
   "metadata": {
    "slideshow": {
     "slide_type": "subslide"
    }
   },
   "source": [
    "¿Qué significa que dos distribuciones sean parecidas?\n",
    "<center><img src=\"img/3_CB/KL_1.svg\" width = \"600\" height = '600'></center>\n"
   ]
  },
  {
   "cell_type": "markdown",
   "metadata": {
    "slideshow": {
     "slide_type": "subslide"
    }
   },
   "source": [
    "Varios criterios. Usaremos divergencia Kullback–Leibler (KL)\n",
    "\n",
    "$$ D_{KL} (q(z)\\|p(z|x)) = \\int_z q(z) log \\left(\\frac{q(z)}{p(z|x)} \\right)dz$$\n",
    "\n",
    "$q(z)$: Candidata (variational) <br>\n",
    "$p(z|x)$: Posterior \n",
    "\n",
    "Positiva y asimétrica: \n",
    "\n",
    "\\begin{equation} D_{KL} (q(z)\\|p(z|x)) \\ne D_{KL} (p(z|x)\\|q(z))\\end{equation}\n",
    "\n"
   ]
  },
  {
   "cell_type": "markdown",
   "metadata": {
    "slideshow": {
     "slide_type": "subslide"
    }
   },
   "source": [
    "Es el promedio de $log \\left(\\frac{q(z)}{p(z|x)} \\right)$, ponderando por $q(z)$\n",
    "\n",
    "$$ D_{KL} (q(z)\\|p(z|x)) = \\int_z q(z) log \\left(\\frac{q(z)}{p(z|x)} \\right)dz$$\n",
    "\n",
    "$log \\left(\\frac{q(z)}{p(z|x)} \\right) = log(p(x)) - log(p(z|x))$. Es decir, es el promedio de la diferencia de (log) probabilidades de z. \n",
    "\n",
    "Mide cuanta información se pierde cuando usamos p para aproximar q. \n",
    "\n",
    "Objetivo: minimizar esta cantidad (e.g. con gradient descent).\n"
   ]
  },
  {
   "cell_type": "code",
   "execution_count": 25,
   "metadata": {
    "slideshow": {
     "slide_type": "subslide"
    }
   },
   "outputs": [
    {
     "name": "stdout",
     "output_type": "stream",
     "text": [
      "La divergencia KL entre q y p es:  8.7396\n"
     ]
    }
   ],
   "source": [
    "#Ejemplo simple\n",
    "def KL(x, p, q):\n",
    "    return p(x) * np.log( p(x) / q(x) ) \n",
    "p = st.norm(10,2).pdf\n",
    "q = st.norm(18,4).pdf\n",
    "kl_int, err = integrate.quad(KL,-30,30,args=(q,p))\n",
    "print(\"La divergencia KL entre q y p es: \", round(kl_int,4))"
   ]
  },
  {
   "cell_type": "markdown",
   "metadata": {
    "slideshow": {
     "slide_type": "fragment"
    }
   },
   "source": [
    "<center><img src=\"img/3_CB/KL_2.svg\" width = \"600\" height = '600'></center>"
   ]
  },
  {
   "cell_type": "markdown",
   "metadata": {
    "slideshow": {
     "slide_type": "subslide"
    }
   },
   "source": [
    "Queremos minimizar la divergencia entre la posterior $p$ y la candidata $q$, que es más fácil de samplear. \n",
    "\n",
    "Pero primero, escribamos la divergencia KL de otra forma."
   ]
  },
  {
   "cell_type": "markdown",
   "metadata": {
    "slideshow": {
     "slide_type": "subslide"
    }
   },
   "source": [
    "\\begin{aligned}\n",
    "D_{\\text{KL}} \\big( q(\\boldsymbol{z}) || p(\\boldsymbol{z} | \\boldsymbol{x}) \\big) &= \\int\\limits_{\\boldsymbol{z}} q(\\boldsymbol{z}) \\log \\Big[ \\frac{q(\\boldsymbol{z})}{p(\\boldsymbol{z} | \\boldsymbol{x})} \\Big] d\\boldsymbol{z} \\\\\n",
    "\\end{aligned}\n",
    " "
   ]
  },
  {
   "cell_type": "markdown",
   "metadata": {
    "slideshow": {
     "slide_type": "fragment"
    }
   },
   "source": [
    "Apliquemos propiedad de logaritmos y dividamos la integral\n",
    "\n",
    "\\begin{aligned}\n",
    "&= \\int\\limits_{\\boldsymbol{z}} \\Big[ q(\\boldsymbol{z}) \\log q(\\boldsymbol{z}) \\Big] d\\boldsymbol{z} - \\int\\limits_{\\boldsymbol{z}} \\Big[ q(\\boldsymbol{z}) \\log p(\\boldsymbol{z} | \\boldsymbol{x}) \\Big] d\\boldsymbol{z}  \n",
    "\\end{aligned}\n"
   ]
  },
  {
   "cell_type": "markdown",
   "metadata": {
    "slideshow": {
     "slide_type": "fragment"
    }
   },
   "source": [
    "Son promedios, ponderados por $q(z)$\n",
    "\n",
    "\\begin{aligned}\n",
    "&= \\mathbb{E}_{q} \\big[ \\log q(\\boldsymbol{z}) \\big] - \\mathbb{E}_{q} \\big[ \\log p(\\boldsymbol{z} | \\boldsymbol{x}) \\big] \n",
    "\\end{aligned}\n",
    "\n"
   ]
  },
  {
   "cell_type": "markdown",
   "metadata": {
    "slideshow": {
     "slide_type": "subslide"
    }
   },
   "source": [
    "Apliquemos la definición de probabilidad condicional\n",
    "\n",
    "\\begin{aligned}\n",
    "&= \\mathbb{E}_{q} \\big[ \\log q(\\boldsymbol{z}) \\big] - \\mathbb{E}_{q} \\big[ \\log p(\\boldsymbol{z} | \\boldsymbol{x}) \\big] \\\\\n",
    "&= \\mathbb{E}_{q} \\big[ \\log q(\\boldsymbol{z}) \\big] - \\mathbb{E}_{q} \\bigg[ \\log \\Big[ \\frac{p(\\boldsymbol{x}, \\boldsymbol{z}) }{p(\\boldsymbol{x})} \\Big] \\bigg] \n",
    "\\end{aligned}\n"
   ]
  },
  {
   "cell_type": "markdown",
   "metadata": {
    "slideshow": {
     "slide_type": "fragment"
    }
   },
   "source": [
    "Propiedad de logaritmos \n",
    "\n",
    "\\begin{aligned}\n",
    "&= \\mathbb{E}_{q} \\big[ \\log q(\\boldsymbol{z}) \\big] - \\mathbb{E}_{q} \\big[ \\log p(\\boldsymbol{x}, \\boldsymbol{z}) \\big] + \\mathbb{E}_{q} \\big[ \\log p(\\boldsymbol{x}) \\big]\n",
    "\\end{aligned}\n"
   ]
  },
  {
   "cell_type": "markdown",
   "metadata": {
    "slideshow": {
     "slide_type": "fragment"
    }
   },
   "source": [
    "$\\mathbb{E}_{q} \\big[ \\log p(\\boldsymbol{x}) \\big] = \\log p(\\boldsymbol{x})$ i.e. el prior de x (i.e. data) no depende de q(z) por definición\n",
    "\n",
    "\\begin{aligned}\n",
    "&= \\mathbb{E}_{q} \\big[ \\log q(\\boldsymbol{z}) \\big] - \\mathbb{E}_{q} \\big[ \\log p(\\boldsymbol{x}, \\boldsymbol{z}) \\big] + \\log p(\\boldsymbol{x})\n",
    "\\end{aligned}"
   ]
  },
  {
   "cell_type": "markdown",
   "metadata": {
    "slideshow": {
     "slide_type": "subslide"
    }
   },
   "source": [
    "Tenemos entonces que la divergencia KL es:\n",
    "\n",
    "\\begin{aligned}\n",
    "D_{\\text{KL}} \\big( q(\\boldsymbol{z}) || p(\\boldsymbol{z} | \\boldsymbol{x}) \\big) &= \\mathbb{E}_{q} \\big[ \\log q(\\boldsymbol{z}) \\big] - \\mathbb{E}_{q} \\big[ \\log p(\\boldsymbol{x}, \\boldsymbol{z}) \\big] + \\log p(\\boldsymbol{x})\n",
    "\\end{aligned}\n",
    "\n",
    "Ahora definamos evidence lower bound (ELBO) como una reorganización de los dos primeros términos:\n",
    "\n",
    "\\begin{aligned}\n",
    "ELBO &= \\mathbb{E}_{q} \\big[ \\log p(\\boldsymbol{x}, \\boldsymbol{z}) \\big] - \\mathbb{E}_{q} \\big[ \\log q(\\boldsymbol{z}) \\big] \n",
    "\\end{aligned}\n",
    "\n",
    "La divergencia KL queda así:\n",
    "\n",
    "\\begin{aligned}\n",
    "D_{\\text{KL}} \\big( q(\\boldsymbol{z}) || p(\\boldsymbol{z} | \\boldsymbol{x}) \\big) &= -ELBO + log(p(x)\n",
    "\\end{aligned}\n",
    "\n"
   ]
  },
  {
   "cell_type": "markdown",
   "metadata": {
    "slideshow": {
     "slide_type": "subslide"
    }
   },
   "source": [
    "$\\log p(\\boldsymbol{x})$ es una constante, no afecta la minimización. Es decir, *maximizar ELBO* es lo mismo que minimizar la divergencia KL\n",
    "\n",
    "\\begin{aligned}\n",
    "D_{\\text{KL}} \\big( q(\\boldsymbol{z}) || p(\\boldsymbol{z} | \\boldsymbol{x}) \\big) &= -ELBO + log(p(x)\n",
    "\\end{aligned}\n",
    "\n",
    "\n",
    "Se llama evidence lower bound por que es un limíte inferior del logaritmo de la evidencia \n",
    "($D_{\\text{KL}}$ siempre es positivo)\n",
    "\n",
    "\\begin{aligned}\n",
    "log(p(x) &= ELBO + D_{\\text{KL}} \\big( q(\\boldsymbol{z}) || p(\\boldsymbol{z} | \\boldsymbol{x}) \\big)\\\\\n",
    "&\\ge ELBO\n",
    "\\end{aligned}"
   ]
  },
  {
   "cell_type": "markdown",
   "metadata": {
    "slideshow": {
     "slide_type": "subslide"
    }
   },
   "source": [
    "La idea es maximizar ELBO respecto a los parámetros z. \n",
    "\n",
    "\\begin{aligned}\n",
    "ELBO &= \\mathbb{E}_{q} \\big[ \\log p(\\boldsymbol{x}, \\boldsymbol{z}) \\big] - \\mathbb{E}_{q} \\big[ \\log q(\\boldsymbol{z}) \\big] \n",
    "\\end{aligned}\n",
    "\n",
    "$p(x,z)$ la tenemos. ¿Cómo escogemos $q(z)$? Mitad ciencia mitad arte. \n",
    "\n",
    "<center><img src=\"img/3_CB/triple_self_portrait.jpg\" width = \"300\" height = '300'></center>\n",
    "<p style = 'font-size: 15px'>Fuente: https://displate.com/tonycenteno/displates </p>\n"
   ]
  },
  {
   "cell_type": "markdown",
   "metadata": {
    "slideshow": {
     "slide_type": "subslide"
    }
   },
   "source": [
    "Una posibilidad es con mean-field variational family. \n",
    "\n",
    "$$ q(z_1, ... z_m) = \\prod_{j=1}^{m} q(z_j)$$\n",
    "\n",
    "Es decir, cada parámetro $z_j$ tiene su propia distribución $q(z_j)$ (e.g. normal) y se asumen independientes.\n",
    "\n",
    "Recordar que $q$ es una aproximación a la posterior. En la verdadera posterior los parámetros sí se relacionan: la posterior es nuestro modelo generativo de los datos.\n"
   ]
  },
  {
   "cell_type": "markdown",
   "metadata": {
    "slideshow": {
     "slide_type": "subslide"
    }
   },
   "source": [
    "En suma variational inference es:\n",
    "\n",
    "* Un método para encontrar parametros de una distribución fácil de samplear que se parece a la posterior\n",
    "* Necesitamos la posterior p y la candidata (variational) q\n",
    "* Podemos minimizar la divergencia con métodos computacionales (e.g. gradient descent, o expectation maximization; este último no lo vimos)."
   ]
  },
  {
   "cell_type": "markdown",
   "metadata": {
    "slideshow": {
     "slide_type": "slide"
    }
   },
   "source": [
    "# Conclusión\n",
    "\n",
    "* Obtener expresiones matemáticas para la posterior es difícil (incluso imposible)\n",
    "\n",
    "* Usamos metodos computacionales. Vimos dos:\n",
    " "
   ]
  },
  {
   "cell_type": "markdown",
   "metadata": {
    "slideshow": {
     "slide_type": "fragment"
    }
   },
   "source": [
    "|MCMC|Variational Inference|\n",
    "|:-:|:-:|\n",
    "|Insesgada <br> Lenta| Sesgada <br> Rápida|"
   ]
  },
  {
   "cell_type": "code",
   "execution_count": 26,
   "metadata": {
    "slideshow": {
     "slide_type": "skip"
    }
   },
   "outputs": [
    {
     "name": "stdout",
     "output_type": "stream",
     "text": [
      "[NbConvertApp] Converting notebook 3_Comp_1.ipynb to slides\n",
      "[NbConvertApp] Writing 628603 bytes to 3_Comp_1.slides.html\n"
     ]
    }
   ],
   "source": [
    "!jupyter nbconvert --to slides --SlidesExporter.reveal_theme='solarized' --SlidesExporter.reveal_transition='none' --SlidesExporter.reveal_scroll=True 3_Comp_1.ipynb #Saves slide"
   ]
  },
  {
   "cell_type": "markdown",
   "metadata": {
    "slideshow": {
     "slide_type": "skip"
    }
   },
   "source": [
    "\n",
    "Para salvar las diapositivas a PDF (en Chrome), correr nbconvert para que abra las diapositivas en un servidor local (la transition y el theme son opcionales):\n",
    "\n",
    "!jupyter nbconvert --to slides --SlidesExporter.reveal_theme='solarized' --SlidesExporter.reveal_transition='convex' nombre_de_mi_notebook.ipynb --post serve\n",
    "\n",
    "Luego, a la dirección añadirle ?print-pdf después del .html:\n",
    "\n",
    "http://127.0.0.1:8000/nombre_de_mi_notebook.slides.html?print-pdf\n",
    "\n",
    "Y luego, imprimir y darle salvar como pdf"
   ]
  },
  {
   "cell_type": "code",
   "execution_count": null,
   "metadata": {
    "slideshow": {
     "slide_type": "skip"
    }
   },
   "outputs": [
    {
     "name": "stdout",
     "output_type": "stream",
     "text": [
      "[NbConvertApp] Converting notebook 3_Comp_1.ipynb to slides\n",
      "[NbConvertApp] Writing 628625 bytes to 3_Comp_1.slides.html\n",
      "[NbConvertApp] Redirecting reveal.js requests to https://cdnjs.cloudflare.com/ajax/libs/reveal.js/3.5.0\n",
      "Serving your slides at http://127.0.0.1:8000/3_Comp_1.slides.html\n",
      "Use Control-C to stop this server\n"
     ]
    }
   ],
   "source": [
    "#Para salvar a pdf\n",
    "!jupyter nbconvert --to slides --SlidesExporter.reveal_theme='solarized' --SlidesExporter.reveal_transition='convex' 3_Comp_1.ipynb --post serve"
   ]
  },
  {
   "cell_type": "markdown",
   "metadata": {
    "slideshow": {
     "slide_type": "skip"
    }
   },
   "source": [
    "# Anexos"
   ]
  },
  {
   "cell_type": "code",
   "execution_count": null,
   "metadata": {
    "slideshow": {
     "slide_type": "skip"
    }
   },
   "outputs": [],
   "source": [
    "array = np.linspace(0,100,300)\n",
    "mode1 = st.norm.pdf(array, loc=10, scale = 3)\n",
    "mode2 = st.norm.pdf(array, loc=30, scale = 6)\n",
    "mode3 = st.norm.pdf(array, loc=50, scale = 4)\n",
    "\n",
    "distribution = mode1+mode2+mode3\n",
    "fig, ax = plt.subplots(1,1, figsize = [6,5])\n",
    "ax.plot(array, distribution,'k-')\n",
    "ax.set_title('Pruebas para Acceso a la Universidad', \n",
    "            fontsize = 18)\n",
    "ax.set_ylabel('Densidad', fontsize=16)\n",
    "ax.set_xlabel('Puntajes', fontsize=16)\n",
    "#fig.savefig('img/3_CB/3modes.svg')"
   ]
  },
  {
   "cell_type": "code",
   "execution_count": null,
   "metadata": {
    "slideshow": {
     "slide_type": "skip"
    }
   },
   "outputs": [],
   "source": [
    "#Correr la anterior celda\n",
    "posterior = st.norm.pdf(array, loc=40, scale = 15)\n",
    "fig, ax = plt.subplots(1,1, figsize = [6,5])\n",
    "ax.plot(array, distribution,'k-', label = 'Data')\n",
    "ax.plot(array, posterior,'r-', label = 'Posterior')\n",
    "ax.set_title('Pruebas para Acceso a la Universidad', \n",
    "            fontsize = 18)\n",
    "ax.set_ylabel('Densidad', fontsize = 16)\n",
    "ax.set_xlabel('Puntajes', fontsize = 16)\n",
    "ax.legend(fontsize = 12)\n",
    "#fig.savefig('img/3_CB/3modes_posterior.svg')"
   ]
  },
  {
   "cell_type": "code",
   "execution_count": null,
   "metadata": {
    "slideshow": {
     "slide_type": "skip"
    }
   },
   "outputs": [],
   "source": [
    "dot_text = 'digraph G {rankdir=LR;\\\n",
    "                       Descanso -> Estudiar [label=0.1, fontsize=12];\\\n",
    "                       Descanso -> Gimnasio [label=0.3, fontsize=12];\\\n",
    "                       Estudiar -> Descanso [label=0.5, fontsize=12];\\\n",
    "                       Estudiar -> Gimnasio [label=0.2, fontsize=12];\\\n",
    "                       Gimnasio -> Descanso [label=0.75, fontsize=12];\\\n",
    "                       Gimnasio -> Estudiar [label=0.2, fontsize=12];\\\n",
    "                       Descanso -> Descanso [label=0.6, fontsize=12];\\\n",
    "                       Estudiar -> Estudiar [label=0.3, fontsize=12];\\\n",
    "                       Gimnasio -> Gimnasio [label=0.05, fontsize=12];\\\n",
    "                       Descanso [shape=circle];\\\n",
    "                       Estudiar [shape=circle];\\\n",
    "                       Gimnasio [shape=circle];\\\n",
    "                       }' #warning: use single quote at start and end; double quotes for labels\n",
    "src = Source(dot_text)\n",
    "#src.render('img/3_CB/markov1.gv', format ='svg', view=False);\n",
    "#display(src);"
   ]
  },
  {
   "cell_type": "code",
   "execution_count": null,
   "metadata": {
    "slideshow": {
     "slide_type": "skip"
    }
   },
   "outputs": [],
   "source": [
    "dot_text = 'digraph G {rankdir=LR;\\\n",
    "                       Tengo -> Una [label=0.65, fontsize=12];\\\n",
    "                       Tengo -> Oportunidad [label=0.345, fontsize=12];\\\n",
    "                       Una -> Tengo [label=0.05, fontsize=12];\\\n",
    "                       Una -> Oportunidad [label=0.9, fontsize=12];\\\n",
    "                       Oportunidad -> Tengo [label=0.1, fontsize=12];\\\n",
    "                       Oportunidad -> Una [label=0.85, fontsize=12];\\\n",
    "                       Tengo -> Tengo [label=0.05, fontsize=12];\\\n",
    "                       Una -> Una [label=0.05, fontsize=12];\\\n",
    "                       Oportunidad -> Oportunidad [label=0.05, fontsize=12];\\\n",
    "                       Tengo [shape=circle];\\\n",
    "                       Una [shape=circle];\\\n",
    "                       Oportunidad [shape=circle];\\\n",
    "                       }' #warning: use single quote at start and end; double quotes for labels\n",
    "src = Source(dot_text)\n",
    "#src.render('img/3_CB/markov2.gv', format ='svg', view=False);"
   ]
  },
  {
   "cell_type": "code",
   "execution_count": null,
   "metadata": {
    "slideshow": {
     "slide_type": "skip"
    }
   },
   "outputs": [],
   "source": [
    "dot_text = 'digraph G {rankdir=LR;\\\n",
    "                       \"Valor 1\" -> \"Valor 2\" [label=\"??\", fontsize=12];\\\n",
    "                       \"Valor 1\" -> \"Valor n\" [label=\"??\", fontsize=12];\\\n",
    "                       \"Valor 2\" -> \"Valor n\" [label=\"??\", fontsize=12];\\\n",
    "                       \"Valor 1\" -> \"Valor 1\" [label=\"??\", fontsize=12];\\\n",
    "                       \"Valor 2\" -> \"Valor 2\" [label=\"??\", fontsize=12];\\\n",
    "                       \"Valor n\" -> \"Valor n\" [label=\"??\", fontsize=12];\\\n",
    "                       \"Valor 1\" [shape=circle];\\\n",
    "                       \"Valor 2\" [shape=circle];\\\n",
    "                       \"Valor n\" [shape=circle];\\\n",
    "                       }' #warning: use single quote at start and end; double quotes for labels\n",
    "src = Source(dot_text)\n",
    "#src.render('img/3_CB/markov3.gv', format ='svg', view=False);\n",
    "src"
   ]
  },
  {
   "cell_type": "code",
   "execution_count": null,
   "metadata": {
    "slideshow": {
     "slide_type": "skip"
    }
   },
   "outputs": [],
   "source": [
    "fig = plt.figure(figsize=[8,6])\n",
    "ax = fig.gca(projection='3d')\n",
    "X, Y, Z = axes3d.get_test_data()\n",
    "ax.plot_surface(X, Y, Z, rstride=8, cstride=8, alpha=0.3)\n",
    "cset = ax.contour(X, Y, Z, zdir='z', offset=-100, cmap=cm.coolwarm)\n",
    "cset = ax.contour(X, Y, Z, zdir='x', offset=-40, cmap=cm.coolwarm)\n",
    "cset = ax.contour(X, Y, Z, zdir='y', offset=40, cmap=cm.coolwarm)\n",
    "\n",
    "ax.set_xlabel('Emociones', fontsize = 16)\n",
    "ax.set_xlim(-40, 40)\n",
    "ax.set_xticks([])\n",
    "ax.set_ylabel('Cognición', fontsize = 16)\n",
    "ax.set_ylim(-40, 40)\n",
    "ax.set_yticks([])\n",
    "ax.set_zlabel('Densidad \\n P(puntaje>75)', fontsize = 16)\n",
    "ax.set_zlim(-100, 100)\n",
    "ax.set_zticks([])\n",
    "\n",
    "#fig.savefig('img/3_CB/3Density.svg')\n",
    "#plt.show()"
   ]
  },
  {
   "cell_type": "code",
   "execution_count": null,
   "metadata": {
    "slideshow": {
     "slide_type": "skip"
    }
   },
   "outputs": [],
   "source": [
    "#Ejemplo Gibbs sampler para multivariada normal bidimensional\n",
    "#Parametros joint distribution\n",
    "mean_joint = [6, 25] #[impaciencia, confianza]\n",
    "corr = -0.6\n",
    "cov = [[1, corr], [corr, 1]]\n",
    "\n",
    "fig2 = plt.figure()\n",
    "rv = st.multivariate_normal(mean = mean_joint, cov = cov)\n",
    "samples = rv.rvs(1000)\n",
    "joint_p = sns.jointplot(samples[:,0], samples[:,1], kind=\"kde\", color = 'k')\n",
    "joint_p.set_axis_labels('Impaciencia', 'Confianza', fontsize=22)\n",
    "joint_p.savefig('img/3_CB/bivariate_normal.svg')\n",
    "\n",
    "\n",
    "#Algoritmo\n",
    "#Paso 1: valores iniciales\n",
    "conf_samp = st.uniform.rvs(20,30,1)\n",
    "impa_samp = st.uniform.rvs(0,10,1)\n",
    "niter = 300 #número de iteraciones\n",
    "joint = pd.DataFrame({'impaciencia': np.repeat(float('nan'),niter),\n",
    "                     'confianza': np.repeat(float('nan'),niter)})\n",
    "for i in range(niter):\n",
    "    #Paso 2: samplear un valor aleatorio de confianza\n",
    "    conf_samp = st.norm.rvs(mean_joint[1]+corr*(impa_samp-mean_joint[0]),1-corr**2,1)\n",
    "\n",
    "    #Paso 3: samplear un valor aleatorio de impaciencia\n",
    "    impa_samp = st.norm.rvs(mean_joint[0]+corr*(conf_samp-mean_joint[1]),1-corr**2,1)\n",
    "\n",
    "    joint.loc[i,'impaciencia'] = impa_samp\n",
    "    joint.loc[i,'confianza'] = conf_samp\n",
    "\n",
    "    \n",
    "imp = samples[:,0]\n",
    "conf = samples[:,1]\n",
    "xmin = imp.min()\n",
    "xmax = imp.max()\n",
    "ymin = conf.min()\n",
    "ymax = conf.max()\n",
    "X, Y = np.mgrid[xmin:xmax:100j, ymin:ymax:100j]\n",
    "positions = np.vstack([X.ravel(), Y.ravel()])\n",
    "values = np.vstack([imp, conf])\n",
    "kde = st.gaussian_kde(values)\n",
    "Z = np.reshape(kde(positions).T, X.shape)\n",
    "\n",
    "fig, ax = plt.subplots(figsize = [5,5])\n",
    "x = np.linspace(xmin,xmax,100)\n",
    "y = np.linspace(ymin,ymax,100)\n",
    "ax.contour(x, y, Z, cmap='gray')\n",
    "ax.set_xlim([2,10])\n",
    "ax.set_ylim([21,29])\n",
    "ax.set_xlabel('Impaciencia', fontsize = 18)\n",
    "ax.set_ylabel('Confianza', fontsize = 18)\n",
    "ax.grid(True, color='gray', alpha = 0.25)\n",
    "ax.set_facecolor([1,1,1])\n",
    "ax.plot(-100, -100, 'ro', alpha = 0.4, label='Muestra Gibbs')\n",
    "ax.legend(facecolor = 'white')\n",
    "def animate(i):\n",
    "    idx = int(i)\n",
    "    ax.plot(joint.loc[idx,'impaciencia'],\n",
    "            joint.loc[idx,'confianza'],\n",
    "            'ro', alpha = 0.4)\n",
    "\n",
    "\n",
    "# call the animator.  blit=True means only re-draw the parts that have changed.\n",
    "anim = animation.FuncAnimation(fig, animate, interval = 100, \n",
    "                               frames = len(joint.index), blit=False)\n",
    "writer = animation.PillowWriter(fps=15) \n",
    "#anim.save('img/3_CB/Gibbs_animation.gif', writer = writer); #Compress online"
   ]
  },
  {
   "cell_type": "code",
   "execution_count": null,
   "metadata": {
    "slideshow": {
     "slide_type": "skip"
    }
   },
   "outputs": [],
   "source": [
    "class scaled_inv_chi2:\n",
    "    # An scaled invese chi2 with v degrees of freedom and scale s\n",
    "    # is the same as an inverse gamma with alpha = v/2, beta = (v/2)*(s^2) \n",
    "    def pdf(x, v, s):\n",
    "        alpha = v/2 #shape\n",
    "        beta = v/2 * s**2 #scale\n",
    "        return st.invgamma.pdf(x, a=alpha, scale=beta)\n",
    "    \n",
    "    def cdf(x, v, s):\n",
    "        alpha = v/2 #shape\n",
    "        beta = v/2 * s**2 #scale\n",
    "        return st.invgamma.pdf(x, a=alpha, scale=beta)\n",
    "    \n",
    "    def rvs(v, s, size):\n",
    "        #random samle\n",
    "        alpha = v/2 #shape\n",
    "        beta = v/2 * s**2 #scale\n",
    "        return st.invgamma.rvs(a=alpha, scale=beta, size=size)"
   ]
  },
  {
   "cell_type": "code",
   "execution_count": 13,
   "metadata": {
    "slideshow": {
     "slide_type": "skip"
    }
   },
   "outputs": [
    {
     "name": "stderr",
     "output_type": "stream",
     "text": [
      "Warning: node 'a1', graph 'G' size too small for label\n",
      "Warning: node 'a2', graph 'G' size too small for label\n"
     ]
    },
    {
     "data": {
      "text/plain": [
       "'img/3_CB/mcmc_diagram.gv.svg'"
      ]
     },
     "execution_count": 13,
     "metadata": {},
     "output_type": "execute_result"
    }
   ],
   "source": [
    "dot_text = 'digraph G {rankdir=LR;\\\n",
    "           /* general properties*/\\\n",
    "           node [margin=0, fixedsize=true,\\\n",
    "                 height=0.5, width=0.5];\\\n",
    "           a1 -> a2 [label=\"1\", lblstyle=\"font=\\normalsize\"];\\\n",
    "           a1 -> a1 [label = \"0\", lblstyle=\"font=\\normalsize\"];\\\n",
    "           a2 -> a1 [label=\" \", label=\"$a$\", lblstyle=\"font=\\\\normalsize\"];\\\n",
    "           a2 -> a2 [label=\" \", label=\"$1-a$\", lblstyle=\"font=\\\\normalsize\"];\\\n",
    "           a1[shape=circle, label=\"$\\\\theta$\"]\\\n",
    "           a2[shape=circle, label=\"$1-\\\\theta$\"]\\\n",
    "        }' #warning: use single quote at start and end; double quotes for labels\n",
    "s = Source(dot_text, filename=\"img/3_CB/mcmc_diagram.gv\", format=\"svg\") #THIS IS NOT THE FINAL ONE\n",
    "s.view()\n",
    "#a = t/{1-t}\n",
    "\n",
    "\n",
    "#To typeset latex stuff on the image: \n",
    "#1) open svg in inkscape and write latex formulas. Export as pdf (click the one that says latex)\n",
    "#   to change fontsize of latex in inkscape write before the expression: t/{1-t}\n",
    "#        \\fontsize{34pt}{1em} $latex expression$ ... change #pt for size\n",
    "#2) go to overleaf or latex editor of choice and do this (https://castel.dev/post/lecture-notes-2/):\n",
    "#   2.1) In the preamble:\n",
    "#  \\usepackage{import}\n",
    "#  \\usepackage{xifthen}\n",
    "#  \\usepackage{pdfpages}\n",
    "#  \\usepackage{transparent}\n",
    "#  \\usepackage{graphics} \n",
    "\n",
    "#  \\newcommand{\\incfig}[1]{%\n",
    "#      \\def\\svgwidth{\\columnwidth}\n",
    "#      \\import{./figures/}{#1.pdf_tex} %PUT the inkscape .pdf_tex AND .pdf in a local folder called figures\n",
    "#  }\n",
    "#   2.2)In the body:\n",
    "#  \\begin{figure}[ht]\n",
    "#      \\centering\n",
    "#      \\scalebox{.65}{\\incfig{your_inkscape.pdf_tex}} #change scalebox proportion to rescale\n",
    "#      \\caption{Riemmans theorem}\n",
    "#      \\label{fig:riemmans-theorem}\n",
    "#  \\end{figure}\n"
   ]
  },
  {
   "cell_type": "code",
   "execution_count": null,
   "metadata": {
    "slideshow": {
     "slide_type": "skip"
    }
   },
   "outputs": [],
   "source": [
    "# Read data from a csv\n",
    "z_data = pd.read_csv('https://raw.githubusercontent.com/plotly/datasets/master/api_docs/mt_bruno_elevation.csv')\n",
    "\n",
    "fig = go.Figure(data=[go.Surface(z=z_data.values, showscale=False)])\n",
    "\n",
    "fig.update_layout(title='Panorama de una función', \n",
    "                  scene = dict(\n",
    "                    xaxis_title='X',\n",
    "                    yaxis_title='Y',\n",
    "                    zaxis_title='Z'),\n",
    "                  autosize=True,                  \n",
    "                  width=500, height=500,\n",
    "                  margin=dict(l=10, r=5, b=20, t=40));\n",
    "\n",
    "#fig.show()\n",
    "#fig.write_image(\"img/3_CB/3D_panorama.svg\")"
   ]
  },
  {
   "cell_type": "code",
   "execution_count": null,
   "metadata": {
    "slideshow": {
     "slide_type": "skip"
    }
   },
   "outputs": [],
   "source": [
    "#KL divergence\n",
    "xp = np.linspace(5, 16, 100)\n",
    "p = st.norm.pdf(xp, 10, 2)\n",
    "xq = np.linspace(6.5, 30, 100)\n",
    "q = st.norm.pdf(xq, 18, 4) \n",
    "xq2 = np.linspace(-5, 10, 100)\n",
    "q2 = st.norm.pdf(xq2, 2, 2) \n",
    "xq3 = np.linspace(-10, 25, 100)\n",
    "q3 = st.norm.pdf(xq3, 7, 6) \n",
    "\n",
    "fig, ax = plt.subplots(1,1, figsize=[7,4])\n",
    "ax.plot(xp, p, c='red', label = 'Posterior')\n",
    "ax.plot(xq, q, c='green', linestyle='-', label = 'Candidata 1');\n",
    "ax.plot(xq2, q2, c='green', linestyle='--', label = 'Candidata 2');\n",
    "ax.plot(xq3, q3, c='green', linestyle=':', label = 'Candidata 3');\n",
    "ax.set_xlabel('Parámetros', fontsize = 15)\n",
    "ax.set_ylabel('Densidad', fontsize = 15)\n",
    "ax.set_title('¿Cuál es más parecida al posterior?', fontsize = 20)\n",
    "ax.legend()\n",
    "fig.savefig('img/3_CB/KL_1.svg')\n",
    "#plt.close()\n",
    "\n",
    "def KL(x, p, q):\n",
    "    return p(x) * np.log( p(x) / q(x) ) \n",
    "p_pdf = st.norm(10,2).pdf\n",
    "q_pdf = st.norm(18,4).pdf\n",
    "q2_pdf = st.norm(2,2).pdf\n",
    "q3_pdf = st.norm(7,6).pdf\n",
    "KLq_int, err = integrate.quad(KL, -30, 30, args=(q_pdf,p_pdf)) \n",
    "KLq2_int, err = integrate.quad(KL, -30, 30, args=(q2_pdf,p_pdf)) \n",
    "KLq3_int, err = integrate.quad(KL, -30, 30, args=(q3_pdf,p_pdf)) \n",
    "\n",
    "fig, ax = plt.subplots(1,1, figsize=[7,4])\n",
    "ax.plot(xp, p, c='red', label = 'Posterior')\n",
    "ax.plot(xq, q, c='green', linestyle='-', label = 'Candidata 1. KL: '+str(round(KLq_int,2)));\n",
    "ax.plot(xq2, q2, c='green', linestyle='--', label = 'Candidata 2. KL: '+str(round(KLq2_int,2)));\n",
    "ax.plot(xq3, q3, c='green', linestyle=':', label = 'Candidata 3. KL: '+str(round(KLq3_int,2)));\n",
    "ax.set_xlabel('Parámetros', fontsize = 15)\n",
    "ax.set_ylabel('Densidad', fontsize = 15)\n",
    "ax.set_title('¿Cuál es más parecida al posterior?', fontsize = 20)\n",
    "ax.legend()\n",
    "fig.savefig('img/3_CB/KL_2.svg')\n",
    "#plt.close()"
   ]
  },
  {
   "cell_type": "code",
   "execution_count": null,
   "metadata": {
    "slideshow": {
     "slide_type": "skip"
    }
   },
   "outputs": [],
   "source": []
  }
 ],
 "metadata": {
  "kernelspec": {
   "display_name": "Python 3",
   "language": "python",
   "name": "python3"
  },
  "language_info": {
   "codemirror_mode": {
    "name": "ipython",
    "version": 3
   },
   "file_extension": ".py",
   "mimetype": "text/x-python",
   "name": "python",
   "nbconvert_exporter": "python",
   "pygments_lexer": "ipython3",
   "version": "3.8.5"
  },
  "rise": {
   "chalkboard": {
    "color": [
     "rgb(250, 0, 0)",
     "rgb(0, 250, 250)"
    ]
   },
   "enable_chalkboard": true,
   "scroll": true,
   "theme": "simple",
   "transition": "none"
  }
 },
 "nbformat": 4,
 "nbformat_minor": 4
}
